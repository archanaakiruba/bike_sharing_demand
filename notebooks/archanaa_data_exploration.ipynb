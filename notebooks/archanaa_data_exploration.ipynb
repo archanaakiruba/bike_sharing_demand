{
 "cells": [
  {
   "cell_type": "code",
   "execution_count": 2,
   "metadata": {},
   "outputs": [],
   "source": [
    "import pandas as pd\n",
    "import numpy as np\n",
    "import matplotlib.pyplot as plt\n",
    "import seaborn as sns\n",
    "import requests\n",
    "from datetime import datetime\n",
    "import plotly.express as px\n",
    "import json, csv\n",
    "from shapely.geometry import Point\n",
    "from shapely import Polygon"
   ]
  },
  {
   "attachments": {},
   "cell_type": "markdown",
   "metadata": {},
   "source": [
    "# Predicting Bike-Sharing Demand in Munich"
   ]
  },
  {
   "attachments": {},
   "cell_type": "markdown",
   "metadata": {},
   "source": [
    "## Data Collection"
   ]
  },
  {
   "cell_type": "code",
   "execution_count": 3,
   "metadata": {},
   "outputs": [
    {
     "name": "stderr",
     "output_type": "stream",
     "text": [
      "/tmp/ipykernel_14774/3714795283.py:4: DtypeWarning: Columns (7) have mixed types. Specify dtype option on import or set low_memory=False.\n",
      "  df = pd.read_csv(f'../raw_data/MVG_Rad_Fahrten_{year}.csv', sep=';')\n",
      "/tmp/ipykernel_14774/3714795283.py:4: DtypeWarning: Columns (7) have mixed types. Specify dtype option on import or set low_memory=False.\n",
      "  df = pd.read_csv(f'../raw_data/MVG_Rad_Fahrten_{year}.csv', sep=';')\n",
      "/tmp/ipykernel_14774/3714795283.py:4: DtypeWarning: Columns (7) have mixed types. Specify dtype option on import or set low_memory=False.\n",
      "  df = pd.read_csv(f'../raw_data/MVG_Rad_Fahrten_{year}.csv', sep=';')\n",
      "/tmp/ipykernel_14774/3714795283.py:4: DtypeWarning: Columns (7) have mixed types. Specify dtype option on import or set low_memory=False.\n",
      "  df = pd.read_csv(f'../raw_data/MVG_Rad_Fahrten_{year}.csv', sep=';')\n",
      "/tmp/ipykernel_14774/3714795283.py:4: DtypeWarning: Columns (7,9) have mixed types. Specify dtype option on import or set low_memory=False.\n",
      "  df = pd.read_csv(f'../raw_data/MVG_Rad_Fahrten_{year}.csv', sep=';')\n",
      "/tmp/ipykernel_14774/3714795283.py:4: DtypeWarning: Columns (9) have mixed types. Specify dtype option on import or set low_memory=False.\n",
      "  df = pd.read_csv(f'../raw_data/MVG_Rad_Fahrten_{year}.csv', sep=';')\n"
     ]
    },
    {
     "data": {
      "text/html": [
       "<div>\n",
       "<style scoped>\n",
       "    .dataframe tbody tr th:only-of-type {\n",
       "        vertical-align: middle;\n",
       "    }\n",
       "\n",
       "    .dataframe tbody tr th {\n",
       "        vertical-align: top;\n",
       "    }\n",
       "\n",
       "    .dataframe thead th {\n",
       "        text-align: right;\n",
       "    }\n",
       "</style>\n",
       "<table border=\"1\" class=\"dataframe\">\n",
       "  <thead>\n",
       "    <tr style=\"text-align: right;\">\n",
       "      <th></th>\n",
       "      <th>n_columns</th>\n",
       "      <th>n_rows</th>\n",
       "    </tr>\n",
       "    <tr>\n",
       "      <th>years</th>\n",
       "      <th></th>\n",
       "      <th></th>\n",
       "    </tr>\n",
       "  </thead>\n",
       "  <tbody>\n",
       "    <tr>\n",
       "      <th>2015</th>\n",
       "      <td>11</td>\n",
       "      <td>49812</td>\n",
       "    </tr>\n",
       "    <tr>\n",
       "      <th>2016</th>\n",
       "      <td>11</td>\n",
       "      <td>342395</td>\n",
       "    </tr>\n",
       "    <tr>\n",
       "      <th>2017</th>\n",
       "      <td>11</td>\n",
       "      <td>418982</td>\n",
       "    </tr>\n",
       "    <tr>\n",
       "      <th>2018</th>\n",
       "      <td>11</td>\n",
       "      <td>435868</td>\n",
       "    </tr>\n",
       "    <tr>\n",
       "      <th>2019</th>\n",
       "      <td>11</td>\n",
       "      <td>753678</td>\n",
       "    </tr>\n",
       "    <tr>\n",
       "      <th>2020</th>\n",
       "      <td>11</td>\n",
       "      <td>721752</td>\n",
       "    </tr>\n",
       "    <tr>\n",
       "      <th>2021</th>\n",
       "      <td>11</td>\n",
       "      <td>619573</td>\n",
       "    </tr>\n",
       "    <tr>\n",
       "      <th>2022</th>\n",
       "      <td>11</td>\n",
       "      <td>709144</td>\n",
       "    </tr>\n",
       "  </tbody>\n",
       "</table>\n",
       "</div>"
      ],
      "text/plain": [
       "       n_columns  n_rows\n",
       "years                   \n",
       "2015          11   49812\n",
       "2016          11  342395\n",
       "2017          11  418982\n",
       "2018          11  435868\n",
       "2019          11  753678\n",
       "2020          11  721752\n",
       "2021          11  619573\n",
       "2022          11  709144"
      ]
     },
     "execution_count": 3,
     "metadata": {},
     "output_type": "execute_result"
    }
   ],
   "source": [
    "dfs = []\n",
    "meta = {'years':[], 'n_columns':[], 'n_rows':[]}\n",
    "for year in range(2015,2023,1):\n",
    "    df = pd.read_csv(f'../raw_data/MVG_Rad_Fahrten_{year}.csv', sep=';')\n",
    "    cols = [col.strip() for col in df.columns]\n",
    "    df.columns = cols\n",
    "    dfs.append(df)\n",
    "    meta['years'].append(year)\n",
    "    meta['n_columns'].append(df.shape[1])\n",
    "    meta['n_rows'].append(df.shape[0])\n",
    "    \n",
    "meta_df = pd.DataFrame(meta).set_index('years')\n",
    "meta_df"
   ]
  },
  {
   "cell_type": "code",
   "execution_count": 4,
   "metadata": {},
   "outputs": [
    {
     "data": {
      "image/png": "[encoded data removed]",
      "text/plain": [
       "<Figure size 640x480 with 1 Axes>"
      ]
     },
     "metadata": {},
     "output_type": "display_data"
    }
   ],
   "source": [
    "# Data quantity for every year\n",
    "plt.bar(meta_df.index, meta_df['n_rows']);"
   ]
  },
  {
   "cell_type": "code",
   "execution_count": 5,
   "metadata": {},
   "outputs": [
    {
     "data": {
      "text/plain": [
       "years\n",
       "2015    True\n",
       "2016    True\n",
       "2017    True\n",
       "2018    True\n",
       "2019    True\n",
       "2020    True\n",
       "2021    True\n",
       "2022    True\n",
       "Name: n_columns, dtype: bool"
      ]
     },
     "execution_count": 5,
     "metadata": {},
     "output_type": "execute_result"
    }
   ],
   "source": [
    "# Columns available for every year\n",
    "meta_df['n_columns'] == 11"
   ]
  },
  {
   "cell_type": "code",
   "execution_count": 6,
   "metadata": {},
   "outputs": [],
   "source": [
    "def pre_process_df(df):\n",
    "  #vstrip column names\n",
    "  cols = [col.strip() for col in df.columns]\n",
    "  df.columns = cols\n",
    "\n",
    "  # remove column 'Row'\n",
    "  if 'Row' in df.columns:\n",
    "    df.drop(columns='Row', inplace=True)\n",
    "\n",
    "  # select relevant columns only\n",
    "  df = df[['STARTTIME', 'STARTLAT', 'STARTLON', 'RENTAL_IS_STATION', 'RENTAL_STATION_NAME']].copy()\n",
    "  \n",
    "  # make string replacements values\n",
    "  df_obj = df.select_dtypes(include='object')\n",
    "  df[df_obj.columns] = df_obj.applymap(lambda x: x.strip().replace(',', '.') if isinstance(x, str) else x)\n",
    "\n",
    "  # handle datetime\n",
    "  df.STARTTIME = pd.to_datetime(df.STARTTIME)\n",
    "\n",
    "  # handle numeric columns\n",
    "  df = df.dropna()\n",
    "  df.drop(df[df['RENTAL_IS_STATION'] == 'NULL'].index, inplace = True)\n",
    "  df[['STARTLAT', 'STARTLON', 'RENTAL_IS_STATION']] = df[['STARTLAT', 'STARTLON', 'RENTAL_IS_STATION']].astype(np.float32)\n",
    "  \n",
    "  return df"
   ]
  },
  {
   "cell_type": "code",
   "execution_count": 7,
   "metadata": {},
   "outputs": [
    {
     "name": "stdout",
     "output_type": "stream",
     "text": [
      "(2804130, 5)\n"
     ]
    },
    {
     "data": {
      "text/html": [
       "<div>\n",
       "<style scoped>\n",
       "    .dataframe tbody tr th:only-of-type {\n",
       "        vertical-align: middle;\n",
       "    }\n",
       "\n",
       "    .dataframe tbody tr th {\n",
       "        vertical-align: top;\n",
       "    }\n",
       "\n",
       "    .dataframe thead th {\n",
       "        text-align: right;\n",
       "    }\n",
       "</style>\n",
       "<table border=\"1\" class=\"dataframe\">\n",
       "  <thead>\n",
       "    <tr style=\"text-align: right;\">\n",
       "      <th></th>\n",
       "      <th>STARTTIME</th>\n",
       "      <th>STARTLAT</th>\n",
       "      <th>STARTLON</th>\n",
       "      <th>RENTAL_IS_STATION</th>\n",
       "      <th>RENTAL_STATION_NAME</th>\n",
       "    </tr>\n",
       "  </thead>\n",
       "  <tbody>\n",
       "    <tr>\n",
       "      <th>0</th>\n",
       "      <td>2019-01-01 00:26:00</td>\n",
       "      <td>48.11845</td>\n",
       "      <td>11.51556</td>\n",
       "      <td>1.0</td>\n",
       "      <td>Westpark</td>\n",
       "    </tr>\n",
       "    <tr>\n",
       "      <th>1</th>\n",
       "      <td>2019-01-01 00:32:00</td>\n",
       "      <td>48.13829</td>\n",
       "      <td>11.56943</td>\n",
       "      <td>0.0</td>\n",
       "      <td></td>\n",
       "    </tr>\n",
       "  </tbody>\n",
       "</table>\n",
       "</div>"
      ],
      "text/plain": [
       "            STARTTIME  STARTLAT  STARTLON  RENTAL_IS_STATION  \\\n",
       "0 2019-01-01 00:26:00  48.11845  11.51556                1.0   \n",
       "1 2019-01-01 00:32:00  48.13829  11.56943                0.0   \n",
       "\n",
       "  RENTAL_STATION_NAME  \n",
       "0            Westpark  \n",
       "1                      "
      ]
     },
     "execution_count": 7,
     "metadata": {},
     "output_type": "execute_result"
    }
   ],
   "source": [
    "dfs_preproc = []\n",
    "for df in dfs[4:]:\n",
    "  dfs_preproc.append(pre_process_df(df))\n",
    "\n",
    "df_all = pd.concat(dfs_preproc, axis=0).reset_index().drop(columns='index')\n",
    "print(df_all.shape)\n",
    "df_all.head(2)"
   ]
  },
  {
   "cell_type": "code",
   "execution_count": 8,
   "metadata": {},
   "outputs": [
    {
     "name": "stdout",
     "output_type": "stream",
     "text": [
      "<class 'pandas.core.frame.DataFrame'>\n",
      "RangeIndex: 2804130 entries, 0 to 2804129\n",
      "Data columns (total 5 columns):\n",
      " #   Column               Dtype         \n",
      "---  ------               -----         \n",
      " 0   STARTTIME            datetime64[ns]\n",
      " 1   STARTLAT             float32       \n",
      " 2   STARTLON             float32       \n",
      " 3   RENTAL_IS_STATION    float32       \n",
      " 4   RENTAL_STATION_NAME  object        \n",
      "dtypes: datetime64[ns](1), float32(3), object(1)\n",
      "memory usage: 74.9+ MB\n"
     ]
    }
   ],
   "source": [
    "df_all.info()"
   ]
  },
  {
   "cell_type": "code",
   "execution_count": 9,
   "metadata": {},
   "outputs": [
    {
     "data": {
      "text/plain": [
       "STARTTIME              0\n",
       "STARTLAT               0\n",
       "STARTLON               0\n",
       "RENTAL_IS_STATION      0\n",
       "RENTAL_STATION_NAME    0\n",
       "dtype: int64"
      ]
     },
     "execution_count": 9,
     "metadata": {},
     "output_type": "execute_result"
    }
   ],
   "source": [
    "df_all.isna().sum()"
   ]
  },
  {
   "cell_type": "code",
   "execution_count": 10,
   "metadata": {},
   "outputs": [],
   "source": [
    "# duplicate_count = df_all.duplicated().sum()\n",
    "# duplicate_count"
   ]
  },
  {
   "cell_type": "code",
   "execution_count": 11,
   "metadata": {},
   "outputs": [
    {
     "name": "stdout",
     "output_type": "stream",
     "text": [
      "RENTAL_IS_STATION\n",
      "0.0    1998237\n",
      "1.0     805893\n",
      "Name: count, dtype: int64\n"
     ]
    }
   ],
   "source": [
    "print(df_all['RENTAL_IS_STATION'].value_counts())"
   ]
  },
  {
   "cell_type": "code",
   "execution_count": 12,
   "metadata": {},
   "outputs": [],
   "source": [
    "df_all['year'] = df_all['STARTTIME'].map(lambda x : x.year)\n",
    "df_all['month'] = df_all['STARTTIME'].map(lambda x : x.month)\n",
    "df_all['hour'] = df_all['STARTTIME'].map(lambda x : x.hour)\n",
    "df_all['date_hour'] = df_all['STARTTIME'].dt.floor('H')"
   ]
  },
  {
   "cell_type": "code",
   "execution_count": 13,
   "metadata": {},
   "outputs": [
    {
     "name": "stdout",
     "output_type": "stream",
     "text": [
      "(2804130, 9)\n"
     ]
    },
    {
     "data": {
      "text/html": [
       "<div>\n",
       "<style scoped>\n",
       "    .dataframe tbody tr th:only-of-type {\n",
       "        vertical-align: middle;\n",
       "    }\n",
       "\n",
       "    .dataframe tbody tr th {\n",
       "        vertical-align: top;\n",
       "    }\n",
       "\n",
       "    .dataframe thead th {\n",
       "        text-align: right;\n",
       "    }\n",
       "</style>\n",
       "<table border=\"1\" class=\"dataframe\">\n",
       "  <thead>\n",
       "    <tr style=\"text-align: right;\">\n",
       "      <th></th>\n",
       "      <th>STARTTIME</th>\n",
       "      <th>STARTLAT</th>\n",
       "      <th>STARTLON</th>\n",
       "      <th>RENTAL_IS_STATION</th>\n",
       "      <th>RENTAL_STATION_NAME</th>\n",
       "      <th>year</th>\n",
       "      <th>month</th>\n",
       "      <th>hour</th>\n",
       "      <th>date_hour</th>\n",
       "    </tr>\n",
       "  </thead>\n",
       "  <tbody>\n",
       "    <tr>\n",
       "      <th>0</th>\n",
       "      <td>2019-01-01 00:26:00</td>\n",
       "      <td>48.118450</td>\n",
       "      <td>11.51556</td>\n",
       "      <td>1.0</td>\n",
       "      <td>Westpark</td>\n",
       "      <td>2019</td>\n",
       "      <td>1</td>\n",
       "      <td>0</td>\n",
       "      <td>2019-01-01</td>\n",
       "    </tr>\n",
       "    <tr>\n",
       "      <th>1</th>\n",
       "      <td>2019-01-01 00:32:00</td>\n",
       "      <td>48.138290</td>\n",
       "      <td>11.56943</td>\n",
       "      <td>0.0</td>\n",
       "      <td></td>\n",
       "      <td>2019</td>\n",
       "      <td>1</td>\n",
       "      <td>0</td>\n",
       "      <td>2019-01-01</td>\n",
       "    </tr>\n",
       "    <tr>\n",
       "      <th>2</th>\n",
       "      <td>2019-01-01 00:49:00</td>\n",
       "      <td>48.170971</td>\n",
       "      <td>11.57294</td>\n",
       "      <td>1.0</td>\n",
       "      <td>Scheidplatz</td>\n",
       "      <td>2019</td>\n",
       "      <td>1</td>\n",
       "      <td>0</td>\n",
       "      <td>2019-01-01</td>\n",
       "    </tr>\n",
       "  </tbody>\n",
       "</table>\n",
       "</div>"
      ],
      "text/plain": [
       "            STARTTIME   STARTLAT  STARTLON  RENTAL_IS_STATION  \\\n",
       "0 2019-01-01 00:26:00  48.118450  11.51556                1.0   \n",
       "1 2019-01-01 00:32:00  48.138290  11.56943                0.0   \n",
       "2 2019-01-01 00:49:00  48.170971  11.57294                1.0   \n",
       "\n",
       "  RENTAL_STATION_NAME  year  month  hour  date_hour  \n",
       "0            Westpark  2019      1     0 2019-01-01  \n",
       "1                      2019      1     0 2019-01-01  \n",
       "2         Scheidplatz  2019      1     0 2019-01-01  "
      ]
     },
     "execution_count": 13,
     "metadata": {},
     "output_type": "execute_result"
    }
   ],
   "source": [
    "print(df_all.shape)\n",
    "df_all.head(3)"
   ]
  },
  {
   "attachments": {},
   "cell_type": "markdown",
   "metadata": {},
   "source": [
    "## Adding Districts and Grouping by Hour"
   ]
  },
  {
   "cell_type": "code",
   "execution_count": 14,
   "metadata": {},
   "outputs": [],
   "source": [
    "polygons = {}\n",
    "# load coordinates for districts from csv and save them in a dict of Polygons\n",
    "with open('../raw_data/polygons.csv', 'r') as csvfile:\n",
    "    reader = csv.DictReader(csvfile)\n",
    "    for row in reader:\n",
    "        polygons[row['district']] = Polygon(json.loads(row['coordinates']))"
   ]
  },
  {
   "cell_type": "code",
   "execution_count": 19,
   "metadata": {},
   "outputs": [
    {
     "data": {
      "text/plain": [
       "{'Maxvorstadt': <POLYGON ((11.539 48.143, 11.54 48.143, 11.542 48.143, 11.544 48.142, 11.545...>,\n",
       " 'Schwabing-West': <POLYGON ((11.55 48.161, 11.55 48.161, 11.551 48.16, 11.551 48.16, 11.552 48...>,\n",
       " 'Au - Haidhausen': <POLYGON ((11.569 48.122, 11.569 48.122, 11.569 48.122, 11.57 48.122, 11.57 ...>,\n",
       " 'Sendling': <POLYGON ((11.535 48.13, 11.536 48.13, 11.536 48.13, 11.536 48.129, 11.536 4...>,\n",
       " 'Schwanthalerhöhe': <POLYGON ((11.526 48.137, 11.526 48.137, 11.526 48.136, 11.526 48.136, 11.52...>,\n",
       " 'Moosach': <POLYGON ((11.466 48.205, 11.466 48.204, 11.467 48.204, 11.468 48.204, 11.46...>,\n",
       " 'Berg am Laim': <POLYGON ((11.601 48.124, 11.602 48.124, 11.604 48.123, 11.606 48.121, 11.60...>,\n",
       " 'Trudering': <POLYGON ((11.644 48.115, 11.644 48.115, 11.646 48.114, 11.647 48.113, 11.64...>,\n",
       " 'Ramersdorf': <POLYGON ((7.14 50.718, 7.143 50.718, 7.145 50.717, 7.147 50.717, 7.147 50.7...>,\n",
       " 'Obergiesing': <POLYGON ((11.574 48.112, 11.574 48.112, 11.574 48.112, 11.574 48.112, 11.57...>,\n",
       " 'Untergiesing': <POLYGON ((11.541 48.078, 11.542 48.078, 11.542 48.078, 11.542 48.078, 11.54...>,\n",
       " 'Harlaching': <POLYGON ((11.541 48.078, 11.542 48.078, 11.542 48.078, 11.542 48.078, 11.54...>,\n",
       " 'Thalkirchen': <POLYGON ((11.528 48.083, 11.528 48.083, 11.529 48.083, 11.529 48.083, 11.52...>,\n",
       " 'Obersendling': <POLYGON ((11.503 48.092, 11.503 48.092, 11.503 48.09, 11.503 48.089, 11.503...>,\n",
       " 'Hadern': <POLYGON ((11.463 48.105, 11.464 48.105, 11.465 48.105, 11.467 48.105, 11.46...>,\n",
       " 'Pasing': <POLYGON ((11.436 48.137, 11.437 48.136, 11.439 48.135, 11.438 48.135, 11.43...>,\n",
       " 'Obermenzing': <POLYGON ((11.433 48.163, 11.437 48.161, 11.437 48.161, 11.438 48.16, 11.439...>,\n",
       " 'Lochhausen': <POLYGON ((11.379 48.179, 11.381 48.177, 11.38 48.176, 11.38 48.176, 11.381 ...>,\n",
       " 'Langwied': <POLYGON ((13.06 47.83, 13.06 47.83, 13.06 47.83, 13.06 47.83, 13.061 47.829...>,\n",
       " 'Feldmoching': <POLYGON ((11.477 48.22, 11.477 48.22, 11.478 48.22, 11.479 48.22, 11.48 48....>,\n",
       " 'Laim': <POLYGON ((11.483 48.131, 11.483 48.131, 11.483 48.13, 11.484 48.13, 11.484 ...>,\n",
       " 'Ludwigsvorstadt-Isarvorstadt': <POLYGON ((11.544 48.126, 11.544 48.126, 11.544 48.126, 11.544 48.126, 11.54...>,\n",
       " 'Ramersdorf-Perlach': <POLYGON ((11.595 48.115, 11.595 48.115, 11.595 48.115, 11.595 48.115, 11.59...>,\n",
       " 'Untermenzing-Allach': <POLYGON ((11.43 48.189, 11.431 48.188, 11.431 48.188, 11.431 48.188, 11.431...>,\n",
       " 'Hasenbergl-Lerchenau Ost': <POLYGON ((11.539 48.189, 11.539 48.189, 11.539 48.189, 11.539 48.189, 11.53...>,\n",
       " 'Südgiesing': <POLYGON ((11.585 48.1, 11.587 48.097, 11.588 48.095, 11.588 48.095, 11.588 ...>,\n",
       " 'Altstadt-Lehel': <POLYGON ((11.565 48.136, 11.565 48.136, 11.565 48.136, 11.565 48.136, 11.56...>,\n",
       " 'Sendling-Westpark': <POLYGON ((11.501 48.103, 11.501 48.103, 11.502 48.103, 11.502 48.102, 11.50...>,\n",
       " 'Neuhausen-Nymphenburg': <POLYGON ((11.481 48.158, 11.481 48.158, 11.481 48.158, 11.481 48.157, 11.48...>,\n",
       " 'Schwabing-Freimann': <POLYGON ((11.579 48.167, 11.579 48.167, 11.579 48.165, 11.579 48.164, 11.58...>,\n",
       " 'Pasing-Obermenzing': <POLYGON ((11.433 48.163, 11.437 48.161, 11.437 48.161, 11.438 48.16, 11.439...>,\n",
       " 'Aubing-Lochhausen-Langwied': <POLYGON ((11.361 48.158, 11.361 48.158, 11.361 48.158, 11.362 48.158, 11.36...>,\n",
       " 'Milbertshofen-Am Hart': <POLYGON ((11.538 48.168, 11.538 48.168, 11.539 48.168, 11.539 48.169, 11.54...>,\n",
       " 'Bogenhausen': <POLYGON ((11.595 48.142, 11.596 48.142, 11.596 48.142, 11.596 48.142, 11.59...>,\n",
       " 'Trudering-Riem': <POLYGON ((11.644 48.115, 11.644 48.115, 11.646 48.114, 11.647 48.113, 11.64...>,\n",
       " 'Untergiesing-Harlaching': <POLYGON ((11.541 48.078, 11.542 48.078, 11.542 48.078, 11.542 48.078, 11.54...>}"
      ]
     },
     "execution_count": 19,
     "metadata": {},
     "output_type": "execute_result"
    }
   ],
   "source": [
    "polygons"
   ]
  },
  {
   "cell_type": "code",
   "execution_count": 20,
   "metadata": {},
   "outputs": [
    {
     "ename": "",
     "evalue": "",
     "output_type": "error",
     "traceback": [
      "\u001b[1;31mCanceled future for execute_request message before replies were done"
     ]
    },
    {
     "ename": "",
     "evalue": "",
     "output_type": "error",
     "traceback": [
      "\u001b[1;31mThe Kernel crashed while executing code in the the current cell or a previous cell. Please review the code in the cell(s) to identify a possible cause of the failure. Click <a href='https://aka.ms/vscodeJupyterKernelCrash'>here</a> for more info. View Jupyter <a href='command:jupyter.viewOutput'>log</a> for further details."
     ]
    }
   ],
   "source": [
    "df_all['geo_points'] = df_all[['STARTLON', 'STARTLAT']].apply(lambda x: Point(x.STARTLON, x.STARTLAT), axis=1)\n",
    "\n",
    "for district, poly in polygons.items():\n",
    "    df_all[district] = df_all.apply(lambda x: poly.contains(x.geo_points), axis=1)\n",
    "    \n",
    "df_all.head(3)"
   ]
  },
  {
   "cell_type": "code",
   "execution_count": null,
   "metadata": {},
   "outputs": [],
   "source": [
    "df_all[['STARTTIME', 'date_hour']] = df_all[['STARTTIME', 'date_hour']].apply(pd.to_datetime)\n",
    "\n",
    "relevant_cols = list(set(df_all.columns) - set(['STARTTIME', 'STARTLAT', 'STARTLON', 'geo_points']))\n",
    "agg_dict = {col: np.mean \n",
    "            if col in ['RENTAL_IS_STATION', 'year', 'month', 'hour', 'date_hour'] \n",
    "            else np.sum \n",
    "            for col in relevant_cols}\n",
    "\n",
    "df_by_hour = df_all[relevant_cols].groupby('date_hour').agg(agg_dict)\n",
    "df_by_hour.reset_index(drop=True, inplace=True)\n",
    "print(df_by_hour.shape)\n",
    "df_by_hour.head()"
   ]
  },
  {
   "attachments": {},
   "cell_type": "markdown",
   "metadata": {},
   "source": [
    "## Aggregating with Weather Data"
   ]
  },
  {
   "cell_type": "code",
   "execution_count": null,
   "metadata": {},
   "outputs": [],
   "source": [
    "url = \"https://archive-api.open-meteo.com/v1/era5\"\n",
    "params = {\n",
    "    'latitude': 48.14,\n",
    "    'longitude': 11.58, \n",
    "    'start_date': '2019-01-01',\n",
    "    'end_date': '2022-12-31',\n",
    "    'hourly': ['temperature_2m', 'relativehumidity_2m', 'apparent_temperature', 'windspeed_10m', 'precipitation']\n",
    "}\n",
    "\n",
    "weather_data = requests.get(url, params=params).json()"
   ]
  },
  {
   "cell_type": "code",
   "execution_count": null,
   "metadata": {},
   "outputs": [],
   "source": [
    "weather_data_hourly = weather_data['hourly']\n",
    "df_weather = pd.DataFrame(weather_data_hourly)\n",
    "print(df_weather.shape)\n",
    "df_weather.head()"
   ]
  },
  {
   "cell_type": "code",
   "execution_count": null,
   "metadata": {},
   "outputs": [],
   "source": [
    "df_weather['time'] = pd.to_datetime(df_weather['time'])\n",
    "\n",
    "data = df_by_hour.merge(df_weather, left_on='date_hour', right_on='time', how='left').drop(columns='time')\n",
    "print(data.shape)\n",
    "data.head(2)"
   ]
  },
  {
   "cell_type": "code",
   "execution_count": null,
   "metadata": {},
   "outputs": [],
   "source": [
    "data['date_hour'] = data['date_hour'].apply(pd.to_datetime)\n",
    "data.head(2)"
   ]
  },
  {
   "cell_type": "code",
   "execution_count": null,
   "metadata": {},
   "outputs": [],
   "source": [
    "data.columns"
   ]
  }
 ],
 "metadata": {
  "kernelspec": {
   "display_name": "bike_sharing_demand",
   "language": "python",
   "name": "python3"
  },
  "language_info": {
   "codemirror_mode": {
    "name": "ipython",
    "version": 3
   },
   "file_extension": ".py",
   "mimetype": "text/x-python",
   "name": "python",
   "nbconvert_exporter": "python",
   "pygments_lexer": "ipython3",
   "version": "3.10.6"
  },
  "orig_nbformat": 4
 },
 "nbformat": 4,
 "nbformat_minor": 2
}
