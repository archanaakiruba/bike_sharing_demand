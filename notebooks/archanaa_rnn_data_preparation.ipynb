{
  "cells": [
    {
      "cell_type": "code",
      "execution_count": 1,
      "metadata": {
        "id": "qnjUbQOfxsJC"
      },
      "outputs": [],
      "source": [
        "import pandas as pd\n",
        "import numpy as np\n",
        "import matplotlib.pyplot as plt\n",
        "import seaborn as sns\n",
        "\n",
        "# import sys\n",
        "# sys.path.append('../')\n",
        "\n",
        "# from bikesharing.interface.main import preprocess\n",
        "# from bikesharing.params import *"
      ]
    },
    {
      "cell_type": "code",
      "source": [
        "X, y = preprocess()\n",
        "print(X.shape)\n",
        "print(y.shape)"
      ],
      "metadata": {
        "id": "z6_rMNg6D5Er"
      },
      "execution_count": null,
      "outputs": []
    },
    {
      "cell_type": "code",
      "execution_count": null,
      "metadata": {
        "id": "-wnza1XrxsJE",
        "outputId": "5d2c1efb-1d4f-4cb1-d2bc-606fef765a68"
      },
      "outputs": [
        {
          "data": {
            "text/html": [
              "<div>\n",
              "<style scoped>\n",
              "    .dataframe tbody tr th:only-of-type {\n",
              "        vertical-align: middle;\n",
              "    }\n",
              "\n",
              "    .dataframe tbody tr th {\n",
              "        vertical-align: top;\n",
              "    }\n",
              "\n",
              "    .dataframe thead th {\n",
              "        text-align: right;\n",
              "    }\n",
              "</style>\n",
              "<table border=\"1\" class=\"dataframe\">\n",
              "  <thead>\n",
              "    <tr style=\"text-align: right;\">\n",
              "      <th></th>\n",
              "      <th>temperature_2m</th>\n",
              "      <th>relativehumidity_2m</th>\n",
              "      <th>apparent_temperature</th>\n",
              "      <th>windspeed_10m</th>\n",
              "      <th>precipitation</th>\n",
              "      <th>hour_sin</th>\n",
              "      <th>hour_cos</th>\n",
              "      <th>month_sin</th>\n",
              "      <th>month_cos</th>\n",
              "      <th>day_sin</th>\n",
              "      <th>day_cos</th>\n",
              "      <th>is_holiday</th>\n",
              "      <th>is_weekend</th>\n",
              "    </tr>\n",
              "  </thead>\n",
              "  <tbody>\n",
              "    <tr>\n",
              "      <th>0</th>\n",
              "      <td>0.355408</td>\n",
              "      <td>1.000000</td>\n",
              "      <td>0.342007</td>\n",
              "      <td>0.227848</td>\n",
              "      <td>0.017391</td>\n",
              "      <td>0.629410</td>\n",
              "      <td>0.982963</td>\n",
              "      <td>0.75</td>\n",
              "      <td>0.933013</td>\n",
              "      <td>0.600779</td>\n",
              "      <td>0.989739</td>\n",
              "      <td>1</td>\n",
              "      <td>0</td>\n",
              "    </tr>\n",
              "    <tr>\n",
              "      <th>1</th>\n",
              "      <td>0.357616</td>\n",
              "      <td>0.987013</td>\n",
              "      <td>0.340149</td>\n",
              "      <td>0.245570</td>\n",
              "      <td>0.008696</td>\n",
              "      <td>0.750000</td>\n",
              "      <td>0.933013</td>\n",
              "      <td>0.75</td>\n",
              "      <td>0.933013</td>\n",
              "      <td>0.600779</td>\n",
              "      <td>0.989739</td>\n",
              "      <td>1</td>\n",
              "      <td>0</td>\n",
              "    </tr>\n",
              "    <tr>\n",
              "      <th>2</th>\n",
              "      <td>0.359823</td>\n",
              "      <td>1.000000</td>\n",
              "      <td>0.336431</td>\n",
              "      <td>0.303797</td>\n",
              "      <td>0.017391</td>\n",
              "      <td>0.853553</td>\n",
              "      <td>0.853553</td>\n",
              "      <td>0.75</td>\n",
              "      <td>0.933013</td>\n",
              "      <td>0.600779</td>\n",
              "      <td>0.989739</td>\n",
              "      <td>1</td>\n",
              "      <td>0</td>\n",
              "    </tr>\n",
              "    <tr>\n",
              "      <th>3</th>\n",
              "      <td>0.359823</td>\n",
              "      <td>0.987013</td>\n",
              "      <td>0.332714</td>\n",
              "      <td>0.341772</td>\n",
              "      <td>0.008696</td>\n",
              "      <td>0.933013</td>\n",
              "      <td>0.750000</td>\n",
              "      <td>0.75</td>\n",
              "      <td>0.933013</td>\n",
              "      <td>0.600779</td>\n",
              "      <td>0.989739</td>\n",
              "      <td>1</td>\n",
              "      <td>0</td>\n",
              "    </tr>\n",
              "    <tr>\n",
              "      <th>4</th>\n",
              "      <td>0.359823</td>\n",
              "      <td>1.000000</td>\n",
              "      <td>0.332714</td>\n",
              "      <td>0.356962</td>\n",
              "      <td>0.000000</td>\n",
              "      <td>0.982963</td>\n",
              "      <td>0.629410</td>\n",
              "      <td>0.75</td>\n",
              "      <td>0.933013</td>\n",
              "      <td>0.600779</td>\n",
              "      <td>0.989739</td>\n",
              "      <td>1</td>\n",
              "      <td>0</td>\n",
              "    </tr>\n",
              "  </tbody>\n",
              "</table>\n",
              "</div>"
            ],
            "text/plain": [
              "   temperature_2m  relativehumidity_2m  apparent_temperature  windspeed_10m  \\\n",
              "0        0.355408             1.000000              0.342007       0.227848   \n",
              "1        0.357616             0.987013              0.340149       0.245570   \n",
              "2        0.359823             1.000000              0.336431       0.303797   \n",
              "3        0.359823             0.987013              0.332714       0.341772   \n",
              "4        0.359823             1.000000              0.332714       0.356962   \n",
              "\n",
              "   precipitation  hour_sin  hour_cos  month_sin  month_cos   day_sin  \\\n",
              "0       0.017391  0.629410  0.982963       0.75   0.933013  0.600779   \n",
              "1       0.008696  0.750000  0.933013       0.75   0.933013  0.600779   \n",
              "2       0.017391  0.853553  0.853553       0.75   0.933013  0.600779   \n",
              "3       0.008696  0.933013  0.750000       0.75   0.933013  0.600779   \n",
              "4       0.000000  0.982963  0.629410       0.75   0.933013  0.600779   \n",
              "\n",
              "    day_cos  is_holiday  is_weekend  \n",
              "0  0.989739           1           0  \n",
              "1  0.989739           1           0  \n",
              "2  0.989739           1           0  \n",
              "3  0.989739           1           0  \n",
              "4  0.989739           1           0  "
            ]
          },
          "execution_count": 3,
          "metadata": {},
          "output_type": "execute_result"
        }
      ],
      "source": [
        "X.head(5)"
      ]
    },
    {
      "cell_type": "code",
      "execution_count": null,
      "metadata": {
        "id": "VkfUNKoTxsJF",
        "outputId": "da9a3b9a-fe30-4991-950c-ce299995dcee"
      },
      "outputs": [
        {
          "data": {
            "text/html": [
              "<div>\n",
              "<style scoped>\n",
              "    .dataframe tbody tr th:only-of-type {\n",
              "        vertical-align: middle;\n",
              "    }\n",
              "\n",
              "    .dataframe tbody tr th {\n",
              "        vertical-align: top;\n",
              "    }\n",
              "\n",
              "    .dataframe thead th {\n",
              "        text-align: right;\n",
              "    }\n",
              "</style>\n",
              "<table border=\"1\" class=\"dataframe\">\n",
              "  <thead>\n",
              "    <tr style=\"text-align: right;\">\n",
              "      <th></th>\n",
              "      <th>Altstadt-Lehel</th>\n",
              "      <th>Au - Haidhausen</th>\n",
              "      <th>Aubing-Lochhausen-Langwied</th>\n",
              "      <th>Berg am Laim</th>\n",
              "      <th>Bogenhausen</th>\n",
              "      <th>Feldmoching</th>\n",
              "      <th>Hadern</th>\n",
              "      <th>Harlaching</th>\n",
              "      <th>Hasenbergl-Lerchenau Ost</th>\n",
              "      <th>Laim</th>\n",
              "      <th>...</th>\n",
              "      <th>Schwanthalerhöhe</th>\n",
              "      <th>Sendling</th>\n",
              "      <th>Sendling-Westpark</th>\n",
              "      <th>Südgiesing</th>\n",
              "      <th>Thalkirchen</th>\n",
              "      <th>Trudering</th>\n",
              "      <th>Trudering-Riem</th>\n",
              "      <th>Untergiesing</th>\n",
              "      <th>Untergiesing-Harlaching</th>\n",
              "      <th>Untermenzing-Allach</th>\n",
              "    </tr>\n",
              "  </thead>\n",
              "  <tbody>\n",
              "    <tr>\n",
              "      <th>0</th>\n",
              "      <td>1.0</td>\n",
              "      <td>0.0</td>\n",
              "      <td>0.0</td>\n",
              "      <td>0.0</td>\n",
              "      <td>0.0</td>\n",
              "      <td>0.0</td>\n",
              "      <td>0.0</td>\n",
              "      <td>0.0</td>\n",
              "      <td>0.0</td>\n",
              "      <td>0.0</td>\n",
              "      <td>...</td>\n",
              "      <td>0.0</td>\n",
              "      <td>0.0</td>\n",
              "      <td>2.0</td>\n",
              "      <td>0.0</td>\n",
              "      <td>0.0</td>\n",
              "      <td>0.0</td>\n",
              "      <td>0.0</td>\n",
              "      <td>0.0</td>\n",
              "      <td>0.0</td>\n",
              "      <td>0.0</td>\n",
              "    </tr>\n",
              "    <tr>\n",
              "      <th>1</th>\n",
              "      <td>0.0</td>\n",
              "      <td>0.0</td>\n",
              "      <td>0.0</td>\n",
              "      <td>0.0</td>\n",
              "      <td>2.0</td>\n",
              "      <td>0.0</td>\n",
              "      <td>0.0</td>\n",
              "      <td>0.0</td>\n",
              "      <td>0.0</td>\n",
              "      <td>0.0</td>\n",
              "      <td>...</td>\n",
              "      <td>0.0</td>\n",
              "      <td>2.0</td>\n",
              "      <td>0.0</td>\n",
              "      <td>0.0</td>\n",
              "      <td>0.0</td>\n",
              "      <td>0.0</td>\n",
              "      <td>0.0</td>\n",
              "      <td>1.0</td>\n",
              "      <td>1.0</td>\n",
              "      <td>0.0</td>\n",
              "    </tr>\n",
              "    <tr>\n",
              "      <th>2</th>\n",
              "      <td>1.0</td>\n",
              "      <td>1.0</td>\n",
              "      <td>0.0</td>\n",
              "      <td>0.0</td>\n",
              "      <td>2.0</td>\n",
              "      <td>0.0</td>\n",
              "      <td>0.0</td>\n",
              "      <td>0.0</td>\n",
              "      <td>0.0</td>\n",
              "      <td>3.0</td>\n",
              "      <td>...</td>\n",
              "      <td>0.0</td>\n",
              "      <td>5.0</td>\n",
              "      <td>0.0</td>\n",
              "      <td>0.0</td>\n",
              "      <td>0.0</td>\n",
              "      <td>0.0</td>\n",
              "      <td>0.0</td>\n",
              "      <td>1.0</td>\n",
              "      <td>1.0</td>\n",
              "      <td>0.0</td>\n",
              "    </tr>\n",
              "    <tr>\n",
              "      <th>3</th>\n",
              "      <td>0.0</td>\n",
              "      <td>4.0</td>\n",
              "      <td>0.0</td>\n",
              "      <td>0.0</td>\n",
              "      <td>0.0</td>\n",
              "      <td>0.0</td>\n",
              "      <td>0.0</td>\n",
              "      <td>0.0</td>\n",
              "      <td>0.0</td>\n",
              "      <td>1.0</td>\n",
              "      <td>...</td>\n",
              "      <td>3.0</td>\n",
              "      <td>0.0</td>\n",
              "      <td>0.0</td>\n",
              "      <td>0.0</td>\n",
              "      <td>0.0</td>\n",
              "      <td>0.0</td>\n",
              "      <td>0.0</td>\n",
              "      <td>1.0</td>\n",
              "      <td>1.0</td>\n",
              "      <td>0.0</td>\n",
              "    </tr>\n",
              "    <tr>\n",
              "      <th>4</th>\n",
              "      <td>2.0</td>\n",
              "      <td>1.0</td>\n",
              "      <td>0.0</td>\n",
              "      <td>0.0</td>\n",
              "      <td>0.0</td>\n",
              "      <td>0.0</td>\n",
              "      <td>0.0</td>\n",
              "      <td>0.0</td>\n",
              "      <td>0.0</td>\n",
              "      <td>1.0</td>\n",
              "      <td>...</td>\n",
              "      <td>1.0</td>\n",
              "      <td>0.0</td>\n",
              "      <td>1.0</td>\n",
              "      <td>0.0</td>\n",
              "      <td>0.0</td>\n",
              "      <td>0.0</td>\n",
              "      <td>0.0</td>\n",
              "      <td>0.0</td>\n",
              "      <td>0.0</td>\n",
              "      <td>0.0</td>\n",
              "    </tr>\n",
              "  </tbody>\n",
              "</table>\n",
              "<p>5 rows × 34 columns</p>\n",
              "</div>"
            ],
            "text/plain": [
              "   Altstadt-Lehel  Au - Haidhausen  Aubing-Lochhausen-Langwied  Berg am Laim  \\\n",
              "0             1.0              0.0                         0.0           0.0   \n",
              "1             0.0              0.0                         0.0           0.0   \n",
              "2             1.0              1.0                         0.0           0.0   \n",
              "3             0.0              4.0                         0.0           0.0   \n",
              "4             2.0              1.0                         0.0           0.0   \n",
              "\n",
              "   Bogenhausen  Feldmoching  Hadern  Harlaching  Hasenbergl-Lerchenau Ost  \\\n",
              "0          0.0          0.0     0.0         0.0                       0.0   \n",
              "1          2.0          0.0     0.0         0.0                       0.0   \n",
              "2          2.0          0.0     0.0         0.0                       0.0   \n",
              "3          0.0          0.0     0.0         0.0                       0.0   \n",
              "4          0.0          0.0     0.0         0.0                       0.0   \n",
              "\n",
              "   Laim  ...  Schwanthalerhöhe  Sendling  Sendling-Westpark  Südgiesing  \\\n",
              "0   0.0  ...               0.0       0.0                2.0         0.0   \n",
              "1   0.0  ...               0.0       2.0                0.0         0.0   \n",
              "2   3.0  ...               0.0       5.0                0.0         0.0   \n",
              "3   1.0  ...               3.0       0.0                0.0         0.0   \n",
              "4   1.0  ...               1.0       0.0                1.0         0.0   \n",
              "\n",
              "   Thalkirchen  Trudering  Trudering-Riem  Untergiesing  \\\n",
              "0          0.0        0.0             0.0           0.0   \n",
              "1          0.0        0.0             0.0           1.0   \n",
              "2          0.0        0.0             0.0           1.0   \n",
              "3          0.0        0.0             0.0           1.0   \n",
              "4          0.0        0.0             0.0           0.0   \n",
              "\n",
              "   Untergiesing-Harlaching  Untermenzing-Allach  \n",
              "0                      0.0                  0.0  \n",
              "1                      1.0                  0.0  \n",
              "2                      1.0                  0.0  \n",
              "3                      1.0                  0.0  \n",
              "4                      0.0                  0.0  \n",
              "\n",
              "[5 rows x 34 columns]"
            ]
          },
          "execution_count": 4,
          "metadata": {},
          "output_type": "execute_result"
        }
      ],
      "source": [
        "y.head(5)"
      ]
    },
    {
      "cell_type": "code",
      "execution_count": null,
      "metadata": {
        "id": "AybV6bfYxsJF",
        "outputId": "e5e5415b-d79c-49ef-a657-3dc6c02c4d5b"
      },
      "outputs": [
        {
          "name": "stdout",
          "output_type": "stream",
          "text": [
            "(35040, 47)\n",
            "   temperature_2m  relativehumidity_2m  apparent_temperature  windspeed_10m  \\\n",
            "0        0.355408             1.000000              0.342007       0.227848   \n",
            "1        0.357616             0.987013              0.340149       0.245570   \n",
            "2        0.359823             1.000000              0.336431       0.303797   \n",
            "\n",
            "   precipitation  hour_sin  hour_cos  month_sin  month_cos   day_sin  ...  \\\n",
            "0       0.017391  0.629410  0.982963       0.75   0.933013  0.600779  ...   \n",
            "1       0.008696  0.750000  0.933013       0.75   0.933013  0.600779  ...   \n",
            "2       0.017391  0.853553  0.853553       0.75   0.933013  0.600779  ...   \n",
            "\n",
            "   Schwanthalerhöhe  Sendling  Sendling-Westpark  Südgiesing  Thalkirchen  \\\n",
            "0               0.0       0.0                2.0         0.0          0.0   \n",
            "1               0.0       2.0                0.0         0.0          0.0   \n",
            "2               0.0       5.0                0.0         0.0          0.0   \n",
            "\n",
            "   Trudering  Trudering-Riem  Untergiesing  Untergiesing-Harlaching  \\\n",
            "0        0.0             0.0           0.0                      0.0   \n",
            "1        0.0             0.0           1.0                      1.0   \n",
            "2        0.0             0.0           1.0                      1.0   \n",
            "\n",
            "   Untermenzing-Allach  \n",
            "0                  0.0  \n",
            "1                  0.0  \n",
            "2                  0.0  \n",
            "\n",
            "[3 rows x 47 columns]\n"
          ]
        }
      ],
      "source": [
        "data = pd.concat([X, y], axis=1)\n",
        "print(data.shape)\n",
        "print(data.head(3))"
      ]
    },
    {
      "cell_type": "code",
      "execution_count": 2,
      "metadata": {
        "colab": {
          "base_uri": "https://localhost:8080/",
          "height": 240
        },
        "id": "TPjVtFaExsJF",
        "outputId": "68e793a7-8c7c-42b6-a019-8a9b7d0c4d3a"
      },
      "outputs": [
        {
          "output_type": "stream",
          "name": "stdout",
          "text": [
            "(35040, 47)\n"
          ]
        },
        {
          "output_type": "execute_result",
          "data": {
            "text/plain": [
              "   temperature_2m  relativehumidity_2m  apparent_temperature  windspeed_10m  \\\n",
              "0        0.355408             1.000000              0.342007       0.227848   \n",
              "1        0.357616             0.987013              0.340149       0.245570   \n",
              "\n",
              "   precipitation  hour_sin  hour_cos  month_sin  month_cos   day_sin  ...  \\\n",
              "0       0.017391   0.62941  0.982963       0.75   0.933013  0.600779  ...   \n",
              "1       0.008696   0.75000  0.933013       0.75   0.933013  0.600779  ...   \n",
              "\n",
              "   Schwanthalerhöhe  Sendling  Sendling-Westpark  Südgiesing  Thalkirchen  \\\n",
              "0               0.0       0.0                2.0         0.0          0.0   \n",
              "1               0.0       2.0                0.0         0.0          0.0   \n",
              "\n",
              "   Trudering  Trudering-Riem  Untergiesing  Untergiesing-Harlaching  \\\n",
              "0        0.0             0.0           0.0                      0.0   \n",
              "1        0.0             0.0           1.0                      1.0   \n",
              "\n",
              "   Untermenzing-Allach  \n",
              "0                  0.0  \n",
              "1                  0.0  \n",
              "\n",
              "[2 rows x 47 columns]"
            ],
            "text/html": [
              "\n",
              "  <div id=\"df-78e02394-0992-4386-bc4b-685de20b9765\">\n",
              "    <div class=\"colab-df-container\">\n",
              "      <div>\n",
              "<style scoped>\n",
              "    .dataframe tbody tr th:only-of-type {\n",
              "        vertical-align: middle;\n",
              "    }\n",
              "\n",
              "    .dataframe tbody tr th {\n",
              "        vertical-align: top;\n",
              "    }\n",
              "\n",
              "    .dataframe thead th {\n",
              "        text-align: right;\n",
              "    }\n",
              "</style>\n",
              "<table border=\"1\" class=\"dataframe\">\n",
              "  <thead>\n",
              "    <tr style=\"text-align: right;\">\n",
              "      <th></th>\n",
              "      <th>temperature_2m</th>\n",
              "      <th>relativehumidity_2m</th>\n",
              "      <th>apparent_temperature</th>\n",
              "      <th>windspeed_10m</th>\n",
              "      <th>precipitation</th>\n",
              "      <th>hour_sin</th>\n",
              "      <th>hour_cos</th>\n",
              "      <th>month_sin</th>\n",
              "      <th>month_cos</th>\n",
              "      <th>day_sin</th>\n",
              "      <th>...</th>\n",
              "      <th>Schwanthalerhöhe</th>\n",
              "      <th>Sendling</th>\n",
              "      <th>Sendling-Westpark</th>\n",
              "      <th>Südgiesing</th>\n",
              "      <th>Thalkirchen</th>\n",
              "      <th>Trudering</th>\n",
              "      <th>Trudering-Riem</th>\n",
              "      <th>Untergiesing</th>\n",
              "      <th>Untergiesing-Harlaching</th>\n",
              "      <th>Untermenzing-Allach</th>\n",
              "    </tr>\n",
              "  </thead>\n",
              "  <tbody>\n",
              "    <tr>\n",
              "      <th>0</th>\n",
              "      <td>0.355408</td>\n",
              "      <td>1.000000</td>\n",
              "      <td>0.342007</td>\n",
              "      <td>0.227848</td>\n",
              "      <td>0.017391</td>\n",
              "      <td>0.62941</td>\n",
              "      <td>0.982963</td>\n",
              "      <td>0.75</td>\n",
              "      <td>0.933013</td>\n",
              "      <td>0.600779</td>\n",
              "      <td>...</td>\n",
              "      <td>0.0</td>\n",
              "      <td>0.0</td>\n",
              "      <td>2.0</td>\n",
              "      <td>0.0</td>\n",
              "      <td>0.0</td>\n",
              "      <td>0.0</td>\n",
              "      <td>0.0</td>\n",
              "      <td>0.0</td>\n",
              "      <td>0.0</td>\n",
              "      <td>0.0</td>\n",
              "    </tr>\n",
              "    <tr>\n",
              "      <th>1</th>\n",
              "      <td>0.357616</td>\n",
              "      <td>0.987013</td>\n",
              "      <td>0.340149</td>\n",
              "      <td>0.245570</td>\n",
              "      <td>0.008696</td>\n",
              "      <td>0.75000</td>\n",
              "      <td>0.933013</td>\n",
              "      <td>0.75</td>\n",
              "      <td>0.933013</td>\n",
              "      <td>0.600779</td>\n",
              "      <td>...</td>\n",
              "      <td>0.0</td>\n",
              "      <td>2.0</td>\n",
              "      <td>0.0</td>\n",
              "      <td>0.0</td>\n",
              "      <td>0.0</td>\n",
              "      <td>0.0</td>\n",
              "      <td>0.0</td>\n",
              "      <td>1.0</td>\n",
              "      <td>1.0</td>\n",
              "      <td>0.0</td>\n",
              "    </tr>\n",
              "  </tbody>\n",
              "</table>\n",
              "<p>2 rows × 47 columns</p>\n",
              "</div>\n",
              "      <button class=\"colab-df-convert\" onclick=\"convertToInteractive('df-78e02394-0992-4386-bc4b-685de20b9765')\"\n",
              "              title=\"Convert this dataframe to an interactive table.\"\n",
              "              style=\"display:none;\">\n",
              "        \n",
              "  <svg xmlns=\"http://www.w3.org/2000/svg\" height=\"24px\"viewBox=\"0 0 24 24\"\n",
              "       width=\"24px\">\n",
              "    <path d=\"M0 0h24v24H0V0z\" fill=\"none\"/>\n",
              "    <path d=\"M18.56 5.44l.94 2.06.94-2.06 2.06-.94-2.06-.94-.94-2.06-.94 2.06-2.06.94zm-11 1L8.5 8.5l.94-2.06 2.06-.94-2.06-.94L8.5 2.5l-.94 2.06-2.06.94zm10 10l.94 2.06.94-2.06 2.06-.94-2.06-.94-.94-2.06-.94 2.06-2.06.94z\"/><path d=\"M17.41 7.96l-1.37-1.37c-.4-.4-.92-.59-1.43-.59-.52 0-1.04.2-1.43.59L10.3 9.45l-7.72 7.72c-.78.78-.78 2.05 0 2.83L4 21.41c.39.39.9.59 1.41.59.51 0 1.02-.2 1.41-.59l7.78-7.78 2.81-2.81c.8-.78.8-2.07 0-2.86zM5.41 20L4 18.59l7.72-7.72 1.47 1.35L5.41 20z\"/>\n",
              "  </svg>\n",
              "      </button>\n",
              "      \n",
              "  <style>\n",
              "    .colab-df-container {\n",
              "      display:flex;\n",
              "      flex-wrap:wrap;\n",
              "      gap: 12px;\n",
              "    }\n",
              "\n",
              "    .colab-df-convert {\n",
              "      background-color: #E8F0FE;\n",
              "      border: none;\n",
              "      border-radius: 50%;\n",
              "      cursor: pointer;\n",
              "      display: none;\n",
              "      fill: #1967D2;\n",
              "      height: 32px;\n",
              "      padding: 0 0 0 0;\n",
              "      width: 32px;\n",
              "    }\n",
              "\n",
              "    .colab-df-convert:hover {\n",
              "      background-color: #E2EBFA;\n",
              "      box-shadow: 0px 1px 2px rgba(60, 64, 67, 0.3), 0px 1px 3px 1px rgba(60, 64, 67, 0.15);\n",
              "      fill: #174EA6;\n",
              "    }\n",
              "\n",
              "    [theme=dark] .colab-df-convert {\n",
              "      background-color: #3B4455;\n",
              "      fill: #D2E3FC;\n",
              "    }\n",
              "\n",
              "    [theme=dark] .colab-df-convert:hover {\n",
              "      background-color: #434B5C;\n",
              "      box-shadow: 0px 1px 3px 1px rgba(0, 0, 0, 0.15);\n",
              "      filter: drop-shadow(0px 1px 2px rgba(0, 0, 0, 0.3));\n",
              "      fill: #FFFFFF;\n",
              "    }\n",
              "  </style>\n",
              "\n",
              "      <script>\n",
              "        const buttonEl =\n",
              "          document.querySelector('#df-78e02394-0992-4386-bc4b-685de20b9765 button.colab-df-convert');\n",
              "        buttonEl.style.display =\n",
              "          google.colab.kernel.accessAllowed ? 'block' : 'none';\n",
              "\n",
              "        async function convertToInteractive(key) {\n",
              "          const element = document.querySelector('#df-78e02394-0992-4386-bc4b-685de20b9765');\n",
              "          const dataTable =\n",
              "            await google.colab.kernel.invokeFunction('convertToInteractive',\n",
              "                                                     [key], {});\n",
              "          if (!dataTable) return;\n",
              "\n",
              "          const docLinkHtml = 'Like what you see? Visit the ' +\n",
              "            '<a target=\"_blank\" href=https://colab.research.google.com/notebooks/data_table.ipynb>data table notebook</a>'\n",
              "            + ' to learn more about interactive tables.';\n",
              "          element.innerHTML = '';\n",
              "          dataTable['output_type'] = 'display_data';\n",
              "          await google.colab.output.renderOutput(dataTable, element);\n",
              "          const docLink = document.createElement('div');\n",
              "          docLink.innerHTML = docLinkHtml;\n",
              "          element.appendChild(docLink);\n",
              "        }\n",
              "      </script>\n",
              "    </div>\n",
              "  </div>\n",
              "  "
            ]
          },
          "metadata": {},
          "execution_count": 2
        }
      ],
      "source": [
        "# data.to_csv('../raw_data/final_processed_xy_data.csv')\n",
        "data = pd.read_csv('final_processed_xy_data.csv', index_col=False)\n",
        "data = data.drop(columns= 'Unnamed: 0')\n",
        "print(data.shape)\n",
        "data.head(2)"
      ]
    },
    {
      "cell_type": "markdown",
      "metadata": {
        "id": "OsUYJSlDxsJG"
      },
      "source": [
        "## Train-Test split"
      ]
    },
    {
      "cell_type": "code",
      "execution_count": 3,
      "metadata": {
        "id": "nxbLmKbBxsJH"
      },
      "outputs": [],
      "source": [
        "## Functions for train-test split\n",
        "\n",
        "import pandas as pd\n",
        "import numpy as np\n",
        "from typing import Dict, List, Tuple, Sequence\n",
        "\n",
        "def get_folds(\n",
        "    df: pd.DataFrame,\n",
        "    fold_length: int,\n",
        "    fold_stride: int) -> List[pd.DataFrame]:\n",
        "    \"\"\"\n",
        "    This function slides through the Time Series dataframe of shape (n_timesteps, n_features) to create folds\n",
        "    - of equal `fold_length`\n",
        "    - using `fold_stride` between each fold\n",
        "\n",
        "    Args:\n",
        "        df (pd.DataFrame): Overall dataframe\n",
        "        fold_length (int): How long each fold should be in rows\n",
        "        fold_stride (int): How many timesteps to move forward between taking each fold\n",
        "\n",
        "    Returns:\n",
        "        List[pd.DataFrame]: A list where each fold is a dataframe within\n",
        "    \"\"\"\n",
        "    folds = []\n",
        "    for idx in range(0, len(df), fold_stride):\n",
        "        # Exits the loop as soon as the last fold index would exceed the last index\n",
        "        if (idx + fold_length) > len(df):\n",
        "            break\n",
        "        fold = df.iloc[idx:idx + fold_length, :]\n",
        "        folds.append(fold)\n",
        "    return folds\n",
        "\n",
        "def train_test_indices(fold:pd.DataFrame,\n",
        "                    train_test_ratio: float,\n",
        "                    input_length: int) -> Tuple[pd.DataFrame]:\n",
        "    \"\"\"From a fold dataframe, take a train dataframe and test dataframe based on\n",
        "    the split ratio.\n",
        "    - df_train contains all the timesteps until round(train_test_ratio * len(fold))\n",
        "    - df_test contains all the timesteps needed to create all (X_test, y_test) tuples\n",
        "\n",
        "    Args:\n",
        "        fold (pd.DataFrame): A fold of timesteps\n",
        "        train_test_ratio (float): The ratio between train and test 0-1\n",
        "        input_length (int): How long each X_i will be\n",
        "\n",
        "    Returns:\n",
        "        Tuple[pd.DataFrame]: A tuple of two dataframes (fold_train, fold_test)\n",
        "    \"\"\"\n",
        "def train_test_split(fold:pd.DataFrame,\n",
        "                     train_test_ratio: float,\n",
        "                     input_length: int) -> Tuple[pd.DataFrame]:\n",
        "    \"\"\"From a fold dataframe, take a train dataframe and test dataframe based on\n",
        "    the split ratio.\n",
        "    - df_train should contain all the timesteps until round(train_test_ratio * len(fold))\n",
        "    - df_test should contain all the timesteps needed to create all (X_test, y_test) tuples\n",
        "\n",
        "    Args:\n",
        "        fold (pd.DataFrame): A fold of timesteps\n",
        "        train_test_ratio (float): The ratio between train and test 0-1\n",
        "        input_length (int): How long each X_i will be\n",
        "\n",
        "    Returns:\n",
        "        Tuple[pd.DataFrame]: A tuple of two dataframes (fold_train, fold_test)\n",
        "    \"\"\"\n",
        "\n",
        "    # TRAIN SET\n",
        "    last_train_idx = round(train_test_ratio * len(fold))\n",
        "    fold_train = fold.iloc[0:last_train_idx, :]\n",
        "\n",
        "    # TEST SET\n",
        "    first_test_idx = last_train_idx - input_length\n",
        "    fold_test = fold.iloc[first_test_idx:, :]\n",
        "\n",
        "    return (fold_train, fold_test)"
      ]
    },
    {
      "cell_type": "code",
      "source": [
        "data.columns"
      ],
      "metadata": {
        "colab": {
          "base_uri": "https://localhost:8080/"
        },
        "id": "cozkNYA_y0sH",
        "outputId": "ac4f68cd-6293-4578-91a9-15d2e677afdd"
      },
      "execution_count": 49,
      "outputs": [
        {
          "output_type": "execute_result",
          "data": {
            "text/plain": [
              "Index(['temperature_2m', 'relativehumidity_2m', 'apparent_temperature',\n",
              "       'windspeed_10m', 'precipitation', 'hour_sin', 'hour_cos', 'month_sin',\n",
              "       'month_cos', 'day_sin', 'day_cos', 'is_holiday', 'is_weekend',\n",
              "       'Altstadt-Lehel', 'Au - Haidhausen', 'Aubing-Lochhausen-Langwied',\n",
              "       'Berg am Laim', 'Bogenhausen', 'Feldmoching', 'Hadern', 'Harlaching',\n",
              "       'Hasenbergl-Lerchenau Ost', 'Laim', 'Lochhausen',\n",
              "       'Ludwigsvorstadt-Isarvorstadt', 'Maxvorstadt', 'Milbertshofen-Am Hart',\n",
              "       'Moosach', 'Neuhausen-Nymphenburg', 'Obergiesing', 'Obermenzing',\n",
              "       'Obersendling', 'Pasing', 'Pasing-Obermenzing', 'Ramersdorf-Perlach',\n",
              "       'Schwabing-Freimann', 'Schwabing-West', 'Schwanthalerhöhe', 'Sendling',\n",
              "       'Sendling-Westpark', 'Südgiesing', 'Thalkirchen', 'Trudering',\n",
              "       'Trudering-Riem', 'Untergiesing', 'Untergiesing-Harlaching',\n",
              "       'Untermenzing-Allach'],\n",
              "      dtype='object')"
            ]
          },
          "metadata": {},
          "execution_count": 49
        }
      ]
    },
    {
      "cell_type": "code",
      "source": [
        "X = data[['temperature_2m', 'relativehumidity_2m', 'apparent_temperature',\n",
        "       'windspeed_10m', 'precipitation', 'hour_sin', 'hour_cos', 'month_sin',\n",
        "       'month_cos', 'day_sin', 'day_cos', 'is_holiday', 'is_weekend']]\n",
        "y = data[['Altstadt-Lehel', 'Au - Haidhausen', 'Aubing-Lochhausen-Langwied',\n",
        "       'Berg am Laim', 'Bogenhausen', 'Feldmoching', 'Hadern', 'Harlaching',\n",
        "       'Hasenbergl-Lerchenau Ost', 'Laim', 'Lochhausen',\n",
        "       'Ludwigsvorstadt-Isarvorstadt', 'Maxvorstadt', 'Milbertshofen-Am Hart',\n",
        "       'Moosach', 'Neuhausen-Nymphenburg', 'Obergiesing', 'Obermenzing',\n",
        "       'Obersendling', 'Pasing', 'Pasing-Obermenzing', 'Ramersdorf-Perlach',\n",
        "       'Schwabing-Freimann', 'Schwabing-West', 'Schwanthalerhöhe', 'Sendling',\n",
        "       'Sendling-Westpark', 'Südgiesing', 'Thalkirchen', 'Trudering',\n",
        "       'Trudering-Riem', 'Untergiesing', 'Untergiesing-Harlaching',\n",
        "       'Untermenzing-Allach']]"
      ],
      "metadata": {
        "id": "I2__3J3pzMHx"
      },
      "execution_count": 4,
      "outputs": []
    },
    {
      "cell_type": "code",
      "execution_count": 5,
      "metadata": {
        "colab": {
          "base_uri": "https://localhost:8080/"
        },
        "id": "Cj9VQZcExsJH",
        "outputId": "9c049dde-66d8-4722-cfcd-709895dbff53"
      },
      "outputs": [
        {
          "output_type": "stream",
          "name": "stdout",
          "text": [
            "34\n"
          ]
        },
        {
          "output_type": "execute_result",
          "data": {
            "text/plain": [
              "Index(['Altstadt-Lehel', 'Au - Haidhausen', 'Aubing-Lochhausen-Langwied',\n",
              "       'Berg am Laim', 'Bogenhausen', 'Feldmoching', 'Hadern', 'Harlaching',\n",
              "       'Hasenbergl-Lerchenau Ost', 'Laim', 'Lochhausen',\n",
              "       'Ludwigsvorstadt-Isarvorstadt', 'Maxvorstadt', 'Milbertshofen-Am Hart',\n",
              "       'Moosach', 'Neuhausen-Nymphenburg', 'Obergiesing', 'Obermenzing',\n",
              "       'Obersendling', 'Pasing', 'Pasing-Obermenzing', 'Ramersdorf-Perlach',\n",
              "       'Schwabing-Freimann', 'Schwabing-West', 'Schwanthalerhöhe', 'Sendling',\n",
              "       'Sendling-Westpark', 'Südgiesing', 'Thalkirchen', 'Trudering',\n",
              "       'Trudering-Riem', 'Untergiesing', 'Untergiesing-Harlaching',\n",
              "       'Untermenzing-Allach'],\n",
              "      dtype='object')"
            ]
          },
          "metadata": {},
          "execution_count": 5
        }
      ],
      "source": [
        "districts = y.columns\n",
        "print(len(districts))\n",
        "districts"
      ]
    },
    {
      "cell_type": "code",
      "execution_count": 6,
      "metadata": {
        "colab": {
          "base_uri": "https://localhost:8080/"
        },
        "id": "ZmdIT4ZdxsJI",
        "outputId": "75d3f958-feb1-4292-8571-2e94bde8f312"
      },
      "outputs": [
        {
          "output_type": "stream",
          "name": "stdout",
          "text": [
            "Number of folds: 9\n"
          ]
        }
      ],
      "source": [
        "FOLD_LENGTH = 17520 # 2 years\n",
        "FOLD_STRIDE = 2184 # 3 months\n",
        "TRAIN_TEST_RATIO = 0.8\n",
        "INPUT_LENGTH = 336 # 24 h * 14 d\n",
        "OUTPUT_LENGTH = 24\n",
        "\n",
        "folds = get_folds(data, FOLD_LENGTH, FOLD_STRIDE)\n",
        "print('Number of folds:', len(folds))"
      ]
    },
    {
      "cell_type": "code",
      "execution_count": 7,
      "metadata": {
        "colab": {
          "base_uri": "https://localhost:8080/"
        },
        "id": "o0iV2XKUxsJJ",
        "outputId": "8a5737db-eec3-4cf6-9932-7e184beefb21"
      },
      "outputs": [
        {
          "output_type": "stream",
          "name": "stdout",
          "text": [
            "(14016, 47)\n",
            "(3840, 47)\n"
          ]
        }
      ],
      "source": [
        "# First fold\n",
        "(fold_train, fold_test) = train_test_split(folds[0], TRAIN_TEST_RATIO, INPUT_LENGTH)\n",
        "print(fold_train.shape)\n",
        "print(fold_test.shape)"
      ]
    },
    {
      "cell_type": "markdown",
      "metadata": {
        "id": "HmmzQ7MLxsJJ"
      },
      "source": [
        "## Prediction for All Districts"
      ]
    },
    {
      "cell_type": "code",
      "execution_count": 8,
      "metadata": {
        "colab": {
          "base_uri": "https://localhost:8080/"
        },
        "id": "-EjEUNi4xsJK",
        "outputId": "5fe49fc1-b126-4045-f8f7-f8f46976932e"
      },
      "outputs": [
        {
          "output_type": "stream",
          "name": "stdout",
          "text": [
            "N_FEATURES: 13\n"
          ]
        }
      ],
      "source": [
        "TARGET = districts\n",
        "N_TARGETS = len(districts)\n",
        "N_FEATURES = len(X.columns)\n",
        "print('N_FEATURES:', N_FEATURES)"
      ]
    },
    {
      "cell_type": "code",
      "execution_count": 9,
      "metadata": {
        "id": "d_e10jvaxsJK"
      },
      "outputs": [],
      "source": [
        "## Functions for train-test split\n",
        "def get_Xi_yi(\n",
        "    fold:pd.DataFrame,\n",
        "    input_length:int,\n",
        "    output_length:int) -> Tuple[pd.DataFrame]:\n",
        "    \"\"\"given a fold, it returns one sequence (X_i, y_i) as based on the desired\n",
        "    input_length and output_length with the starting point of the sequence being chosen at random based\n",
        "\n",
        "    Args:\n",
        "        fold (pd.DataFrame): A single fold\n",
        "        input_length (int): How long each X_i should be\n",
        "        output_length (int): How long each y_i should be\n",
        "\n",
        "    Returns:\n",
        "        Tuple[pd.DataFrame]: A tuple of two dataframes (X_i, y_i)\n",
        "    \"\"\"\n",
        "\n",
        "    first_possible_start = 0\n",
        "    last_possible_start = len(fold) - (input_length + output_length) + 1\n",
        "    random_start = np.random.randint(first_possible_start, last_possible_start)\n",
        "    X_i = fold.iloc[random_start:random_start+input_length]\n",
        "    y_i = fold.iloc[random_start+input_length:\n",
        "                  random_start+input_length+output_length][TARGET]\n",
        "\n",
        "    return (X_i, y_i)\n",
        "\n",
        "def get_X_y(\n",
        "    fold:pd.DataFrame,\n",
        "    number_of_sequences:int,\n",
        "    input_length:int,\n",
        "    output_length:int) -> Tuple[np.array]:\n",
        "    \"\"\"Given a fold generate X and y based on the number of desired sequences\n",
        "    of the given input_length and output_length\n",
        "\n",
        "    Args:\n",
        "        fold (pd.DataFrame): Fold dataframe\n",
        "        number_of_sequences (int): The number of X_i and y_i pairs to include\n",
        "        input_length (int): Length of each X_i\n",
        "        output_length (int): Length of each y_i\n",
        "\n",
        "    Returns:\n",
        "        Tuple[np.array]: A tuple of numpy arrays (X, y)\n",
        "    \"\"\"\n",
        "    X, y = [], []\n",
        "\n",
        "    for i in range(number_of_sequences):\n",
        "        (Xi, yi) = get_Xi_yi(fold, input_length, output_length)\n",
        "        X.append(Xi)\n",
        "        y.append(yi)\n",
        "\n",
        "    return np.array(X), np.array(y)"
      ]
    },
    {
      "cell_type": "code",
      "execution_count": 10,
      "metadata": {
        "id": "P-2s8ypAxsJK"
      },
      "outputs": [],
      "source": [
        "X_train_i, y_train_i = get_Xi_yi(fold_train, INPUT_LENGTH, OUTPUT_LENGTH)\n",
        "X_test_i, y_test_i = get_Xi_yi(fold_test, INPUT_LENGTH, OUTPUT_LENGTH)"
      ]
    },
    {
      "cell_type": "code",
      "execution_count": 11,
      "metadata": {
        "colab": {
          "base_uri": "https://localhost:8080/"
        },
        "id": "WNC_hx-_xsJK",
        "outputId": "ab76754e-e613-47db-df16-916ac8e71f79"
      },
      "outputs": [
        {
          "output_type": "stream",
          "name": "stdout",
          "text": [
            "X_train_i: (336, 47), y_train: (24, 34)\n",
            "X_test_i: (336, 47), y_test: (24, 34)\n"
          ]
        }
      ],
      "source": [
        "print(f'X_train_i: {X_train_i.shape}, y_train: {y_train_i.shape}')\n",
        "print(f'X_test_i: {X_test_i.shape}, y_test: {y_test_i.shape}')"
      ]
    },
    {
      "cell_type": "code",
      "execution_count": null,
      "metadata": {
        "id": "z_Zi7v71xsJL"
      },
      "outputs": [],
      "source": [
        "# N_TRAIN = 8000 # number_of_sequences_train\n",
        "# N_TEST =  2000 # number_of_sequences_test\n",
        "\n",
        "# X_train, y_train = get_X_y(fold_train, N_TRAIN, INPUT_LENGTH, OUTPUT_LENGTH)\n",
        "# X_test, y_test = get_X_y(fold_test, N_TEST, INPUT_LENGTH, OUTPUT_LENGTH)\n",
        "\n",
        "# print(f'X_train: {X_train.shape}, y_train: {y_train.shape}')\n",
        "# print(f'X_test: {X_test.shape}, y_test: {y_test.shape}')"
      ]
    },
    {
      "cell_type": "code",
      "execution_count": null,
      "metadata": {
        "id": "AxxNEsCSxsJL"
      },
      "outputs": [],
      "source": [
        "# X_train[0,0,:]"
      ]
    },
    {
      "cell_type": "code",
      "execution_count": null,
      "metadata": {
        "id": "1LS3ZHKwxsJL"
      },
      "outputs": [],
      "source": [
        "# y_train[0,0,:]"
      ]
    },
    {
      "cell_type": "markdown",
      "metadata": {
        "id": "Kv7d5L1SxsJM"
      },
      "source": [
        "## Prediction for Maxvorstadt"
      ]
    },
    {
      "cell_type": "code",
      "execution_count": 12,
      "metadata": {
        "id": "wEI_DruOxsJM"
      },
      "outputs": [],
      "source": [
        "# Select a single target district\n",
        "TARGET = 'Maxvorstadt'\n",
        "N_TARGETS = len(districts)"
      ]
    },
    {
      "cell_type": "code",
      "execution_count": 15,
      "metadata": {
        "colab": {
          "base_uri": "https://localhost:8080/"
        },
        "id": "P5S41PRJxsJM",
        "outputId": "8b9c5458-e62d-451c-e47f-ee4f0423b43d"
      },
      "outputs": [
        {
          "output_type": "stream",
          "name": "stdout",
          "text": [
            "X_train_i: (336, 47), y_train_i: (24,)\n",
            "X_test_i: (336, 47), y_test_i: (24,)\n"
          ]
        }
      ],
      "source": [
        "# Prepare data for the selected target\n",
        "X_train_i, y_train_i = get_Xi_yi(fold_train, INPUT_LENGTH, OUTPUT_LENGTH)\n",
        "X_test_i, y_test_i = get_Xi_yi(fold_test, INPUT_LENGTH, OUTPUT_LENGTH)\n",
        "\n",
        "# Shape of the data\n",
        "print(f'X_train_i: {X_train_i.shape}, y_train_i: {y_train_i.shape}')\n",
        "print(f'X_test_i: {X_test_i.shape}, y_test_i: {y_test_i.shape}')"
      ]
    },
    {
      "cell_type": "code",
      "source": [
        "# Reshape array to shape (24,1)\n",
        "y_test_i = np.expand_dims(y_test_i, axis=1)\n",
        "print(y_test_i.shape)"
      ],
      "metadata": {
        "colab": {
          "base_uri": "https://localhost:8080/"
        },
        "id": "I7qb_iOJAHcg",
        "outputId": "bbf2965c-8a47-4095-fd58-f78d6aa84c16"
      },
      "execution_count": 14,
      "outputs": [
        {
          "output_type": "stream",
          "name": "stdout",
          "text": [
            "(24, 1)\n"
          ]
        }
      ]
    },
    {
      "cell_type": "code",
      "source": [
        "N_TRAIN = 8000 # number_of_sequences_train\n",
        "N_TEST =  2000 # number_of_sequences_test\n",
        "\n",
        "X_train, y_train = get_X_y(fold_train, N_TRAIN, INPUT_LENGTH, OUTPUT_LENGTH)\n",
        "X_test, y_test = get_X_y(fold_test, N_TEST, INPUT_LENGTH, OUTPUT_LENGTH)\n",
        "\n",
        "print(f'X_train: {X_train.shape}, y_train: {y_train.shape}')\n",
        "print(f'X_test: {X_test.shape}, y_test: {y_test.shape}')"
      ],
      "metadata": {
        "colab": {
          "base_uri": "https://localhost:8080/"
        },
        "id": "fSepgEQ1Dk3U",
        "outputId": "c5bcbd91-9b3e-4316-cd9f-25b86fd55475"
      },
      "execution_count": 36,
      "outputs": [
        {
          "output_type": "stream",
          "name": "stdout",
          "text": [
            "X_train: (8000, 336, 47), y_train: (8000, 24)\n",
            "X_test: (2000, 336, 47), y_test: (2000, 24)\n"
          ]
        }
      ]
    },
    {
      "cell_type": "code",
      "source": [
        "# Reshape array to shape (24,1)\n",
        "# y_test = np.expand_dims(y_test, axis=1)\n",
        "# print(y_test.shape)"
      ],
      "metadata": {
        "id": "_lphsnHLAuBz"
      },
      "execution_count": null,
      "outputs": []
    },
    {
      "cell_type": "code",
      "source": [
        "y_train = np.reshape(y_train, (8000, 24, 1))\n",
        "y_test = np.reshape(y_test, (2000, 24, 1))\n",
        "\n",
        "print(f'y_train_rnn: {y_train.shape}')\n",
        "print(f'y_test_rnn: {y_test.shape}')\n"
      ],
      "metadata": {
        "colab": {
          "base_uri": "https://localhost:8080/"
        },
        "id": "QiaORJtOCfW3",
        "outputId": "d2ad923c-56ec-4cbd-a054-a41d29c04a17"
      },
      "execution_count": 37,
      "outputs": [
        {
          "output_type": "stream",
          "name": "stdout",
          "text": [
            "y_train_rnn: (8000, 24, 1)\n",
            "y_test_rnn: (2000, 24, 1)\n"
          ]
        }
      ]
    },
    {
      "cell_type": "markdown",
      "metadata": {
        "id": "f5cIHNFYxsJN"
      },
      "source": [
        "## RNN Model"
      ]
    },
    {
      "cell_type": "code",
      "execution_count": 43,
      "metadata": {
        "id": "8OT4SIGMxsJN"
      },
      "outputs": [],
      "source": [
        "from tensorflow.keras import models\n",
        "from tensorflow.keras import layers\n",
        "from tensorflow.keras import optimizers, metrics\n",
        "from tensorflow.keras.regularizers import L1L2\n",
        "from tensorflow.keras.layers.experimental.preprocessing import Normalization\n",
        "from tensorflow import keras\n",
        "from keras.callbacks import EarlyStopping\n",
        "\n",
        "def init_model(X_train, y_train):\n",
        "    \n",
        "    # 0 - Normalization\n",
        "    # ======================    \n",
        "    normalizer = Normalization()\n",
        "    normalizer.adapt(X_train)\n",
        "    \n",
        "    # 1 - RNN architecture\n",
        "    # ======================    \n",
        "    model = models.Sequential()\n",
        "    ## 1.0 - All the rows will be standardized through the already adapted normalization layer\n",
        "    model.add(normalizer)\n",
        "    ## 1.1 - Recurrent Layer\n",
        "    model.add(layers.LSTM(64, \n",
        "                          activation='tanh', \n",
        "                          return_sequences = False,\n",
        "                          kernel_regularizer=L1L2(l1=0.05, l2=0.05),\n",
        "                          ))\n",
        "    ## 1.2 - Predictive Dense Layers\n",
        "    output_length = y_train.shape[1]\n",
        "    model.add(layers.Dense(output_length, activation='linear'))\n",
        "\n",
        "    # 2 - Compiler\n",
        "    # ======================    \n",
        "    adam = optimizers.Adam(learning_rate=0.02)    \n",
        "    model.compile(loss='mse', optimizer=adam, metrics=[\"mae\"])\n",
        "    \n",
        "    return model\n",
        "\n",
        "def fit_model(model: tf.keras.Model, verbose=1) -> Tuple[tf.keras.Model, dict]:\n",
        "\n",
        "    es = EarlyStopping(monitor = \"val_loss\",\n",
        "                      patience = 3,\n",
        "                      mode = \"min\",\n",
        "                      restore_best_weights = True)\n",
        "\n",
        "\n",
        "    history = model.fit(X_train, y_train,\n",
        "                        validation_split = 0.3,\n",
        "                        shuffle = False,\n",
        "                        batch_size = 32,\n",
        "                        epochs = 10,\n",
        "                        callbacks = [es],\n",
        "                        verbose = verbose)\n",
        "\n",
        "    return model, history\n"
      ]
    },
    {
      "cell_type": "code",
      "source": [
        "# 1 - Initialising the RNN model\n",
        "model = init_model(X_train, y_train)\n",
        "model.summary()\n",
        "\n",
        "# 2 - Training\n",
        "model, history = fit_model(model)"
      ],
      "metadata": {
        "colab": {
          "base_uri": "https://localhost:8080/"
        },
        "id": "uiqH_D2aP0ob",
        "outputId": "147ce0a9-1e76-4ea7-8692-e199dcacdfc4"
      },
      "execution_count": 44,
      "outputs": [
        {
          "output_type": "stream",
          "name": "stdout",
          "text": [
            "Model: \"sequential_10\"\n",
            "_________________________________________________________________\n",
            " Layer (type)                Output Shape              Param #   \n",
            "=================================================================\n",
            " normalization_2 (Normalizat  (None, None, 47)         95        \n",
            " ion)                                                            \n",
            "                                                                 \n",
            " lstm_7 (LSTM)               (None, 64)                28672     \n",
            "                                                                 \n",
            " dense_10 (Dense)            (None, 24)                1560      \n",
            "                                                                 \n",
            "=================================================================\n",
            "Total params: 30,327\n",
            "Trainable params: 30,232\n",
            "Non-trainable params: 95\n",
            "_________________________________________________________________\n",
            "Epoch 1/10\n",
            "175/175 [==============================] - 35s 187ms/step - loss: 111.1907 - mae: 7.5023 - val_loss: 88.9141 - val_mae: 6.6649\n",
            "Epoch 2/10\n",
            "175/175 [==============================] - 38s 214ms/step - loss: 79.8036 - mae: 6.1059 - val_loss: 80.9570 - val_mae: 6.3121\n",
            "Epoch 3/10\n",
            "175/175 [==============================] - 32s 180ms/step - loss: 73.7469 - mae: 5.8347 - val_loss: 78.8693 - val_mae: 6.2357\n",
            "Epoch 4/10\n",
            "175/175 [==============================] - 31s 180ms/step - loss: 73.9407 - mae: 5.8306 - val_loss: 74.0218 - val_mae: 5.9527\n",
            "Epoch 5/10\n",
            "175/175 [==============================] - 39s 225ms/step - loss: 70.4705 - mae: 5.6817 - val_loss: 76.4789 - val_mae: 5.9880\n",
            "Epoch 6/10\n",
            "175/175 [==============================] - 30s 173ms/step - loss: 71.5841 - mae: 5.7145 - val_loss: 71.2482 - val_mae: 5.7902\n",
            "Epoch 7/10\n",
            "175/175 [==============================] - 31s 180ms/step - loss: 70.8445 - mae: 5.7144 - val_loss: 72.4027 - val_mae: 5.8095\n",
            "Epoch 8/10\n",
            "175/175 [==============================] - 30s 172ms/step - loss: 70.6758 - mae: 5.6788 - val_loss: 71.9746 - val_mae: 5.7112\n",
            "Epoch 9/10\n",
            "175/175 [==============================] - 32s 181ms/step - loss: 68.4429 - mae: 5.5788 - val_loss: 72.3244 - val_mae: 5.6796\n"
          ]
        }
      ]
    },
    {
      "cell_type": "code",
      "source": [
        "def plot_history(history):\n",
        "    \n",
        "    fig, ax = plt.subplots(1,2, figsize=(20,7))\n",
        "    # --- LOSS: MSE --- \n",
        "    ax[0].plot(history.history['loss'])\n",
        "    ax[0].plot(history.history['val_loss'])\n",
        "    ax[0].set_title('MSE')\n",
        "    ax[0].set_ylabel('Loss')\n",
        "    ax[0].set_xlabel('Epoch')\n",
        "    ax[0].legend(['Train', 'Validation'], loc='best')\n",
        "    ax[0].grid(axis=\"x\",linewidth=0.5)\n",
        "    ax[0].grid(axis=\"y\",linewidth=0.5)\n",
        "    \n",
        "    # --- METRICS:MAE ---\n",
        "    \n",
        "    ax[1].plot(history.history['mae'])\n",
        "    ax[1].plot(history.history['val_mae'])\n",
        "    ax[1].set_title('MAE')\n",
        "    ax[1].set_ylabel('MAE')\n",
        "    ax[1].set_xlabel('Epoch')\n",
        "    ax[1].legend(['Train', 'Validation'], loc='best')\n",
        "    ax[1].grid(axis=\"x\",linewidth=0.5)\n",
        "    ax[1].grid(axis=\"y\",linewidth=0.5)\n",
        "                        \n",
        "    return ax"
      ],
      "metadata": {
        "id": "3A8mVX7vQHc7"
      },
      "execution_count": 46,
      "outputs": []
    },
    {
      "cell_type": "code",
      "source": [
        "plot_history(history);"
      ],
      "metadata": {
        "colab": {
          "base_uri": "https://localhost:8080/",
          "height": 379
        },
        "id": "8_8L7c9mQK4m",
        "outputId": "205c0d5e-63f4-4058-a7ca-697ca1cc6d9e"
      },
      "execution_count": 47,
      "outputs": [
        {
          "output_type": "display_data",
          "data": {
            "text/plain": [
              "<Figure size 2000x700 with 2 Axes>"
            ],
            "image/png": "[encoded data removed]"
          },
          "metadata": {}
        }
      ]
    },
    {
      "cell_type": "markdown",
      "source": [
        "\n",
        "## Prediction for Lochhausen\n",
        "---\n",
        "\n"
      ],
      "metadata": {
        "id": "gmMhuzRcTHBK"
      }
    },
    {
      "cell_type": "code",
      "source": [
        "# Select a single target district\n",
        "TARGET = 'Lochhausen'\n",
        "N_TARGETS = len(districts)"
      ],
      "metadata": {
        "id": "iOTS0ouxTX5S"
      },
      "execution_count": 48,
      "outputs": []
    },
    {
      "cell_type": "code",
      "source": [
        "N_TRAIN = 8000 # number_of_sequences_train\n",
        "N_TEST =  2000 # number_of_sequences_test\n",
        "\n",
        "X_train, y_train = get_X_y(fold_train, N_TRAIN, INPUT_LENGTH, OUTPUT_LENGTH)\n",
        "X_test, y_test = get_X_y(fold_test, N_TEST, INPUT_LENGTH, OUTPUT_LENGTH)\n",
        "\n",
        "print(f'X_train: {X_train.shape}, y_train: {y_train.shape}')\n",
        "print(f'X_test: {X_test.shape}, y_test: {y_test.shape}')"
      ],
      "metadata": {
        "colab": {
          "base_uri": "https://localhost:8080/"
        },
        "id": "3Q0zZRSfThT0",
        "outputId": "563c917d-a59e-42b9-b4af-0fd105ad3f59"
      },
      "execution_count": 49,
      "outputs": [
        {
          "output_type": "stream",
          "name": "stdout",
          "text": [
            "X_train: (8000, 336, 47), y_train: (8000, 24)\n",
            "X_test: (2000, 336, 47), y_test: (2000, 24)\n"
          ]
        }
      ]
    },
    {
      "cell_type": "code",
      "source": [
        "y_train = np.reshape(y_train, (8000, 24, 1))\n",
        "y_test = np.reshape(y_test, (2000, 24, 1))\n",
        "\n",
        "print(f'y_train_rnn: {y_train.shape}')\n",
        "print(f'y_test_rnn: {y_test.shape}')"
      ],
      "metadata": {
        "colab": {
          "base_uri": "https://localhost:8080/"
        },
        "id": "RfN-N67hU87N",
        "outputId": "53b0baf6-74b4-4664-d795-aa65eec58929"
      },
      "execution_count": 50,
      "outputs": [
        {
          "output_type": "stream",
          "name": "stdout",
          "text": [
            "y_train_rnn: (8000, 24, 1)\n",
            "y_test_rnn: (2000, 24, 1)\n"
          ]
        }
      ]
    },
    {
      "cell_type": "code",
      "source": [
        "# 1 - Initialising the RNN model\n",
        "model = init_model(X_train, y_train)\n",
        "model.summary()\n",
        "\n",
        "# 2 - Training\n",
        "model, history = fit_model(model)"
      ],
      "metadata": {
        "colab": {
          "base_uri": "https://localhost:8080/"
        },
        "id": "ouuhv4LUVMdN",
        "outputId": "1f5fff7e-c13e-4556-cca2-af195be5ec9c"
      },
      "execution_count": 51,
      "outputs": [
        {
          "output_type": "stream",
          "name": "stdout",
          "text": [
            "Model: \"sequential_11\"\n",
            "_________________________________________________________________\n",
            " Layer (type)                Output Shape              Param #   \n",
            "=================================================================\n",
            " normalization_3 (Normalizat  (None, None, 47)         95        \n",
            " ion)                                                            \n",
            "                                                                 \n",
            " lstm_8 (LSTM)               (None, 64)                28672     \n",
            "                                                                 \n",
            " dense_11 (Dense)            (None, 24)                1560      \n",
            "                                                                 \n",
            "=================================================================\n",
            "Total params: 30,327\n",
            "Trainable params: 30,232\n",
            "Non-trainable params: 95\n",
            "_________________________________________________________________\n",
            "Epoch 1/10\n",
            "175/175 [==============================] - 36s 189ms/step - loss: 3.0537 - mae: 0.0463 - val_loss: 1.6685 - val_mae: 0.0433\n",
            "Epoch 2/10\n",
            "175/175 [==============================] - 33s 186ms/step - loss: 1.6377 - mae: 0.0406 - val_loss: 1.6160 - val_mae: 0.0422\n",
            "Epoch 3/10\n",
            "175/175 [==============================] - 33s 188ms/step - loss: 1.6343 - mae: 0.0403 - val_loss: 1.6897 - val_mae: 0.0422\n",
            "Epoch 4/10\n",
            "175/175 [==============================] - 38s 217ms/step - loss: 1.6343 - mae: 0.0401 - val_loss: 1.7129 - val_mae: 0.0423\n",
            "Epoch 5/10\n",
            "175/175 [==============================] - 38s 215ms/step - loss: 1.6387 - mae: 0.0401 - val_loss: 1.6915 - val_mae: 0.0433\n"
          ]
        }
      ]
    },
    {
      "cell_type": "code",
      "source": [
        "plot_history(history);"
      ],
      "metadata": {
        "colab": {
          "base_uri": "https://localhost:8080/",
          "height": 380
        },
        "id": "8xX6khAXVRih",
        "outputId": "0e5d91e2-a335-4d85-a523-4993542ec138"
      },
      "execution_count": 52,
      "outputs": [
        {
          "output_type": "display_data",
          "data": {
            "text/plain": [
              "<Figure size 2000x700 with 2 Axes>"
            ],
            "image/png": "[encoded data removed]"
          },
          "metadata": {}
        }
      ]
    }
  ],
  "metadata": {
    "kernelspec": {
      "display_name": "bike_sharing_demand",
      "language": "python",
      "name": "python3"
    },
    "language_info": {
      "codemirror_mode": {
        "name": "ipython",
        "version": 3
      },
      "file_extension": ".py",
      "mimetype": "text/x-python",
      "name": "python",
      "nbconvert_exporter": "python",
      "pygments_lexer": "ipython3",
      "version": "3.10.6"
    },
    "orig_nbformat": 4,
    "colab": {
      "provenance": []
    }
  },
  "nbformat": 4,
  "nbformat_minor": 0
}