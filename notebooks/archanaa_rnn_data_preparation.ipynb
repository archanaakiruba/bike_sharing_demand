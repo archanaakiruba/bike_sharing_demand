{
 "cells": [
  {
   "cell_type": "code",
   "execution_count": 1,
   "metadata": {},
   "outputs": [],
   "source": [
    "import pandas as pd\n",
    "import numpy as np\n",
    "import matplotlib.pyplot as plt\n",
    "import seaborn as sns\n",
    "\n",
    "import sys\n",
    "sys.path.append('../')\n",
    "\n",
    "from bikesharing.interface.main import preprocess\n",
    "from bikesharing.params import *"
   ]
  },
  {
   "cell_type": "code",
   "execution_count": 2,
   "metadata": {},
   "outputs": [
    {
     "name": "stdout",
     "output_type": "stream",
     "text": [
      "\u001b[34m\n",
      "Load preprocessed data from local CSV...\u001b[0m\n",
      "(35040, 13)\n",
      "(35040, 34)\n"
     ]
    }
   ],
   "source": [
    "X, y = preprocess()\n",
    "print(X.shape)\n",
    "print(y.shape)"
   ]
  },
  {
   "cell_type": "code",
   "execution_count": 3,
   "metadata": {},
   "outputs": [
    {
     "data": {
      "text/html": [
       "<div>\n",
       "<style scoped>\n",
       "    .dataframe tbody tr th:only-of-type {\n",
       "        vertical-align: middle;\n",
       "    }\n",
       "\n",
       "    .dataframe tbody tr th {\n",
       "        vertical-align: top;\n",
       "    }\n",
       "\n",
       "    .dataframe thead th {\n",
       "        text-align: right;\n",
       "    }\n",
       "</style>\n",
       "<table border=\"1\" class=\"dataframe\">\n",
       "  <thead>\n",
       "    <tr style=\"text-align: right;\">\n",
       "      <th></th>\n",
       "      <th>temperature_2m</th>\n",
       "      <th>relativehumidity_2m</th>\n",
       "      <th>apparent_temperature</th>\n",
       "      <th>windspeed_10m</th>\n",
       "      <th>precipitation</th>\n",
       "      <th>hour_sin</th>\n",
       "      <th>hour_cos</th>\n",
       "      <th>month_sin</th>\n",
       "      <th>month_cos</th>\n",
       "      <th>day_sin</th>\n",
       "      <th>day_cos</th>\n",
       "      <th>is_holiday</th>\n",
       "      <th>is_weekend</th>\n",
       "    </tr>\n",
       "  </thead>\n",
       "  <tbody>\n",
       "    <tr>\n",
       "      <th>0</th>\n",
       "      <td>0.355408</td>\n",
       "      <td>1.000000</td>\n",
       "      <td>0.342007</td>\n",
       "      <td>0.227848</td>\n",
       "      <td>0.017391</td>\n",
       "      <td>0.629410</td>\n",
       "      <td>0.982963</td>\n",
       "      <td>0.75</td>\n",
       "      <td>0.933013</td>\n",
       "      <td>0.600779</td>\n",
       "      <td>0.989739</td>\n",
       "      <td>1</td>\n",
       "      <td>0</td>\n",
       "    </tr>\n",
       "    <tr>\n",
       "      <th>1</th>\n",
       "      <td>0.357616</td>\n",
       "      <td>0.987013</td>\n",
       "      <td>0.340149</td>\n",
       "      <td>0.245570</td>\n",
       "      <td>0.008696</td>\n",
       "      <td>0.750000</td>\n",
       "      <td>0.933013</td>\n",
       "      <td>0.75</td>\n",
       "      <td>0.933013</td>\n",
       "      <td>0.600779</td>\n",
       "      <td>0.989739</td>\n",
       "      <td>1</td>\n",
       "      <td>0</td>\n",
       "    </tr>\n",
       "    <tr>\n",
       "      <th>2</th>\n",
       "      <td>0.359823</td>\n",
       "      <td>1.000000</td>\n",
       "      <td>0.336431</td>\n",
       "      <td>0.303797</td>\n",
       "      <td>0.017391</td>\n",
       "      <td>0.853553</td>\n",
       "      <td>0.853553</td>\n",
       "      <td>0.75</td>\n",
       "      <td>0.933013</td>\n",
       "      <td>0.600779</td>\n",
       "      <td>0.989739</td>\n",
       "      <td>1</td>\n",
       "      <td>0</td>\n",
       "    </tr>\n",
       "    <tr>\n",
       "      <th>3</th>\n",
       "      <td>0.359823</td>\n",
       "      <td>0.987013</td>\n",
       "      <td>0.332714</td>\n",
       "      <td>0.341772</td>\n",
       "      <td>0.008696</td>\n",
       "      <td>0.933013</td>\n",
       "      <td>0.750000</td>\n",
       "      <td>0.75</td>\n",
       "      <td>0.933013</td>\n",
       "      <td>0.600779</td>\n",
       "      <td>0.989739</td>\n",
       "      <td>1</td>\n",
       "      <td>0</td>\n",
       "    </tr>\n",
       "    <tr>\n",
       "      <th>4</th>\n",
       "      <td>0.359823</td>\n",
       "      <td>1.000000</td>\n",
       "      <td>0.332714</td>\n",
       "      <td>0.356962</td>\n",
       "      <td>0.000000</td>\n",
       "      <td>0.982963</td>\n",
       "      <td>0.629410</td>\n",
       "      <td>0.75</td>\n",
       "      <td>0.933013</td>\n",
       "      <td>0.600779</td>\n",
       "      <td>0.989739</td>\n",
       "      <td>1</td>\n",
       "      <td>0</td>\n",
       "    </tr>\n",
       "  </tbody>\n",
       "</table>\n",
       "</div>"
      ],
      "text/plain": [
       "   temperature_2m  relativehumidity_2m  apparent_temperature  windspeed_10m  \\\n",
       "0        0.355408             1.000000              0.342007       0.227848   \n",
       "1        0.357616             0.987013              0.340149       0.245570   \n",
       "2        0.359823             1.000000              0.336431       0.303797   \n",
       "3        0.359823             0.987013              0.332714       0.341772   \n",
       "4        0.359823             1.000000              0.332714       0.356962   \n",
       "\n",
       "   precipitation  hour_sin  hour_cos  month_sin  month_cos   day_sin  \\\n",
       "0       0.017391  0.629410  0.982963       0.75   0.933013  0.600779   \n",
       "1       0.008696  0.750000  0.933013       0.75   0.933013  0.600779   \n",
       "2       0.017391  0.853553  0.853553       0.75   0.933013  0.600779   \n",
       "3       0.008696  0.933013  0.750000       0.75   0.933013  0.600779   \n",
       "4       0.000000  0.982963  0.629410       0.75   0.933013  0.600779   \n",
       "\n",
       "    day_cos  is_holiday  is_weekend  \n",
       "0  0.989739           1           0  \n",
       "1  0.989739           1           0  \n",
       "2  0.989739           1           0  \n",
       "3  0.989739           1           0  \n",
       "4  0.989739           1           0  "
      ]
     },
     "execution_count": 3,
     "metadata": {},
     "output_type": "execute_result"
    }
   ],
   "source": [
    "X.head(5)"
   ]
  },
  {
   "cell_type": "code",
   "execution_count": 4,
   "metadata": {},
   "outputs": [
    {
     "data": {
      "text/html": [
       "<div>\n",
       "<style scoped>\n",
       "    .dataframe tbody tr th:only-of-type {\n",
       "        vertical-align: middle;\n",
       "    }\n",
       "\n",
       "    .dataframe tbody tr th {\n",
       "        vertical-align: top;\n",
       "    }\n",
       "\n",
       "    .dataframe thead th {\n",
       "        text-align: right;\n",
       "    }\n",
       "</style>\n",
       "<table border=\"1\" class=\"dataframe\">\n",
       "  <thead>\n",
       "    <tr style=\"text-align: right;\">\n",
       "      <th></th>\n",
       "      <th>Altstadt-Lehel</th>\n",
       "      <th>Au - Haidhausen</th>\n",
       "      <th>Aubing-Lochhausen-Langwied</th>\n",
       "      <th>Berg am Laim</th>\n",
       "      <th>Bogenhausen</th>\n",
       "      <th>Feldmoching</th>\n",
       "      <th>Hadern</th>\n",
       "      <th>Harlaching</th>\n",
       "      <th>Hasenbergl-Lerchenau Ost</th>\n",
       "      <th>Laim</th>\n",
       "      <th>...</th>\n",
       "      <th>Schwanthalerhöhe</th>\n",
       "      <th>Sendling</th>\n",
       "      <th>Sendling-Westpark</th>\n",
       "      <th>Südgiesing</th>\n",
       "      <th>Thalkirchen</th>\n",
       "      <th>Trudering</th>\n",
       "      <th>Trudering-Riem</th>\n",
       "      <th>Untergiesing</th>\n",
       "      <th>Untergiesing-Harlaching</th>\n",
       "      <th>Untermenzing-Allach</th>\n",
       "    </tr>\n",
       "  </thead>\n",
       "  <tbody>\n",
       "    <tr>\n",
       "      <th>0</th>\n",
       "      <td>1.0</td>\n",
       "      <td>0.0</td>\n",
       "      <td>0.0</td>\n",
       "      <td>0.0</td>\n",
       "      <td>0.0</td>\n",
       "      <td>0.0</td>\n",
       "      <td>0.0</td>\n",
       "      <td>0.0</td>\n",
       "      <td>0.0</td>\n",
       "      <td>0.0</td>\n",
       "      <td>...</td>\n",
       "      <td>0.0</td>\n",
       "      <td>0.0</td>\n",
       "      <td>2.0</td>\n",
       "      <td>0.0</td>\n",
       "      <td>0.0</td>\n",
       "      <td>0.0</td>\n",
       "      <td>0.0</td>\n",
       "      <td>0.0</td>\n",
       "      <td>0.0</td>\n",
       "      <td>0.0</td>\n",
       "    </tr>\n",
       "    <tr>\n",
       "      <th>1</th>\n",
       "      <td>0.0</td>\n",
       "      <td>0.0</td>\n",
       "      <td>0.0</td>\n",
       "      <td>0.0</td>\n",
       "      <td>2.0</td>\n",
       "      <td>0.0</td>\n",
       "      <td>0.0</td>\n",
       "      <td>0.0</td>\n",
       "      <td>0.0</td>\n",
       "      <td>0.0</td>\n",
       "      <td>...</td>\n",
       "      <td>0.0</td>\n",
       "      <td>2.0</td>\n",
       "      <td>0.0</td>\n",
       "      <td>0.0</td>\n",
       "      <td>0.0</td>\n",
       "      <td>0.0</td>\n",
       "      <td>0.0</td>\n",
       "      <td>1.0</td>\n",
       "      <td>1.0</td>\n",
       "      <td>0.0</td>\n",
       "    </tr>\n",
       "    <tr>\n",
       "      <th>2</th>\n",
       "      <td>1.0</td>\n",
       "      <td>1.0</td>\n",
       "      <td>0.0</td>\n",
       "      <td>0.0</td>\n",
       "      <td>2.0</td>\n",
       "      <td>0.0</td>\n",
       "      <td>0.0</td>\n",
       "      <td>0.0</td>\n",
       "      <td>0.0</td>\n",
       "      <td>3.0</td>\n",
       "      <td>...</td>\n",
       "      <td>0.0</td>\n",
       "      <td>5.0</td>\n",
       "      <td>0.0</td>\n",
       "      <td>0.0</td>\n",
       "      <td>0.0</td>\n",
       "      <td>0.0</td>\n",
       "      <td>0.0</td>\n",
       "      <td>1.0</td>\n",
       "      <td>1.0</td>\n",
       "      <td>0.0</td>\n",
       "    </tr>\n",
       "    <tr>\n",
       "      <th>3</th>\n",
       "      <td>0.0</td>\n",
       "      <td>4.0</td>\n",
       "      <td>0.0</td>\n",
       "      <td>0.0</td>\n",
       "      <td>0.0</td>\n",
       "      <td>0.0</td>\n",
       "      <td>0.0</td>\n",
       "      <td>0.0</td>\n",
       "      <td>0.0</td>\n",
       "      <td>1.0</td>\n",
       "      <td>...</td>\n",
       "      <td>3.0</td>\n",
       "      <td>0.0</td>\n",
       "      <td>0.0</td>\n",
       "      <td>0.0</td>\n",
       "      <td>0.0</td>\n",
       "      <td>0.0</td>\n",
       "      <td>0.0</td>\n",
       "      <td>1.0</td>\n",
       "      <td>1.0</td>\n",
       "      <td>0.0</td>\n",
       "    </tr>\n",
       "    <tr>\n",
       "      <th>4</th>\n",
       "      <td>2.0</td>\n",
       "      <td>1.0</td>\n",
       "      <td>0.0</td>\n",
       "      <td>0.0</td>\n",
       "      <td>0.0</td>\n",
       "      <td>0.0</td>\n",
       "      <td>0.0</td>\n",
       "      <td>0.0</td>\n",
       "      <td>0.0</td>\n",
       "      <td>1.0</td>\n",
       "      <td>...</td>\n",
       "      <td>1.0</td>\n",
       "      <td>0.0</td>\n",
       "      <td>1.0</td>\n",
       "      <td>0.0</td>\n",
       "      <td>0.0</td>\n",
       "      <td>0.0</td>\n",
       "      <td>0.0</td>\n",
       "      <td>0.0</td>\n",
       "      <td>0.0</td>\n",
       "      <td>0.0</td>\n",
       "    </tr>\n",
       "  </tbody>\n",
       "</table>\n",
       "<p>5 rows × 34 columns</p>\n",
       "</div>"
      ],
      "text/plain": [
       "   Altstadt-Lehel  Au - Haidhausen  Aubing-Lochhausen-Langwied  Berg am Laim  \\\n",
       "0             1.0              0.0                         0.0           0.0   \n",
       "1             0.0              0.0                         0.0           0.0   \n",
       "2             1.0              1.0                         0.0           0.0   \n",
       "3             0.0              4.0                         0.0           0.0   \n",
       "4             2.0              1.0                         0.0           0.0   \n",
       "\n",
       "   Bogenhausen  Feldmoching  Hadern  Harlaching  Hasenbergl-Lerchenau Ost  \\\n",
       "0          0.0          0.0     0.0         0.0                       0.0   \n",
       "1          2.0          0.0     0.0         0.0                       0.0   \n",
       "2          2.0          0.0     0.0         0.0                       0.0   \n",
       "3          0.0          0.0     0.0         0.0                       0.0   \n",
       "4          0.0          0.0     0.0         0.0                       0.0   \n",
       "\n",
       "   Laim  ...  Schwanthalerhöhe  Sendling  Sendling-Westpark  Südgiesing  \\\n",
       "0   0.0  ...               0.0       0.0                2.0         0.0   \n",
       "1   0.0  ...               0.0       2.0                0.0         0.0   \n",
       "2   3.0  ...               0.0       5.0                0.0         0.0   \n",
       "3   1.0  ...               3.0       0.0                0.0         0.0   \n",
       "4   1.0  ...               1.0       0.0                1.0         0.0   \n",
       "\n",
       "   Thalkirchen  Trudering  Trudering-Riem  Untergiesing  \\\n",
       "0          0.0        0.0             0.0           0.0   \n",
       "1          0.0        0.0             0.0           1.0   \n",
       "2          0.0        0.0             0.0           1.0   \n",
       "3          0.0        0.0             0.0           1.0   \n",
       "4          0.0        0.0             0.0           0.0   \n",
       "\n",
       "   Untergiesing-Harlaching  Untermenzing-Allach  \n",
       "0                      0.0                  0.0  \n",
       "1                      1.0                  0.0  \n",
       "2                      1.0                  0.0  \n",
       "3                      1.0                  0.0  \n",
       "4                      0.0                  0.0  \n",
       "\n",
       "[5 rows x 34 columns]"
      ]
     },
     "execution_count": 4,
     "metadata": {},
     "output_type": "execute_result"
    }
   ],
   "source": [
    "y.head(5)"
   ]
  },
  {
   "cell_type": "code",
   "execution_count": 5,
   "metadata": {},
   "outputs": [
    {
     "name": "stdout",
     "output_type": "stream",
     "text": [
      "(35040, 47)\n",
      "   temperature_2m  relativehumidity_2m  apparent_temperature  windspeed_10m  \\\n",
      "0        0.355408             1.000000              0.342007       0.227848   \n",
      "1        0.357616             0.987013              0.340149       0.245570   \n",
      "2        0.359823             1.000000              0.336431       0.303797   \n",
      "\n",
      "   precipitation  hour_sin  hour_cos  month_sin  month_cos   day_sin  ...  \\\n",
      "0       0.017391  0.629410  0.982963       0.75   0.933013  0.600779  ...   \n",
      "1       0.008696  0.750000  0.933013       0.75   0.933013  0.600779  ...   \n",
      "2       0.017391  0.853553  0.853553       0.75   0.933013  0.600779  ...   \n",
      "\n",
      "   Schwanthalerhöhe  Sendling  Sendling-Westpark  Südgiesing  Thalkirchen  \\\n",
      "0               0.0       0.0                2.0         0.0          0.0   \n",
      "1               0.0       2.0                0.0         0.0          0.0   \n",
      "2               0.0       5.0                0.0         0.0          0.0   \n",
      "\n",
      "   Trudering  Trudering-Riem  Untergiesing  Untergiesing-Harlaching  \\\n",
      "0        0.0             0.0           0.0                      0.0   \n",
      "1        0.0             0.0           1.0                      1.0   \n",
      "2        0.0             0.0           1.0                      1.0   \n",
      "\n",
      "   Untermenzing-Allach  \n",
      "0                  0.0  \n",
      "1                  0.0  \n",
      "2                  0.0  \n",
      "\n",
      "[3 rows x 47 columns]\n"
     ]
    }
   ],
   "source": [
    "data = pd.concat([X, y], axis=1)\n",
    "print(data.shape)\n",
    "print(data.head(3))"
   ]
  },
  {
   "cell_type": "code",
   "execution_count": null,
   "metadata": {},
   "outputs": [],
   "source": [
    "# data.to_csv('../raw_data/final_processed_xy_data.csv')\n",
    "data = pd.read_csv('../raw_data/final_processed_xy_data.csv', index=False)\n",
    "data.shape"
   ]
  },
  {
   "attachments": {},
   "cell_type": "markdown",
   "metadata": {},
   "source": [
    "## Train-Test split"
   ]
  },
  {
   "cell_type": "code",
   "execution_count": 7,
   "metadata": {},
   "outputs": [],
   "source": [
    "## Functions for train-test split\n",
    "\n",
    "import pandas as pd\n",
    "import numpy as np\n",
    "from typing import Dict, List, Tuple, Sequence\n",
    "\n",
    "def get_folds(\n",
    "    df: pd.DataFrame,\n",
    "    fold_length: int,\n",
    "    fold_stride: int) -> List[pd.DataFrame]:\n",
    "    \"\"\"\n",
    "    This function slides through the Time Series dataframe of shape (n_timesteps, n_features) to create folds\n",
    "    - of equal `fold_length`\n",
    "    - using `fold_stride` between each fold\n",
    "\n",
    "    Args:\n",
    "        df (pd.DataFrame): Overall dataframe\n",
    "        fold_length (int): How long each fold should be in rows\n",
    "        fold_stride (int): How many timesteps to move forward between taking each fold\n",
    "\n",
    "    Returns:\n",
    "        List[pd.DataFrame]: A list where each fold is a dataframe within\n",
    "    \"\"\"\n",
    "    folds = []\n",
    "    for idx in range(0, len(df), fold_stride):\n",
    "        # Exits the loop as soon as the last fold index would exceed the last index\n",
    "        if (idx + fold_length) > len(df):\n",
    "            break\n",
    "        fold = df.iloc[idx:idx + fold_length, :]\n",
    "        folds.append(fold)\n",
    "    return folds\n",
    "\n",
    "def train_test_indices(fold:pd.DataFrame,\n",
    "                    train_test_ratio: float,\n",
    "                    input_length: int) -> Tuple[pd.DataFrame]:\n",
    "    \"\"\"From a fold dataframe, take a train dataframe and test dataframe based on\n",
    "    the split ratio.\n",
    "    - df_train contains all the timesteps until round(train_test_ratio * len(fold))\n",
    "    - df_test contains all the timesteps needed to create all (X_test, y_test) tuples\n",
    "\n",
    "    Args:\n",
    "        fold (pd.DataFrame): A fold of timesteps\n",
    "        train_test_ratio (float): The ratio between train and test 0-1\n",
    "        input_length (int): How long each X_i will be\n",
    "\n",
    "    Returns:\n",
    "        Tuple[pd.DataFrame]: A tuple of two dataframes (fold_train, fold_test)\n",
    "    \"\"\"\n",
    "def train_test_split(fold:pd.DataFrame,\n",
    "                     train_test_ratio: float,\n",
    "                     input_length: int) -> Tuple[pd.DataFrame]:\n",
    "    \"\"\"From a fold dataframe, take a train dataframe and test dataframe based on\n",
    "    the split ratio.\n",
    "    - df_train should contain all the timesteps until round(train_test_ratio * len(fold))\n",
    "    - df_test should contain all the timesteps needed to create all (X_test, y_test) tuples\n",
    "\n",
    "    Args:\n",
    "        fold (pd.DataFrame): A fold of timesteps\n",
    "        train_test_ratio (float): The ratio between train and test 0-1\n",
    "        input_length (int): How long each X_i will be\n",
    "\n",
    "    Returns:\n",
    "        Tuple[pd.DataFrame]: A tuple of two dataframes (fold_train, fold_test)\n",
    "    \"\"\"\n",
    "\n",
    "    # TRAIN SET\n",
    "    last_train_idx = round(train_test_ratio * len(fold))\n",
    "    fold_train = fold.iloc[0:last_train_idx, :]\n",
    "\n",
    "    # TEST SET\n",
    "    first_test_idx = last_train_idx - input_length\n",
    "    fold_test = fold.iloc[first_test_idx:, :]\n",
    "\n",
    "    return (fold_train, fold_test)"
   ]
  },
  {
   "cell_type": "code",
   "execution_count": 8,
   "metadata": {},
   "outputs": [
    {
     "data": {
      "text/plain": [
       "Index(['Altstadt-Lehel', 'Au - Haidhausen', 'Aubing-Lochhausen-Langwied',\n",
       "       'Berg am Laim', 'Bogenhausen', 'Feldmoching', 'Hadern', 'Harlaching',\n",
       "       'Hasenbergl-Lerchenau Ost', 'Laim', 'Lochhausen',\n",
       "       'Ludwigsvorstadt-Isarvorstadt', 'Maxvorstadt', 'Milbertshofen-Am Hart',\n",
       "       'Moosach', 'Neuhausen-Nymphenburg', 'Obergiesing', 'Obermenzing',\n",
       "       'Obersendling', 'Pasing', 'Pasing-Obermenzing', 'Ramersdorf-Perlach',\n",
       "       'Schwabing-Freimann', 'Schwabing-West', 'Schwanthalerhöhe', 'Sendling',\n",
       "       'Sendling-Westpark', 'Südgiesing', 'Thalkirchen', 'Trudering',\n",
       "       'Trudering-Riem', 'Untergiesing', 'Untergiesing-Harlaching',\n",
       "       'Untermenzing-Allach'],\n",
       "      dtype='object')"
      ]
     },
     "execution_count": 8,
     "metadata": {},
     "output_type": "execute_result"
    }
   ],
   "source": [
    "districts = y.columns\n",
    "districts"
   ]
  },
  {
   "cell_type": "code",
   "execution_count": 9,
   "metadata": {},
   "outputs": [
    {
     "name": "stdout",
     "output_type": "stream",
     "text": [
      "Number of folds: 9\n"
     ]
    }
   ],
   "source": [
    "FOLD_LENGTH = 17520 # 2 years\n",
    "FOLD_STRIDE = 2184 # 3 months\n",
    "TRAIN_TEST_RATIO = 0.8\n",
    "INPUT_LENGTH = 336 # 24 h * 14 d\n",
    "OUTPUT_LENGTH = 24\n",
    "\n",
    "folds = get_folds(data, FOLD_LENGTH, FOLD_STRIDE)\n",
    "print('Number of folds:', len(folds))"
   ]
  },
  {
   "cell_type": "code",
   "execution_count": 10,
   "metadata": {},
   "outputs": [
    {
     "name": "stdout",
     "output_type": "stream",
     "text": [
      "(14016, 47)\n",
      "(3840, 47)\n"
     ]
    }
   ],
   "source": [
    "# First fold\n",
    "(fold_train, fold_test) = train_test_split(folds[0], TRAIN_TEST_RATIO, INPUT_LENGTH)\n",
    "print(fold_train.shape)\n",
    "print(fold_test.shape)"
   ]
  },
  {
   "attachments": {},
   "cell_type": "markdown",
   "metadata": {},
   "source": [
    "## Prediction for All Districts"
   ]
  },
  {
   "cell_type": "code",
   "execution_count": 11,
   "metadata": {},
   "outputs": [
    {
     "name": "stdout",
     "output_type": "stream",
     "text": [
      "N_FEATURES: 13\n"
     ]
    }
   ],
   "source": [
    "TARGET = districts\n",
    "N_TARGETS = len(districts)\n",
    "N_FEATURES = len(X.columns)\n",
    "print('N_FEATURES:', N_FEATURES)"
   ]
  },
  {
   "cell_type": "code",
   "execution_count": 12,
   "metadata": {},
   "outputs": [],
   "source": [
    "## Functions for train-test split\n",
    "def get_Xi_yi(\n",
    "    fold:pd.DataFrame,\n",
    "    input_length:int,\n",
    "    output_length:int) -> Tuple[pd.DataFrame]:\n",
    "    \"\"\"given a fold, it returns one sequence (X_i, y_i) as based on the desired\n",
    "    input_length and output_length with the starting point of the sequence being chosen at random based\n",
    "\n",
    "    Args:\n",
    "        fold (pd.DataFrame): A single fold\n",
    "        input_length (int): How long each X_i should be\n",
    "        output_length (int): How long each y_i should be\n",
    "\n",
    "    Returns:\n",
    "        Tuple[pd.DataFrame]: A tuple of two dataframes (X_i, y_i)\n",
    "    \"\"\"\n",
    "\n",
    "    first_possible_start = 0\n",
    "    last_possible_start = len(fold) - (input_length + output_length) + 1\n",
    "    random_start = np.random.randint(first_possible_start, last_possible_start)\n",
    "    X_i = fold.iloc[random_start:random_start+input_length]\n",
    "    y_i = fold.iloc[random_start+input_length:\n",
    "                  random_start+input_length+output_length][TARGET]\n",
    "\n",
    "    return (X_i, y_i)\n",
    "\n",
    "def get_X_y(\n",
    "    fold:pd.DataFrame,\n",
    "    number_of_sequences:int,\n",
    "    input_length:int,\n",
    "    output_length:int) -> Tuple[np.array]:\n",
    "    \"\"\"Given a fold generate X and y based on the number of desired sequences\n",
    "    of the given input_length and output_length\n",
    "\n",
    "    Args:\n",
    "        fold (pd.DataFrame): Fold dataframe\n",
    "        number_of_sequences (int): The number of X_i and y_i pairs to include\n",
    "        input_length (int): Length of each X_i\n",
    "        output_length (int): Length of each y_i\n",
    "\n",
    "    Returns:\n",
    "        Tuple[np.array]: A tuple of numpy arrays (X, y)\n",
    "    \"\"\"\n",
    "    X, y = [], []\n",
    "\n",
    "    for i in range(number_of_sequences):\n",
    "        (Xi, yi) = get_Xi_yi(fold, input_length, output_length)\n",
    "        X.append(Xi)\n",
    "        y.append(yi)\n",
    "\n",
    "    return np.array(X), np.array(y)"
   ]
  },
  {
   "cell_type": "code",
   "execution_count": 13,
   "metadata": {},
   "outputs": [],
   "source": [
    "X_train_i, y_train_i = get_Xi_yi(fold_train, INPUT_LENGTH, OUTPUT_LENGTH)\n",
    "X_test_i, y_test_i = get_Xi_yi(fold_test, INPUT_LENGTH, OUTPUT_LENGTH)"
   ]
  },
  {
   "cell_type": "code",
   "execution_count": 14,
   "metadata": {},
   "outputs": [
    {
     "name": "stdout",
     "output_type": "stream",
     "text": [
      "X_train_i: (336, 47), y_train: (24, 34)\n",
      "X_test_i: (336, 47), y_test: (24, 34)\n"
     ]
    }
   ],
   "source": [
    "print(f'X_train_i: {X_train_i.shape}, y_train: {y_train_i.shape}')\n",
    "print(f'X_test_i: {X_test_i.shape}, y_test: {y_test_i.shape}')"
   ]
  },
  {
   "cell_type": "code",
   "execution_count": 15,
   "metadata": {},
   "outputs": [],
   "source": [
    "# N_TRAIN = 8000 # number_of_sequences_train\n",
    "# N_TEST =  2000 # number_of_sequences_test\n",
    "\n",
    "# X_train, y_train = get_X_y(fold_train, N_TRAIN, INPUT_LENGTH, OUTPUT_LENGTH)\n",
    "# X_test, y_test = get_X_y(fold_test, N_TEST, INPUT_LENGTH, OUTPUT_LENGTH)\n",
    "\n",
    "# print(f'X_train: {X_train.shape}, y_train: {y_train.shape}')\n",
    "# print(f'X_test: {X_test.shape}, y_test: {y_test.shape}')"
   ]
  },
  {
   "cell_type": "code",
   "execution_count": 16,
   "metadata": {},
   "outputs": [],
   "source": [
    "# X_train[0,0,:]"
   ]
  },
  {
   "cell_type": "code",
   "execution_count": 17,
   "metadata": {},
   "outputs": [],
   "source": [
    "# y_train[0,0,:]"
   ]
  },
  {
   "attachments": {},
   "cell_type": "markdown",
   "metadata": {},
   "source": [
    "## Prediction for Maxvorstadt"
   ]
  },
  {
   "cell_type": "code",
   "execution_count": 18,
   "metadata": {},
   "outputs": [],
   "source": [
    "# Select a single target district\n",
    "TARGET = 'Maxvorstadt'\n",
    "N_TARGETS = len(districts)"
   ]
  },
  {
   "cell_type": "code",
   "execution_count": 19,
   "metadata": {},
   "outputs": [
    {
     "name": "stdout",
     "output_type": "stream",
     "text": [
      "X_train_i: (336, 47), y_train_i: (24,)\n",
      "X_test_i: (336, 47), y_test_i: (24,)\n"
     ]
    }
   ],
   "source": [
    "# Prepare data for the selected target\n",
    "X_train_i, y_train_i = get_Xi_yi(fold_train, INPUT_LENGTH, OUTPUT_LENGTH)\n",
    "X_test_i, y_test_i = get_Xi_yi(fold_test, INPUT_LENGTH, OUTPUT_LENGTH)\n",
    "\n",
    "# Shape of the data\n",
    "print(f'X_train_i: {X_train_i.shape}, y_train_i: {y_train_i.shape}')\n",
    "print(f'X_test_i: {X_test_i.shape}, y_test_i: {y_test_i.shape}')"
   ]
  },
  {
   "cell_type": "code",
   "execution_count": 20,
   "metadata": {},
   "outputs": [
    {
     "name": "stdout",
     "output_type": "stream",
     "text": [
      "X_train: (8000, 336, 47), y_train: (8000, 24)\n",
      "X_test: (2000, 336, 47), y_test: (2000, 24)\n"
     ]
    }
   ],
   "source": [
    "N_TRAIN = 8000 # number_of_sequences_train\n",
    "N_TEST =  2000 # number_of_sequences_test\n",
    "\n",
    "X_train, y_train = get_X_y(fold_train, N_TRAIN, INPUT_LENGTH, OUTPUT_LENGTH)\n",
    "X_test, y_test = get_X_y(fold_test, N_TEST, INPUT_LENGTH, OUTPUT_LENGTH)\n",
    "\n",
    "print(f'X_train: {X_train.shape}, y_train: {y_train.shape}')\n",
    "print(f'X_test: {X_test.shape}, y_test: {y_test.shape}')"
   ]
  },
  {
   "attachments": {},
   "cell_type": "markdown",
   "metadata": {},
   "source": [
    "## RNN Model"
   ]
  },
  {
   "cell_type": "code",
   "execution_count": 21,
   "metadata": {},
   "outputs": [],
   "source": [
    "y_train = np.reshape(y_train, (8000, 24, 1))\n",
    "y_test = np.reshape(y_test, (2000, 24, 1))\n",
    "\n",
    "print(f'y_train_rnn: {y_train.shape}')\n",
    "print(f'y_test_rnn: {y_test.shape}')"
   ]
  },
  {
   "cell_type": "code",
   "execution_count": null,
   "metadata": {},
   "outputs": [],
   "source": [
    "import tensorflow as tf\n",
    "from tensorflow.keras.models import Sequential\n",
    "from tensorflow.keras.layers import LSTM, Dense\n",
    "\n",
    "# Define the model architecture\n",
    "model = Sequential()\n",
    "model.add(LSTM(units=64, input_shape=(336, 47)))\n",
    "model.add(Dense(units=24))\n",
    "\n",
    "# Compile the model\n",
    "model.compile(loss='mean_squared_error', optimizer='adam')\n",
    "\n",
    "# Train the model\n",
    "history = model.fit(X_train, y_train, epochs=10, batch_size=32, validation_data=(X_test, y_test))\n",
    "\n",
    "# Evaluate the model\n",
    "loss = model.evaluate(X_test, y_test)\n",
    "print('Test Loss:', loss)"
   ]
  },
  {
   "cell_type": "code",
   "execution_count": null,
   "metadata": {},
   "outputs": [],
   "source": [
    "import matplotlib.pyplot as plt\n",
    "\n",
    "# Get the training history\n",
    "train_loss = history.history['loss']\n",
    "val_loss = history.history['val_loss']\n",
    "\n",
    "# Plot the training and validation loss\n",
    "epochs = range(1, len(train_loss) + 1)\n",
    "plt.plot(epochs, train_loss, 'bo-', label='Training Loss')\n",
    "plt.plot(epochs, val_loss, 'ro-', label='Validation Loss')\n",
    "plt.title('Training and Validation Loss')\n",
    "plt.xlabel('Epochs')\n",
    "plt.ylabel('Loss')\n",
    "plt.legend()\n",
    "plt.show()"
   ]
  }
 ],
 "metadata": {
  "kernelspec": {
   "display_name": "bike_sharing_demand",
   "language": "python",
   "name": "python3"
  },
  "language_info": {
   "codemirror_mode": {
    "name": "ipython",
    "version": 3
   },
   "file_extension": ".py",
   "mimetype": "text/x-python",
   "name": "python",
   "nbconvert_exporter": "python",
   "pygments_lexer": "ipython3",
   "version": "3.10.6"
  },
  "orig_nbformat": 4
 },
 "nbformat": 4,
 "nbformat_minor": 2
}
