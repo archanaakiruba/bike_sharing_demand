{
 "cells": [
  {
   "cell_type": "code",
   "execution_count": 1,
   "metadata": {},
   "outputs": [],
   "source": [
    "import pandas as pd\n",
    "import matplotlib.pyplot as plt\n",
    "import seaborn as sns\n",
    "import numpy as np\n",
    "\n",
    "from sklearn.linear_model import LinearRegression\n",
    "from sklearn.model_selection import cross_validate, cross_val_score, train_test_split\n",
    "from sklearn.model_selection import cross_val_score\n",
    "\n",
    "from xgboost import XGBRegressor\n",
    "\n",
    "\n",
    "from bikesharing.ml_logic.model import get_folds, train_test_indices\n",
    "from bikesharing.interface.main import *\n",
    "from sklearn.metrics import mean_squared_error, r2_score, mean_squared_log_error"
   ]
  },
  {
   "cell_type": "code",
   "execution_count": 2,
   "metadata": {},
   "outputs": [
    {
     "name": "stdout",
     "output_type": "stream",
     "text": [
      "\u001b[34m\n",
      "Load preprocessed data from local CSV...\u001b[0m\n"
     ]
    },
    {
     "data": {
      "text/plain": [
       "(       Unnamed: 0  is_holiday  is_weekend  temperature_2m  \\\n",
       " 0               0           1           0        0.355408   \n",
       " 1               1           1           0        0.357616   \n",
       " 2               2           1           0        0.359823   \n",
       " 3               3           1           0        0.359823   \n",
       " 4               4           1           0        0.359823   \n",
       " ...           ...         ...         ...             ...   \n",
       " 35035       35035           0           1        0.426049   \n",
       " 35036       35036           0           1        0.412804   \n",
       " 35037       35037           0           1        0.410596   \n",
       " 35038       35038           0           1        0.417219   \n",
       " 35039       35039           0           1        0.415011   \n",
       " \n",
       "        apparent_temperature  windspeed_10m  precipitation  hour_sin  hour_cos  \\\n",
       " 0                  0.342007       0.227848       0.017391  0.629410  0.982963   \n",
       " 1                  0.340149       0.245570       0.008696  0.750000  0.933013   \n",
       " 2                  0.336431       0.303797       0.017391  0.853553  0.853553   \n",
       " 3                  0.332714       0.341772       0.008696  0.933013  0.750000   \n",
       " 4                  0.332714       0.356962       0.000000  0.982963  0.629410   \n",
       " ...                     ...            ...            ...       ...       ...   \n",
       " 35035              0.405204       0.202532       0.000000  0.066987  0.750000   \n",
       " 35036              0.395911       0.172152       0.000000  0.146447  0.853553   \n",
       " 35037              0.390335       0.182278       0.000000  0.250000  0.933013   \n",
       " 35038              0.390335       0.222785       0.000000  0.370590  0.982963   \n",
       " 35039              0.394052       0.172152       0.000000  0.500000  1.000000   \n",
       " \n",
       "        month_sin  month_cos   day_sin   day_cos  weekday_sin  weekday_cos  \n",
       " 0           0.75   0.933013  0.600779  0.989739     1.000000     0.356896  \n",
       " 1           0.75   0.933013  0.600779  0.989739     1.000000     0.356896  \n",
       " 2           0.75   0.933013  0.600779  0.989739     1.000000     0.356896  \n",
       " 3           0.75   0.933013  0.600779  0.989739     1.000000     0.356896  \n",
       " 4           0.75   0.933013  0.600779  0.989739     1.000000     0.356896  \n",
       " ...          ...        ...       ...       ...          ...          ...  \n",
       " 35035       0.50   1.000000  0.500000  1.000000     0.099031     0.801938  \n",
       " 35036       0.50   1.000000  0.500000  1.000000     0.099031     0.801938  \n",
       " 35037       0.50   1.000000  0.500000  1.000000     0.099031     0.801938  \n",
       " 35038       0.50   1.000000  0.500000  1.000000     0.099031     0.801938  \n",
       " 35039       0.50   1.000000  0.500000  1.000000     0.099031     0.801938  \n",
       " \n",
       " [35040 rows x 15 columns],\n",
       "        Altstadt-Lehel  Au - Haidhausen  Aubing-Lochhausen-Langwied  \\\n",
       " 0                 1.0              0.0                         0.0   \n",
       " 1                 0.0              0.0                         0.0   \n",
       " 2                 1.0              1.0                         0.0   \n",
       " 3                 0.0              4.0                         0.0   \n",
       " 4                 2.0              1.0                         0.0   \n",
       " ...               ...              ...                         ...   \n",
       " 35035             5.0              4.0                         0.0   \n",
       " 35036             4.0              1.0                         0.0   \n",
       " 35037             0.0              3.0                         0.0   \n",
       " 35038             5.0              3.0                         0.0   \n",
       " 35039             1.0              5.0                         0.0   \n",
       " \n",
       "        Berg am Laim  Bogenhausen  Feldmoching  Hadern  Harlaching  \\\n",
       " 0               0.0          0.0          0.0     0.0         0.0   \n",
       " 1               0.0          2.0          0.0     0.0         0.0   \n",
       " 2               0.0          2.0          0.0     0.0         0.0   \n",
       " 3               0.0          0.0          0.0     0.0         0.0   \n",
       " 4               0.0          0.0          0.0     0.0         0.0   \n",
       " ...             ...          ...          ...     ...         ...   \n",
       " 35035           1.0          1.0          0.0     1.0         0.0   \n",
       " 35036           0.0          1.0          0.0     0.0         0.0   \n",
       " 35037           0.0          1.0          0.0     0.0         0.0   \n",
       " 35038           0.0          5.0          0.0     0.0         0.0   \n",
       " 35039           0.0          1.0          0.0     0.0         0.0   \n",
       " \n",
       "        Hasenbergl-Lerchenau Ost  Laim  ...  Schwanthalerhöhe  Sendling  \\\n",
       " 0                           0.0   0.0  ...               0.0       0.0   \n",
       " 1                           0.0   0.0  ...               0.0       2.0   \n",
       " 2                           0.0   3.0  ...               0.0       5.0   \n",
       " 3                           0.0   1.0  ...               3.0       0.0   \n",
       " 4                           0.0   1.0  ...               1.0       0.0   \n",
       " ...                         ...   ...  ...               ...       ...   \n",
       " 35035                       0.0   0.0  ...               3.0       5.0   \n",
       " 35036                       0.0   0.0  ...               1.0       1.0   \n",
       " 35037                       0.0   0.0  ...               1.0       2.0   \n",
       " 35038                       0.0   0.0  ...               1.0       1.0   \n",
       " 35039                       0.0   0.0  ...               0.0       1.0   \n",
       " \n",
       "        Sendling-Westpark  Südgiesing  Thalkirchen  Trudering  Trudering-Riem  \\\n",
       " 0                    2.0         0.0          0.0        0.0             0.0   \n",
       " 1                    0.0         0.0          0.0        0.0             0.0   \n",
       " 2                    0.0         0.0          0.0        0.0             0.0   \n",
       " 3                    0.0         0.0          0.0        0.0             0.0   \n",
       " 4                    1.0         0.0          0.0        0.0             0.0   \n",
       " ...                  ...         ...          ...        ...             ...   \n",
       " 35035                0.0         1.0          1.0        0.0             0.0   \n",
       " 35036                2.0         0.0          0.0        0.0             0.0   \n",
       " 35037                0.0         0.0          0.0        0.0             0.0   \n",
       " 35038                0.0         0.0          0.0        0.0             0.0   \n",
       " 35039                0.0         0.0          1.0        0.0             0.0   \n",
       " \n",
       "        Untergiesing  Untergiesing-Harlaching  Untermenzing-Allach  \n",
       " 0               0.0                      0.0                  0.0  \n",
       " 1               1.0                      1.0                  0.0  \n",
       " 2               1.0                      1.0                  0.0  \n",
       " 3               1.0                      1.0                  0.0  \n",
       " 4               0.0                      0.0                  0.0  \n",
       " ...             ...                      ...                  ...  \n",
       " 35035           2.0                      2.0                  0.0  \n",
       " 35036           1.0                      1.0                  0.0  \n",
       " 35037           0.0                      0.0                  0.0  \n",
       " 35038           1.0                      1.0                  0.0  \n",
       " 35039           0.0                      0.0                  0.0  \n",
       " \n",
       " [35040 rows x 34 columns])"
      ]
     },
     "execution_count": 2,
     "metadata": {},
     "output_type": "execute_result"
    }
   ],
   "source": [
    "preprocess()"
   ]
  },
  {
   "cell_type": "code",
   "execution_count": 3,
   "metadata": {},
   "outputs": [],
   "source": [
    "df_X = pd.read_csv('~/.lewagon/bikesharing/data/processed/X_processed_from_2019_to_2022.csv')\n",
    "df_y = pd.read_csv('~/.lewagon/bikesharing/data/processed/y_processed_from_2019_to_2022.csv')"
   ]
  },
  {
   "cell_type": "code",
   "execution_count": 4,
   "metadata": {},
   "outputs": [],
   "source": [
    "columns = list(df_y.columns)"
   ]
  },
  {
   "cell_type": "code",
   "execution_count": 5,
   "metadata": {},
   "outputs": [],
   "source": [
    "df_X_y = pd.concat((df_X, df_y) , axis=1)"
   ]
  },
  {
   "cell_type": "code",
   "execution_count": 6,
   "metadata": {},
   "outputs": [],
   "source": [
    "fold_dfs = get_folds(df_X_y, fold_length=FOLD_LENGTH, fold_stride=FOLD_STRIDE)"
   ]
  },
  {
   "cell_type": "code",
   "execution_count": 7,
   "metadata": {},
   "outputs": [],
   "source": [
    "from sklearn.linear_model import ElasticNet\n",
    "from sklearn.model_selection import GridSearchCV\n",
    "\n",
    "\n",
    "models = []\n",
    "district_score_means = []\n",
    "\n",
    "\n",
    "folds = fold_dfs[:]\n",
    "\n",
    "test_df = folds[3]\n",
    "del folds[3]\n",
    "train_dfs = folds\n",
    "train_df = pd.concat(train_dfs, axis=0)"
   ]
  },
  {
   "cell_type": "code",
   "execution_count": 8,
   "metadata": {},
   "outputs": [],
   "source": [
    "X_test = test_df.drop(columns= columns)\n",
    "y_test = test_df['Laim']\n",
    "X_train = train_df.drop(columns= columns)\n",
    "y_train = train_df['Laim']\n",
    "\n",
    "\n",
    "# Instantiate model\n",
    "model = XGBRegressor(objective ='reg:squarederror')\n",
    "\n",
    "params = {\n",
    "    # Parameters that we are going to tune.\n",
    "    'max_depth':range(3,10,2),\n",
    "    'min_child_weight': range(1, 6, 1),\n",
    "    'eta':[0.1, 0.01, 0.05],\n",
    "    'subsample': [0.6, 0.8, 1.0],\n",
    "    'colsample_bytree': [0.6, 0.8, 1.0],\n",
    "    'gamma': [0.5, 1, 1.5, 2, 5]\n",
    "}\n",
    "\n",
    "# Instantiate Grid Search\n",
    "search = GridSearchCV(\n",
    "    model,\n",
    "    param_grid=params, \n",
    "    scoring = 'neg_mean_squared_error',\n",
    "    cv = 5,\n",
    "    n_jobs=-1 # parallelize computation\n",
    ") \n",
    "\n",
    "# Fit data to Grid Search\n",
    "search.fit(X_train, y_train);"
   ]
  },
  {
   "cell_type": "code",
   "execution_count": 9,
   "metadata": {},
   "outputs": [
    {
     "name": "stdout",
     "output_type": "stream",
     "text": [
      "Best score:  -2.469793002257732\n",
      "Best params:  {'colsample_bytree': 0.6, 'eta': 0.05, 'gamma': 0.5, 'max_depth': 7, 'min_child_weight': 3, 'subsample': 1.0}\n"
     ]
    },
    {
     "data": {
      "text/html": [
       "<style>#sk-container-id-1 {color: black;background-color: white;}#sk-container-id-1 pre{padding: 0;}#sk-container-id-1 div.sk-toggleable {background-color: white;}#sk-container-id-1 label.sk-toggleable__label {cursor: pointer;display: block;width: 100%;margin-bottom: 0;padding: 0.3em;box-sizing: border-box;text-align: center;}#sk-container-id-1 label.sk-toggleable__label-arrow:before {content: \"▸\";float: left;margin-right: 0.25em;color: #696969;}#sk-container-id-1 label.sk-toggleable__label-arrow:hover:before {color: black;}#sk-container-id-1 div.sk-estimator:hover label.sk-toggleable__label-arrow:before {color: black;}#sk-container-id-1 div.sk-toggleable__content {max-height: 0;max-width: 0;overflow: hidden;text-align: left;background-color: #f0f8ff;}#sk-container-id-1 div.sk-toggleable__content pre {margin: 0.2em;color: black;border-radius: 0.25em;background-color: #f0f8ff;}#sk-container-id-1 input.sk-toggleable__control:checked~div.sk-toggleable__content {max-height: 200px;max-width: 100%;overflow: auto;}#sk-container-id-1 input.sk-toggleable__control:checked~label.sk-toggleable__label-arrow:before {content: \"▾\";}#sk-container-id-1 div.sk-estimator input.sk-toggleable__control:checked~label.sk-toggleable__label {background-color: #d4ebff;}#sk-container-id-1 div.sk-label input.sk-toggleable__control:checked~label.sk-toggleable__label {background-color: #d4ebff;}#sk-container-id-1 input.sk-hidden--visually {border: 0;clip: rect(1px 1px 1px 1px);clip: rect(1px, 1px, 1px, 1px);height: 1px;margin: -1px;overflow: hidden;padding: 0;position: absolute;width: 1px;}#sk-container-id-1 div.sk-estimator {font-family: monospace;background-color: #f0f8ff;border: 1px dotted black;border-radius: 0.25em;box-sizing: border-box;margin-bottom: 0.5em;}#sk-container-id-1 div.sk-estimator:hover {background-color: #d4ebff;}#sk-container-id-1 div.sk-parallel-item::after {content: \"\";width: 100%;border-bottom: 1px solid gray;flex-grow: 1;}#sk-container-id-1 div.sk-label:hover label.sk-toggleable__label {background-color: #d4ebff;}#sk-container-id-1 div.sk-serial::before {content: \"\";position: absolute;border-left: 1px solid gray;box-sizing: border-box;top: 0;bottom: 0;left: 50%;z-index: 0;}#sk-container-id-1 div.sk-serial {display: flex;flex-direction: column;align-items: center;background-color: white;padding-right: 0.2em;padding-left: 0.2em;position: relative;}#sk-container-id-1 div.sk-item {position: relative;z-index: 1;}#sk-container-id-1 div.sk-parallel {display: flex;align-items: stretch;justify-content: center;background-color: white;position: relative;}#sk-container-id-1 div.sk-item::before, #sk-container-id-1 div.sk-parallel-item::before {content: \"\";position: absolute;border-left: 1px solid gray;box-sizing: border-box;top: 0;bottom: 0;left: 50%;z-index: -1;}#sk-container-id-1 div.sk-parallel-item {display: flex;flex-direction: column;z-index: 1;position: relative;background-color: white;}#sk-container-id-1 div.sk-parallel-item:first-child::after {align-self: flex-end;width: 50%;}#sk-container-id-1 div.sk-parallel-item:last-child::after {align-self: flex-start;width: 50%;}#sk-container-id-1 div.sk-parallel-item:only-child::after {width: 0;}#sk-container-id-1 div.sk-dashed-wrapped {border: 1px dashed gray;margin: 0 0.4em 0.5em 0.4em;box-sizing: border-box;padding-bottom: 0.4em;background-color: white;}#sk-container-id-1 div.sk-label label {font-family: monospace;font-weight: bold;display: inline-block;line-height: 1.2em;}#sk-container-id-1 div.sk-label-container {text-align: center;}#sk-container-id-1 div.sk-container {/* jupyter's `normalize.less` sets `[hidden] { display: none; }` but bootstrap.min.css set `[hidden] { display: none !important; }` so we also need the `!important` here to be able to override the default hidden behavior on the sphinx rendered scikit-learn.org. See: https://github.com/scikit-learn/scikit-learn/issues/21755 */display: inline-block !important;position: relative;}#sk-container-id-1 div.sk-text-repr-fallback {display: none;}</style><div id=\"sk-container-id-1\" class=\"sk-top-container\"><div class=\"sk-text-repr-fallback\"><pre>XGBRegressor(base_score=None, booster=None, callbacks=None,\n",
       "             colsample_bylevel=None, colsample_bynode=None,\n",
       "             colsample_bytree=0.6, early_stopping_rounds=None,\n",
       "             enable_categorical=False, eta=0.05, eval_metric=None,\n",
       "             feature_types=None, gamma=0.5, gpu_id=None, grow_policy=None,\n",
       "             importance_type=None, interaction_constraints=None,\n",
       "             learning_rate=None, max_bin=None, max_cat_threshold=None,\n",
       "             max_cat_to_onehot=None, max_delta_step=None, max_depth=7,\n",
       "             max_leaves=None, min_child_weight=3, missing=nan,\n",
       "             monotone_constraints=None, n_estimators=100, n_jobs=None,\n",
       "             num_parallel_tree=None, predictor=None, ...)</pre><b>In a Jupyter environment, please rerun this cell to show the HTML representation or trust the notebook. <br />On GitHub, the HTML representation is unable to render, please try loading this page with nbviewer.org.</b></div><div class=\"sk-container\" hidden><div class=\"sk-item\"><div class=\"sk-estimator sk-toggleable\"><input class=\"sk-toggleable__control sk-hidden--visually\" id=\"sk-estimator-id-1\" type=\"checkbox\" checked><label for=\"sk-estimator-id-1\" class=\"sk-toggleable__label sk-toggleable__label-arrow\">XGBRegressor</label><div class=\"sk-toggleable__content\"><pre>XGBRegressor(base_score=None, booster=None, callbacks=None,\n",
       "             colsample_bylevel=None, colsample_bynode=None,\n",
       "             colsample_bytree=0.6, early_stopping_rounds=None,\n",
       "             enable_categorical=False, eta=0.05, eval_metric=None,\n",
       "             feature_types=None, gamma=0.5, gpu_id=None, grow_policy=None,\n",
       "             importance_type=None, interaction_constraints=None,\n",
       "             learning_rate=None, max_bin=None, max_cat_threshold=None,\n",
       "             max_cat_to_onehot=None, max_delta_step=None, max_depth=7,\n",
       "             max_leaves=None, min_child_weight=3, missing=nan,\n",
       "             monotone_constraints=None, n_estimators=100, n_jobs=None,\n",
       "             num_parallel_tree=None, predictor=None, ...)</pre></div></div></div></div></div>"
      ],
      "text/plain": [
       "XGBRegressor(base_score=None, booster=None, callbacks=None,\n",
       "             colsample_bylevel=None, colsample_bynode=None,\n",
       "             colsample_bytree=0.6, early_stopping_rounds=None,\n",
       "             enable_categorical=False, eta=0.05, eval_metric=None,\n",
       "             feature_types=None, gamma=0.5, gpu_id=None, grow_policy=None,\n",
       "             importance_type=None, interaction_constraints=None,\n",
       "             learning_rate=None, max_bin=None, max_cat_threshold=None,\n",
       "             max_cat_to_onehot=None, max_delta_step=None, max_depth=7,\n",
       "             max_leaves=None, min_child_weight=3, missing=nan,\n",
       "             monotone_constraints=None, n_estimators=100, n_jobs=None,\n",
       "             num_parallel_tree=None, predictor=None, ...)"
      ]
     },
     "execution_count": 9,
     "metadata": {},
     "output_type": "execute_result"
    }
   ],
   "source": [
    "# Best score\n",
    "print(\"Best score: \", search.best_score_)\n",
    "\n",
    "# Best Params\n",
    "print(\"Best params: \", search.best_params_)\n",
    "\n",
    "# Best estimator\n",
    "search.best_estimator_"
   ]
  },
  {
   "attachments": {},
   "cell_type": "markdown",
   "metadata": {},
   "source": [
    "## Train Model"
   ]
  },
  {
   "cell_type": "code",
   "execution_count": 10,
   "metadata": {},
   "outputs": [],
   "source": [
    "districts = ['Laim']"
   ]
  },
  {
   "cell_type": "code",
   "execution_count": 11,
   "metadata": {},
   "outputs": [],
   "source": [
    "fold_dfs = get_folds(df_X_y, fold_length=FOLD_LENGTH, fold_stride=FOLD_STRIDE)"
   ]
  },
  {
   "cell_type": "code",
   "execution_count": 12,
   "metadata": {},
   "outputs": [
    {
     "name": "stdout",
     "output_type": "stream",
     "text": [
      "0 >>> scores R2=[0.4507314323467174]\n",
      "0 >>> scores RMSE=[1.6038930892965435]\n",
      "1 >>> scores R2=[0.4507314323467174, 0.507403321828391]\n",
      "1 >>> scores RMSE=[1.6038930892965435, 1.5230810918736923]\n",
      "2 >>> scores R2=[0.4507314323467174, 0.507403321828391, 0.48065654219718057]\n",
      "2 >>> scores RMSE=[1.6038930892965435, 1.5230810918736923, 1.2813741644731926]\n",
      "3 >>> scores R2=[0.4507314323467174, 0.507403321828391, 0.48065654219718057, 0.4213929518476013]\n",
      "3 >>> scores RMSE=[1.6038930892965435, 1.5230810918736923, 1.2813741644731926, 1.3171290717277828]\n"
     ]
    }
   ],
   "source": [
    "models = []\n",
    "district_score_means_r2 = []\n",
    "district_score_means_rmse = []\n",
    "\n",
    "for dist in districts:\n",
    "    scores_list_r2 = []\n",
    "    scores_list_rmse = []\n",
    "        \n",
    "    for i, fold in enumerate(fold_dfs):\n",
    "        xgb_r = XGBRegressor(objective ='reg:squarederror',\n",
    "                  n_estimators = 100, seed = 123,\n",
    "                  colsample_bytree=0.8, eta=0.1, gamma=5, max_depth=5, \n",
    "                  min_child_weight=3, subsample=0.6)        \n",
    "\n",
    "        folds = fold_dfs[:]\n",
    "        test_df = folds[i]\n",
    "        del folds[i]\n",
    "        train_dfs = folds  \n",
    "        train_df = pd.concat(train_dfs, axis=0)  \n",
    "        \n",
    "        X_test = test_df.drop(columns= districts)\n",
    "        y_test = test_df[dist]\n",
    "        X_train = train_df.drop(columns= districts)\n",
    "        y_train = train_df[dist]\n",
    "        \n",
    "        xgb_r.fit(X_train, y_train)\n",
    "        y_pred = [x if x >= 0 else 0 for x in xgb_r.predict(X_test)]\n",
    "        scores_r2 = r2_score(y_test , y_pred)\n",
    "        scores_rmse = np.sqrt(mean_squared_error(y_test, xgb_r.predict(X_test)))\n",
    "        scores_list_r2.append(scores_r2)\n",
    "        scores_list_rmse.append(scores_rmse)\n",
    "        print(f\"{i} >>> scores R2={scores_list_r2}\")\n",
    "        print(f\"{i} >>> scores RMSE={scores_list_rmse}\")\n",
    "        \n",
    "        \n",
    "    scores_array_r2 = np.array(scores_r2)\n",
    "    scores_array_rmse = np.array(scores_rmse)\n",
    "    district_score_means_r2.append(np.mean(scores_array_r2.flatten()))\n",
    "    district_score_means_rmse.append(np.mean(scores_array_rmse.flatten()))"
   ]
  },
  {
   "cell_type": "code",
   "execution_count": 13,
   "metadata": {},
   "outputs": [
    {
     "name": "stdout",
     "output_type": "stream",
     "text": [
      "LAIM:\n",
      "\n",
      ">>> R2 Scores 0.4213929518476013\n",
      ">>> RMSE Scores 1.3171290717277828\n"
     ]
    }
   ],
   "source": [
    "print(\"LAIM:\\n\")\n",
    "print(\">>> R2 Scores\", np.mean(district_score_means_r2))\n",
    "print(\">>> RMSE Scores\", np.mean(district_score_means_rmse))\n",
    "\n",
    "# scores_df_r2 = pd.DataFrame(district_score_means_r2, columns=['score'], index=districts)\n",
    "# scores_df_r2.sort_values(by=['score'], inplace=True) \n",
    "\n",
    "# scores_df_rmse = pd.DataFrame(district_score_means_rmse, columns=['score'], index=districts)\n",
    "# scores_df_rmse.sort_values(by=['score'], inplace=True) \n",
    "\n",
    "\n",
    "\n",
    "# fig, ax = plt.subplots(1,2, figsize=(14,5))\n",
    "# ax[0].plot(scores_df_r2.index, scores_df_r2['score'])\n",
    "# ax[0].set_title('r2 scores')\n",
    "# ax[0].axhline(y=0, color='r', linestyle='-')\n",
    "# ax[0].grid(c='#ededed')\n",
    "# ax[0].tick_params(axis='x', rotation=90)\n",
    "\n",
    "# ax[1].plot(scores_df_rmse.index, scores_df_rmse['score'])\n",
    "# ax[1].set_title('rmse scores')\n",
    "# ax[1].axhline(y=0, color='r', linestyle='-')\n",
    "# ax[1].grid(c='#ededed')\n",
    "# ax[1].tick_params(axis='x', rotation=90)\n",
    "\n",
    "\n",
    "\n",
    "# plt.show()"
   ]
  },
  {
   "cell_type": "code",
   "execution_count": null,
   "metadata": {},
   "outputs": [],
   "source": []
  },
  {
   "cell_type": "code",
   "execution_count": null,
   "metadata": {},
   "outputs": [],
   "source": []
  },
  {
   "cell_type": "code",
   "execution_count": null,
   "metadata": {},
   "outputs": [],
   "source": []
  },
  {
   "cell_type": "code",
   "execution_count": null,
   "metadata": {},
   "outputs": [],
   "source": []
  },
  {
   "cell_type": "code",
   "execution_count": null,
   "metadata": {},
   "outputs": [],
   "source": []
  },
  {
   "cell_type": "code",
   "execution_count": null,
   "metadata": {},
   "outputs": [],
   "source": []
  },
  {
   "cell_type": "code",
   "execution_count": null,
   "metadata": {},
   "outputs": [],
   "source": []
  },
  {
   "cell_type": "code",
   "execution_count": null,
   "metadata": {},
   "outputs": [],
   "source": []
  },
  {
   "cell_type": "code",
   "execution_count": null,
   "metadata": {},
   "outputs": [],
   "source": []
  },
  {
   "cell_type": "code",
   "execution_count": null,
   "metadata": {},
   "outputs": [],
   "source": []
  },
  {
   "cell_type": "code",
   "execution_count": null,
   "metadata": {},
   "outputs": [],
   "source": []
  },
  {
   "cell_type": "code",
   "execution_count": null,
   "metadata": {},
   "outputs": [],
   "source": []
  },
  {
   "cell_type": "code",
   "execution_count": null,
   "metadata": {},
   "outputs": [],
   "source": []
  },
  {
   "cell_type": "code",
   "execution_count": null,
   "metadata": {},
   "outputs": [],
   "source": []
  },
  {
   "cell_type": "code",
   "execution_count": null,
   "metadata": {},
   "outputs": [],
   "source": []
  }
 ],
 "metadata": {
  "kernelspec": {
   "display_name": "bike_sharing_demand",
   "language": "python",
   "name": "python3"
  },
  "language_info": {
   "codemirror_mode": {
    "name": "ipython",
    "version": 3
   },
   "file_extension": ".py",
   "mimetype": "text/x-python",
   "name": "python",
   "nbconvert_exporter": "python",
   "pygments_lexer": "ipython3",
   "version": "3.10.6"
  },
  "orig_nbformat": 4
 },
 "nbformat": 4,
 "nbformat_minor": 2
}
