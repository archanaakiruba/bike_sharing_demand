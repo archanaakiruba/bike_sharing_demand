{
 "cells": [
  {
   "attachments": {},
   "cell_type": "markdown",
   "metadata": {},
   "source": [
    "# Feature Engineering"
   ]
  },
  {
   "cell_type": "code",
   "execution_count": null,
   "metadata": {},
   "outputs": [],
   "source": [
    "import pandas as pd\n",
    "import numpy as np\n",
    "import holidays\n",
    "from datetime import date\n"
   ]
  },
  {
   "attachments": {},
   "cell_type": "markdown",
   "metadata": {},
   "source": [
    "# Holiday Flag"
   ]
  },
  {
   "cell_type": "code",
   "execution_count": null,
   "metadata": {},
   "outputs": [],
   "source": [
    "def is_holiday(data: pd.DataFrame):\n",
    "    \"\"\"\n",
    "    Performs feature engineering on the input data.\n",
    "\n",
    "    Args:\n",
    "        data (pd.DataFrame): The input DataFrame.\n",
    "\n",
    "    Returns:\n",
    "        DataFrame: A DataFrame containing the Holiday Flags.\n",
    "    \"\"\"\n",
    "    data['rent_date_hour'] = pd.to_datetime(data['rent_date_hour'])\n",
    "    \n",
    "    # Extract date from rent_date_hour\n",
    "    X = data['rent_date_hour'].dt.date\n",
    "    \n",
    "    # Checking for the Bayern Holidays\n",
    "    bay_holidays = holidays.CountryHoliday('DE', prov='BY')\n",
    "\n",
    "    data['is_holiday'] = X.apply(lambda x: 1 if x in bay_holidays else 0)\n",
    "    \n",
    "    return data[['rent_date_hour', 'is_holiday']]"
   ]
  },
  {
   "attachments": {},
   "cell_type": "markdown",
   "metadata": {},
   "source": [
    "# Weekend Flag"
   ]
  },
  {
   "cell_type": "code",
   "execution_count": null,
   "metadata": {},
   "outputs": [],
   "source": [
    "def is_weekend(data: pd.DataFrame):\n",
    "    \"\"\"\n",
    "    Performs feature engineering on the input data.\n",
    "\n",
    "    Args:\n",
    "        data (pd.DataFrame): The input DataFrame.\n",
    "\n",
    "    Returns:\n",
    "        DataFrame: A DataFrame containing the Weekend Flags.\n",
    "    \"\"\"\n",
    "    data['rent_date_hour'] = pd.to_datetime(data['rent_date_hour'])\n",
    "    \n",
    "    # Extract date from rent_date_hour\n",
    "    X = data['rent_date_hour'].dt.date\n",
    "    \n",
    "    # Checking if Day is a Weekend or not\n",
    "    data[\"is_weekend\"] = X.apply(lambda x: 1 if x.weekday() >= 5 else 0)\n",
    "\n",
    "    return data[['rent_date_hour', 'is_weekend']]\n"
   ]
  },
  {
   "attachments": {},
   "cell_type": "markdown",
   "metadata": {},
   "source": [
    "# Feature Selection"
   ]
  },
  {
   "cell_type": "code",
   "execution_count": null,
   "metadata": {},
   "outputs": [],
   "source": [
    "def feature_selection(data, list):\n",
    "    ''' \n",
    "    Performs feature selection on the input data.\n",
    "\n",
    "    Args:\n",
    "        data (pd.DataFrame): The input DataFrame.\n",
    "        list: List containing features\n",
    "\n",
    "    Returns:\n",
    "        DataFrame: A DataFrame containing the Features from the List.\n",
    "    '''\n",
    "    df = data[[c for c in data.columns if c in list]]\n",
    "    \n",
    "    return df"
   ]
  }
 ],
 "metadata": {
  "kernelspec": {
   "display_name": "bike_sharing_demand",
   "language": "python",
   "name": "python3"
  },
  "language_info": {
   "name": "python",
   "version": "3.10.6"
  },
  "orig_nbformat": 4
 },
 "nbformat": 4,
 "nbformat_minor": 2
}
