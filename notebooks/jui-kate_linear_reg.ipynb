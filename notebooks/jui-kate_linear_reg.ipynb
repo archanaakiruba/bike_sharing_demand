{
 "cells": [
  {
   "cell_type": "code",
   "execution_count": null,
   "metadata": {},
   "outputs": [],
   "source": [
    "import pandas as pd\n",
    "import matplotlib.pyplot as plt\n",
    "import seaborn as sns\n",
    "import numpy as np\n",
    "\n",
    "from sklearn.linear_model import LinearRegression\n",
    "from sklearn.model_selection import cross_validate, cross_val_score, train_test_split\n",
    "\n",
    "from bikesharing.ml_logic.model import get_folds, train_test_indices\n",
    "from bikesharing.interface.main import *"
   ]
  },
  {
   "cell_type": "code",
   "execution_count": null,
   "metadata": {},
   "outputs": [],
   "source": [
    "#preprocess()"
   ]
  },
  {
   "cell_type": "code",
   "execution_count": null,
   "metadata": {},
   "outputs": [],
   "source": [
    "df_X = pd.read_csv('~/.lewagon/bikesharing/data/processed/X_processed_from_2019_to_2022.csv')\n",
    "df_y = pd.read_csv('~/.lewagon/bikesharing/data/processed/y_processed_from_2019_to_2022.csv')"
   ]
  },
  {
   "cell_type": "code",
   "execution_count": null,
   "metadata": {},
   "outputs": [],
   "source": [
    "df_X_y = pd.concat((df_X, df_y) , axis=1)"
   ]
  },
  {
   "cell_type": "code",
   "execution_count": null,
   "metadata": {},
   "outputs": [],
   "source": [
    "districts = ['Altstadt-Lehel', 'Au - Haidhausen',\n",
    "       'Aubing-Lochhausen-Langwied', 'Berg am Laim', 'Bogenhausen',\n",
    "       'Feldmoching', 'Hadern', 'Harlaching', 'Hasenbergl-Lerchenau Ost',\n",
    "       'Laim', 'Lochhausen', 'Ludwigsvorstadt-Isarvorstadt', 'Maxvorstadt',\n",
    "       'Milbertshofen-Am Hart', 'Moosach', 'Neuhausen-Nymphenburg',\n",
    "       'Obergiesing', 'Obermenzing', 'Obersendling', 'Pasing',\n",
    "       'Pasing-Obermenzing', 'Ramersdorf-Perlach', 'Schwabing-Freimann',\n",
    "       'Schwabing-West', 'Schwanthalerhöhe', 'Sendling', 'Sendling-Westpark',\n",
    "       'Südgiesing', 'Thalkirchen', 'Trudering', 'Trudering-Riem',\n",
    "       'Untergiesing', 'Untergiesing-Harlaching', 'Untermenzing-Allach']"
   ]
  },
  {
   "cell_type": "code",
   "execution_count": null,
   "metadata": {},
   "outputs": [],
   "source": [
    "fold_dfs = get_folds(df_X_y, fold_length=FOLD_LENGTH, fold_stride=FOLD_STRIDE)"
   ]
  },
  {
   "cell_type": "code",
   "execution_count": null,
   "metadata": {},
   "outputs": [],
   "source": [
    "model = LinearRegression()\n",
    "scores = []\n",
    "indices = [0, 1, 2, 3]\n",
    "\n",
    "for id in range(4):\n",
    "    \n",
    "    test_df = fold_dfs[id]\n",
    "    train_folds = [fold_dfs[i] for i in indices if i != id]\n",
    "    \n",
    "    train_df = pd.concat(train_folds, axis=0)\n",
    "    X_test = test_df.drop(columns= districts)\n",
    "    y_test = test_df['Maxvorstadt']\n",
    "    X_train = train_df.drop(columns= districts)\n",
    "    y_train = train_df['Maxvorstadt']\n",
    "    \n",
    "    model.fit(X_train, y_train)\n",
    "    scores.append(model.score(X_test, y_test))\n",
    "    \n",
    "score_mean = np.mean(scores)"
   ]
  },
  {
   "cell_type": "code",
   "execution_count": null,
   "metadata": {},
   "outputs": [],
   "source": [
    "scores"
   ]
  },
  {
   "cell_type": "code",
   "execution_count": null,
   "metadata": {},
   "outputs": [],
   "source": []
  },
  {
   "cell_type": "code",
   "execution_count": null,
   "metadata": {},
   "outputs": [],
   "source": []
  },
  {
   "cell_type": "code",
   "execution_count": null,
   "metadata": {},
   "outputs": [],
   "source": []
  },
  {
   "cell_type": "code",
   "execution_count": null,
   "metadata": {},
   "outputs": [],
   "source": []
  },
  {
   "cell_type": "code",
   "execution_count": null,
   "metadata": {},
   "outputs": [],
   "source": []
  }
 ],
 "metadata": {
  "kernelspec": {
   "display_name": "bike_sharing_demand",
   "language": "python",
   "name": "python3"
  },
  "language_info": {
   "codemirror_mode": {
    "name": "ipython",
    "version": 3
   },
   "file_extension": ".py",
   "mimetype": "text/x-python",
   "name": "python",
   "nbconvert_exporter": "python",
   "pygments_lexer": "ipython3",
   "version": "3.10.6"
  },
  "orig_nbformat": 4
 },
 "nbformat": 4,
 "nbformat_minor": 2
}
