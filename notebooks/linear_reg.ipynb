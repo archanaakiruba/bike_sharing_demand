{
 "cells": [
  {
   "cell_type": "code",
   "execution_count": null,
   "metadata": {},
   "outputs": [],
   "source": [
    "import pandas as pd\n",
    "import matplotlib.pyplot as plt\n",
    "import seaborn as sns\n",
    "# import numpy as np\n",
    "\n",
    "from sklearn.linear_model import LinearRegression\n",
    "from sklearn.model_selection import cross_validate, cross_val_score, train_test_split\n",
    "\n",
    "from bikesharing.ml_logic.model import get_folds, train_test_indices"
   ]
  },
  {
   "cell_type": "code",
   "execution_count": null,
   "metadata": {},
   "outputs": [],
   "source": [
    "# Define Input Data\n",
    "# df.head()"
   ]
  },
  {
   "cell_type": "code",
   "execution_count": null,
   "metadata": {},
   "outputs": [],
   "source": [
    "districts = ['Altstadt-Lehel', 'Au - Haidhausen',\n",
    "       'Aubing-Lochhausen-Langwied', 'Berg am Laim', 'Bogenhausen',\n",
    "       'Feldmoching', 'Hadern', 'Harlaching', 'Hasenbergl-Lerchenau Ost',\n",
    "       'Laim', 'Lochhausen', 'Ludwigsvorstadt-Isarvorstadt', 'Maxvorstadt',\n",
    "       'Milbertshofen-Am Hart', 'Moosach', 'Neuhausen-Nymphenburg',\n",
    "       'Obergiesing', 'Obermenzing', 'Obersendling', 'Pasing',\n",
    "       'Pasing-Obermenzing', 'Ramersdorf-Perlach', 'Schwabing-Freimann',\n",
    "       'Schwabing-West', 'Schwanthalerhöhe', 'Sendling', 'Sendling-Westpark',\n",
    "       'Südgiesing', 'Thalkirchen', 'Trudering', 'Trudering-Riem',\n",
    "       'Untergiesing', 'Untergiesing-Harlaching', 'Untermenzing-Allach']"
   ]
  },
  {
   "cell_type": "code",
   "execution_count": null,
   "metadata": {},
   "outputs": [],
   "source": [
    "fold_dfs = get_folds(df, FOLD_LENGTH, FOLD_STRIDE)"
   ]
  },
  {
   "cell_type": "code",
   "execution_count": null,
   "metadata": {},
   "outputs": [],
   "source": [
    "X = fold_dfs[0][['temperature_2m', \n",
    "        'relativehumidity_2m', \n",
    "        'apparent_temperature',\n",
    "        'windspeed_10m', \n",
    "        'precipitation', \n",
    "        'is_holiday', \n",
    "        'is_weekend',\n",
    "        'hour_sin', \n",
    "        'hour_cos', \n",
    "        'month_sin', \n",
    "        'month_cos', \n",
    "        'day_sin', \n",
    "        'day_cos']]\n",
    "y = fold_dfs[0]['Maxvorstadt']"
   ]
  },
  {
   "cell_type": "code",
   "execution_count": null,
   "metadata": {},
   "outputs": [],
   "source": [
    "# fold_train, fold_test = train_test_indices(fold_dfs[0], TRAIN_TEST_RATION, FOLD_LENGTH)"
   ]
  },
  {
   "cell_type": "code",
   "execution_count": null,
   "metadata": {},
   "outputs": [],
   "source": [
    "\n",
    "model = LinearRegression()\n",
    "scores = []\n",
    "\n",
    "for id, fold in enumerate(fold_dfs):\n",
    "    \n",
    "    test_df = fold\n",
    "    train_folds = del fold_dfs[id]\n",
    "    train_df = pd.concat(train_folds)\n",
    "    X_test = test_df.drop(districts)\n",
    "    y_test = test_df['Maxvorstadt']\n",
    "    X_train = train_df.drop(districts)\n",
    "    y_train = train_df['Maxvorstadt']\n",
    "    \n",
    "    model.fit(X_train, y_train)\n",
    "    scores.append(model.score(X_test, y_test))\n",
    "    \n",
    "score_mean = scores.mean()"
   ]
  },
  {
   "cell_type": "code",
   "execution_count": null,
   "metadata": {},
   "outputs": [],
   "source": [
    "# # Make a prediction with the model\n",
    "# prediction = None\n",
    "# prediction = model.predict(new_datapoint)[0]\n",
    "# prediction"
   ]
  },
  {
   "cell_type": "code",
   "execution_count": null,
   "metadata": {},
   "outputs": [],
   "source": []
  },
  {
   "cell_type": "code",
   "execution_count": null,
   "metadata": {},
   "outputs": [],
   "source": [
    "# Plot\n",
    "# plt.scatter(X, y, alpha=0.5)\n",
    "# plt.title('Scatter plot')\n",
    "# plt.xlabel('Minutes Played')\n",
    "# plt.ylabel('Rating')\n",
    "# plt.show()"
   ]
  },
  {
   "cell_type": "code",
   "execution_count": null,
   "metadata": {},
   "outputs": [],
   "source": [
    "# # Instantiate model / cross-validation\n",
    "# model = LinearRegression()\n",
    "\n",
    "# # 4-Year/Fold Cross validate the model\n",
    "\n",
    "# # >>> Replace with real data >>>\n",
    "# length_df = 35064\n",
    "# FOLD_LENGTH = 8760\n",
    "# fold_number = (length_df / FOLD_LENGTH)\n",
    "# # <<< Replace with real data <<<\n",
    "\n",
    "# cv_results = cross_validate(model, X, y, cv=fold_number)"
   ]
  },
  {
   "cell_type": "code",
   "execution_count": null,
   "metadata": {},
   "outputs": [],
   "source": [
    "# # Min score\n",
    "# min_score = cv_results['test_score'].min()\n",
    "# # print(f\"{min_score=}\") \n",
    "\n",
    "# # Max score\n",
    "# max_score = cv_results['test_score'].max()\n",
    "# # print(f\"{max_score=}\") \n",
    "\n",
    "# # Mean of scores\n",
    "# mean_score = cv_results['test_score'].mean()\n",
    "# # print(f\"{mean_score=}\") "
   ]
  },
  {
   "cell_type": "code",
   "execution_count": null,
   "metadata": {},
   "outputs": [],
   "source": [
    "# # Evolution of total computational time (fitting and scoring) and mean score as `K` increases from 2 to 20.\n",
    "\n",
    "# K = []\n",
    "# total_time = []\n",
    "# score = []\n",
    "\n",
    "# for k in range(2,21):\n",
    "#     cross_val_results = cross_validate(model, X, y, cv=k)\n",
    "\n",
    "#     total_time.append(sum(cross_val_results['fit_time'])+sum(cross_val_results['score_time']))\n",
    "#     K.append(k)\n",
    "#     score.append(cross_val_results['test_score'].mean())\n",
    "    \n",
    "\n",
    "# # Plot\n",
    "# plt.figure(figsize=(14,4))\n",
    "# plt.subplot(1,2,1)\n",
    "# plt.plot(K, total_time, color = \"red\")\n",
    "# plt.xlabel(\"K Folds\", fontsize = 14)\n",
    "# plt.ylabel(\"Milliseconds\", fontsize = 14)\n",
    "# plt.title(\"Computational time vs. K folds\", fontsize = 18)\n",
    "\n",
    "# plt.subplot(1,2,2)\n",
    "# plt.plot(K, score, color = \"blue\")\n",
    "# plt.xlabel(\"K Folds\", fontsize = 14)\n",
    "# plt.ylabel(\"R2\", fontsize = 14)\n",
    "# plt.ylim(0,1)\n",
    "# plt.title(\"Score vs. K folds\", fontsize = 18);"
   ]
  },
  {
   "cell_type": "code",
   "execution_count": null,
   "metadata": {},
   "outputs": [],
   "source": [
    "# Plotting like a pro\n",
    "with plt.style.context('seaborn-deep'):\n",
    "    # Setting figsize\n",
    "    plt.figure(figsize=(10, 6))\n",
    "\n",
    "    # Getting axes\n",
    "    ax1 = plt.gca()\n",
    "\n",
    "    # Duplicating the ax1\n",
    "    ax2 = ax1.twinx()\n",
    "\n",
    "    # Plotting time\n",
    "    ax1.plot(K, total_time, color=\"purple\", linestyle=\":\", marker=\"X\", label=\"Total Time\")\n",
    "\n",
    "    # Plotting on the second axis\n",
    "    ax2.plot(K, score, label=\"R2 Score\", c=\"black\", linestyle = \"dashed\", marker=\"D\")\n",
    "    ax2.set_ylim(0, 1)\n",
    "\n",
    "    # Get a conjoined legend\n",
    "    lines, labels = ax1.get_legend_handles_labels()\n",
    "    lines2, labels2 = ax2.get_legend_handles_labels()\n",
    "    ax2.legend(lines + lines2, labels + labels2, loc='upper center')\n",
    "\n",
    "    # Highlighting results from K = 5 and K = 10\n",
    "    ax1.scatter(5, total_time[5-2], c='yellow', s=300)\n",
    "    ax1.scatter(10, total_time[10-2], c='yellow', s=300)\n",
    "    ax2.scatter(5, score[5-2], c='yellow', s=300)\n",
    "    ax2.scatter(10, score[10-2], c='yellow', s=300)\n",
    "\n",
    "    # Additional styling\n",
    "    ax1.grid(axis=\"y\", linewidth=0.5)\n",
    "    ax1.set_title('Impact of K on the score and the computational time')\n",
    "    ax1.set_ylabel('Time', fontsize=14)\n",
    "    ax2.set_ylabel('R2', fontsize=14)\n",
    "    plt.show()"
   ]
  },
  {
   "cell_type": "code",
   "execution_count": null,
   "metadata": {},
   "outputs": [],
   "source": [
    "# # Instantiate the model\n",
    "# model = LinearRegression()\n",
    "\n",
    "# # Train the model on the Training data\n",
    "# model.fit(X, y)"
   ]
  },
  {
   "cell_type": "code",
   "execution_count": null,
   "metadata": {},
   "outputs": [],
   "source": [
    "# # Slope\n",
    "# slope = model.coef_[0]\n",
    "# print(f\"{slope=}\")\n",
    "\n",
    "# # Intercept\n",
    "# intercept = model.intercept_\n",
    "# print(f\"{intercept=}\")"
   ]
  },
  {
   "cell_type": "code",
   "execution_count": null,
   "metadata": {},
   "outputs": [],
   "source": [
    "# Prediction\n",
    "\n",
    "# PUT REAL DATA\n",
    "#new_datapoint = pd.DataFrame.from_dict({'mp': [1000]})"
   ]
  },
  {
   "cell_type": "code",
   "execution_count": null,
   "metadata": {},
   "outputs": [],
   "source": [
    "# # Make a prediction with the model\n",
    "# prediction = None\n",
    "# prediction = model.predict(new_datapoint)[0]\n",
    "# prediction"
   ]
  }
 ],
 "metadata": {
  "kernelspec": {
   "display_name": "bike_sharing_demand",
   "language": "python",
   "name": "python3"
  },
  "language_info": {
   "codemirror_mode": {
    "name": "ipython",
    "version": 3
   },
   "file_extension": ".py",
   "mimetype": "text/x-python",
   "name": "python",
   "nbconvert_exporter": "python",
   "pygments_lexer": "ipython3",
   "version": "3.10.6"
  },
  "orig_nbformat": 4
 },
 "nbformat": 4,
 "nbformat_minor": 2
}
