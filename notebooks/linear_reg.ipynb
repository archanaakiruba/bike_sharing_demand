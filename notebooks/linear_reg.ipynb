{
 "cells": [
  {
   "cell_type": "code",
   "execution_count": 24,
   "metadata": {},
   "outputs": [],
   "source": [
    "import pandas as pd\n",
    "import matplotlib.pyplot as plt\n",
    "import seaborn as sns\n",
    "import numpy as np\n",
    "\n",
    "from sklearn.linear_model import LinearRegression\n",
    "from sklearn.model_selection import cross_validate, cross_val_score, train_test_split\n",
    "\n",
    "from bikesharing.ml_logic.model import get_folds, train_test_indices\n",
    "from bikesharing.interface.main import *"
   ]
  },
  {
   "cell_type": "code",
   "execution_count": 2,
   "metadata": {},
   "outputs": [
    {
     "name": "stdout",
     "output_type": "stream",
     "text": [
      "\u001b[34m\n",
      "Preprocessing Data...\u001b[0m\n",
      "\u001b[34m\n",
      "Load rental_data from local CSV...\u001b[0m\n"
     ]
    },
    {
     "name": "stderr",
     "output_type": "stream",
     "text": [
      "/Users/azetxxx/Documents/Obsidian_Vault/Le_Wagon/08_week_wagon/group_project/shoefer987/bike_sharing_demand/bikesharing/ml_logic/data.py:33: DtypeWarning: Columns (7,9) have mixed types. Specify dtype option on import or set low_memory=False.\n",
      "  df = pd.read_csv(cache_path, header='infer' if data_has_header else None)\n"
     ]
    },
    {
     "name": "stdout",
     "output_type": "stream",
     "text": [
      "✅ Data loaded, with shape (2804147, 10)\n",
      "\u001b[34m\n",
      "Load weather_data from local CSV...\u001b[0m\n",
      "✅ Data loaded, with shape (35064, 6)\n",
      "✅ X_processed, with shape (35064, 11)\n"
     ]
    },
    {
     "data": {
      "text/plain": [
       "(       temperature_2m  relativehumidity_2m  apparent_temperature  \\\n",
       " 0            0.355408             1.000000              0.342007   \n",
       " 1            0.357616             0.987013              0.340149   \n",
       " 2            0.359823             1.000000              0.336431   \n",
       " 3            0.359823             0.987013              0.332714   \n",
       " 4            0.359823             1.000000              0.332714   \n",
       " ...               ...                  ...                   ...   \n",
       " 35059        0.426049             0.779221              0.405204   \n",
       " 35060        0.412804             0.779221              0.395911   \n",
       " 35061        0.410596             0.753247              0.390335   \n",
       " 35062        0.417219             0.714286              0.390335   \n",
       " 35063        0.415011             0.701299              0.394052   \n",
       " \n",
       "        windspeed_10m  precipitation  is_holiday  is_weekend  hour_sin  \\\n",
       " 0           0.227848       0.017391    0.629410    0.982963      0.75   \n",
       " 1           0.245570       0.008696    0.750000    0.933013      0.75   \n",
       " 2           0.303797       0.017391    0.853553    0.853553      0.75   \n",
       " 3           0.341772       0.008696    0.933013    0.750000      0.75   \n",
       " 4           0.356962       0.000000    0.982963    0.629410      0.75   \n",
       " ...              ...            ...         ...         ...       ...   \n",
       " 35059       0.202532       0.000000    0.066987    0.750000      0.50   \n",
       " 35060       0.172152       0.000000    0.146447    0.853553      0.50   \n",
       " 35061       0.182278       0.000000    0.250000    0.933013      0.50   \n",
       " 35062       0.222785       0.000000    0.370590    0.982963      0.50   \n",
       " 35063       0.172152       0.000000    0.500000    1.000000      0.50   \n",
       " \n",
       "        hour_cos  month_sin  month_cos  day_sin  day_cos  \n",
       " 0      0.933013   0.600779   0.989739        1        0  \n",
       " 1      0.933013   0.600779   0.989739        1        0  \n",
       " 2      0.933013   0.600779   0.989739        1        0  \n",
       " 3      0.933013   0.600779   0.989739        1        0  \n",
       " 4      0.933013   0.600779   0.989739        1        0  \n",
       " ...         ...        ...        ...      ...      ...  \n",
       " 35059  1.000000   0.500000   1.000000        0        1  \n",
       " 35060  1.000000   0.500000   1.000000        0        1  \n",
       " 35061  1.000000   0.500000   1.000000        0        1  \n",
       " 35062  1.000000   0.500000   1.000000        0        1  \n",
       " 35063  1.000000   0.500000   1.000000        0        1  \n",
       " \n",
       " [35064 rows x 13 columns],\n",
       "        Altstadt-Lehel  Au - Haidhausen  Aubing-Lochhausen-Langwied  \\\n",
       " 0                 1.0              0.0                         0.0   \n",
       " 1                 0.0              0.0                         0.0   \n",
       " 2                 1.0              1.0                         0.0   \n",
       " 3                 0.0              4.0                         0.0   \n",
       " 4                 2.0              1.0                         0.0   \n",
       " ...               ...              ...                         ...   \n",
       " 35059             5.0              4.0                         0.0   \n",
       " 35060             4.0              1.0                         0.0   \n",
       " 35061             0.0              3.0                         0.0   \n",
       " 35062             5.0              3.0                         0.0   \n",
       " 35063             1.0              5.0                         0.0   \n",
       " \n",
       "        Berg am Laim  Bogenhausen  Feldmoching  Hadern  Harlaching  \\\n",
       " 0               0.0          0.0          0.0     0.0         0.0   \n",
       " 1               0.0          2.0          0.0     0.0         0.0   \n",
       " 2               0.0          2.0          0.0     0.0         0.0   \n",
       " 3               0.0          0.0          0.0     0.0         0.0   \n",
       " 4               0.0          0.0          0.0     0.0         0.0   \n",
       " ...             ...          ...          ...     ...         ...   \n",
       " 35059           1.0          1.0          0.0     1.0         0.0   \n",
       " 35060           0.0          1.0          0.0     0.0         0.0   \n",
       " 35061           0.0          1.0          0.0     0.0         0.0   \n",
       " 35062           0.0          5.0          0.0     0.0         0.0   \n",
       " 35063           0.0          1.0          0.0     0.0         0.0   \n",
       " \n",
       "        Hasenbergl-Lerchenau Ost  Laim  ...  Schwanthalerhöhe  Sendling  \\\n",
       " 0                           0.0   0.0  ...               0.0       0.0   \n",
       " 1                           0.0   0.0  ...               0.0       2.0   \n",
       " 2                           0.0   3.0  ...               0.0       5.0   \n",
       " 3                           0.0   1.0  ...               3.0       0.0   \n",
       " 4                           0.0   1.0  ...               1.0       0.0   \n",
       " ...                         ...   ...  ...               ...       ...   \n",
       " 35059                       0.0   0.0  ...               3.0       5.0   \n",
       " 35060                       0.0   0.0  ...               1.0       1.0   \n",
       " 35061                       0.0   0.0  ...               1.0       2.0   \n",
       " 35062                       0.0   0.0  ...               1.0       1.0   \n",
       " 35063                       0.0   0.0  ...               0.0       1.0   \n",
       " \n",
       "        Sendling-Westpark  Südgiesing  Thalkirchen  Trudering  Trudering-Riem  \\\n",
       " 0                    2.0         0.0          0.0        0.0             0.0   \n",
       " 1                    0.0         0.0          0.0        0.0             0.0   \n",
       " 2                    0.0         0.0          0.0        0.0             0.0   \n",
       " 3                    0.0         0.0          0.0        0.0             0.0   \n",
       " 4                    1.0         0.0          0.0        0.0             0.0   \n",
       " ...                  ...         ...          ...        ...             ...   \n",
       " 35059                0.0         1.0          1.0        0.0             0.0   \n",
       " 35060                2.0         0.0          0.0        0.0             0.0   \n",
       " 35061                0.0         0.0          0.0        0.0             0.0   \n",
       " 35062                0.0         0.0          0.0        0.0             0.0   \n",
       " 35063                0.0         0.0          1.0        0.0             0.0   \n",
       " \n",
       "        Untergiesing  Untergiesing-Harlaching  Untermenzing-Allach  \n",
       " 0               0.0                      0.0                  0.0  \n",
       " 1               1.0                      1.0                  0.0  \n",
       " 2               1.0                      1.0                  0.0  \n",
       " 3               1.0                      1.0                  0.0  \n",
       " 4               0.0                      0.0                  0.0  \n",
       " ...             ...                      ...                  ...  \n",
       " 35059           2.0                      2.0                  0.0  \n",
       " 35060           1.0                      1.0                  0.0  \n",
       " 35061           0.0                      0.0                  0.0  \n",
       " 35062           1.0                      1.0                  0.0  \n",
       " 35063           0.0                      0.0                  0.0  \n",
       " \n",
       " [35064 rows x 34 columns])"
      ]
     },
     "execution_count": 2,
     "metadata": {},
     "output_type": "execute_result"
    }
   ],
   "source": [
    "preprocess()"
   ]
  },
  {
   "cell_type": "code",
   "execution_count": 3,
   "metadata": {},
   "outputs": [],
   "source": [
    "df_X = pd.read_csv('~/.lewagon/bikesharing/data/processed/X_processed_from_2019_to_2022.csv')\n",
    "df_y = pd.read_csv('~/.lewagon/bikesharing/data/processed/y_processed_from_2019_to_2022.csv')\n"
   ]
  },
  {
   "cell_type": "code",
   "execution_count": 4,
   "metadata": {},
   "outputs": [],
   "source": [
    "df_X_y = pd.concat((df_X, df_y) , axis=1)"
   ]
  },
  {
   "cell_type": "code",
   "execution_count": 33,
   "metadata": {},
   "outputs": [],
   "source": [
    "FOLD_LENGTH = 8760 \n",
    "FOLD_STRIDE = 8760\n",
    "TRAIN_TEST_RATIO = 0.8 # train-test-split ratio of 2/3\n",
    "INPUT_LENGTH = 336 # 24 h * 14 days -> 2 weeks of input\n",
    "OUTPUT_LENGTH = 24"
   ]
  },
  {
   "cell_type": "code",
   "execution_count": 34,
   "metadata": {},
   "outputs": [],
   "source": [
    "districts = ['Altstadt-Lehel', 'Au - Haidhausen',\n",
    "       'Aubing-Lochhausen-Langwied', 'Berg am Laim', 'Bogenhausen',\n",
    "       'Feldmoching', 'Hadern', 'Harlaching', 'Hasenbergl-Lerchenau Ost',\n",
    "       'Laim', 'Lochhausen', 'Ludwigsvorstadt-Isarvorstadt', 'Maxvorstadt',\n",
    "       'Milbertshofen-Am Hart', 'Moosach', 'Neuhausen-Nymphenburg',\n",
    "       'Obergiesing', 'Obermenzing', 'Obersendling', 'Pasing',\n",
    "       'Pasing-Obermenzing', 'Ramersdorf-Perlach', 'Schwabing-Freimann',\n",
    "       'Schwabing-West', 'Schwanthalerhöhe', 'Sendling', 'Sendling-Westpark',\n",
    "       'Südgiesing', 'Thalkirchen', 'Trudering', 'Trudering-Riem',\n",
    "       'Untergiesing', 'Untergiesing-Harlaching', 'Untermenzing-Allach']"
   ]
  },
  {
   "cell_type": "code",
   "execution_count": 45,
   "metadata": {},
   "outputs": [],
   "source": [
    "fold_dfs = get_folds(df_X_y, fold_length=FOLD_LENGTH, fold_stride=FOLD_STRIDE)"
   ]
  },
  {
   "cell_type": "code",
   "execution_count": 60,
   "metadata": {},
   "outputs": [],
   "source": [
    "model = LinearRegression()\n",
    "scores = []\n",
    "indices = [0, 1, 2, 3]\n",
    "\n",
    "for id in range(4):\n",
    "    \n",
    "    test_df = fold_dfs[id]\n",
    "    train_folds = [fold_dfs[i] for i in indices if i != id]\n",
    "    \n",
    "    train_df = pd.concat(train_folds, axis=0)\n",
    "    X_test = test_df.drop(columns= districts)\n",
    "    y_test = test_df['Maxvorstadt']\n",
    "    X_train = train_df.drop(columns= districts)\n",
    "    y_train = train_df['Maxvorstadt']\n",
    "    \n",
    "    model.fit(X_train, y_train)\n",
    "    scores.append(model.score(X_test, y_test))\n",
    "    \n",
    "score_mean = np.mean(scores)"
   ]
  },
  {
   "cell_type": "code",
   "execution_count": 59,
   "metadata": {},
   "outputs": [
    {
     "data": {
      "text/plain": [
       "[0.5281543776462376, 0.4874392592323423, 0.549115990806111, 0.5107388792115835]"
      ]
     },
     "execution_count": 59,
     "metadata": {},
     "output_type": "execute_result"
    }
   ],
   "source": [
    "scores"
   ]
  },
  {
   "cell_type": "code",
   "execution_count": 52,
   "metadata": {},
   "outputs": [],
   "source": [
    "# model = LinearRegression()\n",
    "# scores = []\n",
    "# indices = [0, 1, 2, 3]\n",
    "\n",
    "# test_df = fold_dfs[0]\n",
    "# train_folds = [fold_dfs[i] for i in indices if i != 0]\n",
    "# train_df = pd.concat(train_folds, axis=0)\n",
    "# X_test = test_df.drop(columns= districts)\n",
    "# y_test = test_df['Maxvorstadt']\n",
    "# X_train = train_df.drop(columns= districts)\n",
    "# y_train = train_df['Maxvorstadt']\n"
   ]
  },
  {
   "cell_type": "code",
   "execution_count": 53,
   "metadata": {},
   "outputs": [],
   "source": [
    "model.fit(X_train, y_train)\n",
    "scores.append(model.score(X_test, y_test))"
   ]
  },
  {
   "cell_type": "code",
   "execution_count": 54,
   "metadata": {},
   "outputs": [
    {
     "data": {
      "text/plain": [
       "[0.5281543776462376]"
      ]
     },
     "execution_count": 54,
     "metadata": {},
     "output_type": "execute_result"
    }
   ],
   "source": [
    "scores"
   ]
  },
  {
   "cell_type": "code",
   "execution_count": null,
   "metadata": {},
   "outputs": [],
   "source": []
  },
  {
   "cell_type": "code",
   "execution_count": null,
   "metadata": {},
   "outputs": [],
   "source": []
  },
  {
   "cell_type": "code",
   "execution_count": null,
   "metadata": {},
   "outputs": [],
   "source": []
  },
  {
   "cell_type": "code",
   "execution_count": null,
   "metadata": {},
   "outputs": [],
   "source": []
  },
  {
   "cell_type": "code",
   "execution_count": null,
   "metadata": {},
   "outputs": [],
   "source": []
  }
 ],
 "metadata": {
  "kernelspec": {
   "display_name": "bike_sharing_demand",
   "language": "python",
   "name": "python3"
  },
  "language_info": {
   "codemirror_mode": {
    "name": "ipython",
    "version": 3
   },
   "file_extension": ".py",
   "mimetype": "text/x-python",
   "name": "python",
   "nbconvert_exporter": "python",
   "pygments_lexer": "ipython3",
   "version": "3.10.6"
  },
  "orig_nbformat": 4
 },
 "nbformat": 4,
 "nbformat_minor": 2
}
