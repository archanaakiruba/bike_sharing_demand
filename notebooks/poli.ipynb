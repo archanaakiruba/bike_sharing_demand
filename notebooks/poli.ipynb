{
 "cells": [
  {
   "cell_type": "code",
   "execution_count": 37,
   "metadata": {},
   "outputs": [],
   "source": [
    "import pandas as pd\n",
    "import matplotlib.pyplot as plt\n",
    "import seaborn as sns\n",
    "import numpy as np\n",
    "\n",
    "from sklearn.linear_model import LinearRegression\n",
    "from sklearn.model_selection import cross_validate, cross_val_score, train_test_split\n",
    "from sklearn.model_selection import cross_val_score\n",
    "from sklearn.metrics import mean_squared_error, r2_score\n",
    "\n",
    "\n",
    "from bikesharing.ml_logic.model import get_folds, train_test_indices\n",
    "from bikesharing.interface.main import *\n",
    "\n"
   ]
  },
  {
   "cell_type": "code",
   "execution_count": 38,
   "metadata": {},
   "outputs": [],
   "source": [
    "import pandas as pd\n",
    "import numpy as np\n",
    "\n",
    "from sklearn.preprocessing import PolynomialFeatures\n",
    "from sklearn.pipeline import make_pipeline\n",
    "from sklearn.linear_model import LinearRegression\n"
   ]
  },
  {
   "cell_type": "code",
   "execution_count": 11,
   "metadata": {},
   "outputs": [],
   "source": [
    "# # Some test data\n",
    "# X = pd.DataFrame({'x': [300, 170, 288, 360, 319, 330, 520, 345, 399, 479]})\n",
    "# y = pd.DataFrame({'y': [305000, 270000, 360000, 370000, 379000, 405000, 407500, 450000, 450000, 485000]})\n",
    "# X_seq = np.linspace(min(X['x']), max(X['x']), 300).reshape(-1, 1)"
   ]
  },
  {
   "cell_type": "code",
   "execution_count": 7,
   "metadata": {},
   "outputs": [
    {
     "name": "stdout",
     "output_type": "stream",
     "text": [
      "\u001b[34m\n",
      "Load preprocessed data from local CSV...\u001b[0m\n"
     ]
    },
    {
     "data": {
      "text/plain": [
       "(       temperature_2m  relativehumidity_2m  apparent_temperature  \\\n",
       " 0            0.355408             1.000000              0.342007   \n",
       " 1            0.357616             0.987013              0.340149   \n",
       " 2            0.359823             1.000000              0.336431   \n",
       " 3            0.359823             0.987013              0.332714   \n",
       " 4            0.359823             1.000000              0.332714   \n",
       " ...               ...                  ...                   ...   \n",
       " 35035        0.426049             0.779221              0.405204   \n",
       " 35036        0.412804             0.779221              0.395911   \n",
       " 35037        0.410596             0.753247              0.390335   \n",
       " 35038        0.417219             0.714286              0.390335   \n",
       " 35039        0.415011             0.701299              0.394052   \n",
       " \n",
       "        windspeed_10m  precipitation  hour_sin  hour_cos  month_sin  month_cos  \\\n",
       " 0           0.227848       0.017391  0.629410  0.982963       0.75   0.933013   \n",
       " 1           0.245570       0.008696  0.750000  0.933013       0.75   0.933013   \n",
       " 2           0.303797       0.017391  0.853553  0.853553       0.75   0.933013   \n",
       " 3           0.341772       0.008696  0.933013  0.750000       0.75   0.933013   \n",
       " 4           0.356962       0.000000  0.982963  0.629410       0.75   0.933013   \n",
       " ...              ...            ...       ...       ...        ...        ...   \n",
       " 35035       0.202532       0.000000  0.066987  0.750000       0.50   1.000000   \n",
       " 35036       0.172152       0.000000  0.146447  0.853553       0.50   1.000000   \n",
       " 35037       0.182278       0.000000  0.250000  0.933013       0.50   1.000000   \n",
       " 35038       0.222785       0.000000  0.370590  0.982963       0.50   1.000000   \n",
       " 35039       0.172152       0.000000  0.500000  1.000000       0.50   1.000000   \n",
       " \n",
       "         day_sin   day_cos  is_holiday  is_weekend  \n",
       " 0      0.600779  0.989739           1           0  \n",
       " 1      0.600779  0.989739           1           0  \n",
       " 2      0.600779  0.989739           1           0  \n",
       " 3      0.600779  0.989739           1           0  \n",
       " 4      0.600779  0.989739           1           0  \n",
       " ...         ...       ...         ...         ...  \n",
       " 35035  0.500000  1.000000           0           1  \n",
       " 35036  0.500000  1.000000           0           1  \n",
       " 35037  0.500000  1.000000           0           1  \n",
       " 35038  0.500000  1.000000           0           1  \n",
       " 35039  0.500000  1.000000           0           1  \n",
       " \n",
       " [35040 rows x 13 columns],\n",
       "        Altstadt-Lehel  Au - Haidhausen  Aubing-Lochhausen-Langwied  \\\n",
       " 0                 1.0              0.0                         0.0   \n",
       " 1                 0.0              0.0                         0.0   \n",
       " 2                 1.0              1.0                         0.0   \n",
       " 3                 0.0              4.0                         0.0   \n",
       " 4                 2.0              1.0                         0.0   \n",
       " ...               ...              ...                         ...   \n",
       " 35035             5.0              4.0                         0.0   \n",
       " 35036             4.0              1.0                         0.0   \n",
       " 35037             0.0              3.0                         0.0   \n",
       " 35038             5.0              3.0                         0.0   \n",
       " 35039             1.0              5.0                         0.0   \n",
       " \n",
       "        Berg am Laim  Bogenhausen  Feldmoching  Hadern  Harlaching  \\\n",
       " 0               0.0          0.0          0.0     0.0         0.0   \n",
       " 1               0.0          2.0          0.0     0.0         0.0   \n",
       " 2               0.0          2.0          0.0     0.0         0.0   \n",
       " 3               0.0          0.0          0.0     0.0         0.0   \n",
       " 4               0.0          0.0          0.0     0.0         0.0   \n",
       " ...             ...          ...          ...     ...         ...   \n",
       " 35035           1.0          1.0          0.0     1.0         0.0   \n",
       " 35036           0.0          1.0          0.0     0.0         0.0   \n",
       " 35037           0.0          1.0          0.0     0.0         0.0   \n",
       " 35038           0.0          5.0          0.0     0.0         0.0   \n",
       " 35039           0.0          1.0          0.0     0.0         0.0   \n",
       " \n",
       "        Hasenbergl-Lerchenau Ost  Laim  ...  Schwanthalerhöhe  Sendling  \\\n",
       " 0                           0.0   0.0  ...               0.0       0.0   \n",
       " 1                           0.0   0.0  ...               0.0       2.0   \n",
       " 2                           0.0   3.0  ...               0.0       5.0   \n",
       " 3                           0.0   1.0  ...               3.0       0.0   \n",
       " 4                           0.0   1.0  ...               1.0       0.0   \n",
       " ...                         ...   ...  ...               ...       ...   \n",
       " 35035                       0.0   0.0  ...               3.0       5.0   \n",
       " 35036                       0.0   0.0  ...               1.0       1.0   \n",
       " 35037                       0.0   0.0  ...               1.0       2.0   \n",
       " 35038                       0.0   0.0  ...               1.0       1.0   \n",
       " 35039                       0.0   0.0  ...               0.0       1.0   \n",
       " \n",
       "        Sendling-Westpark  Südgiesing  Thalkirchen  Trudering  Trudering-Riem  \\\n",
       " 0                    2.0         0.0          0.0        0.0             0.0   \n",
       " 1                    0.0         0.0          0.0        0.0             0.0   \n",
       " 2                    0.0         0.0          0.0        0.0             0.0   \n",
       " 3                    0.0         0.0          0.0        0.0             0.0   \n",
       " 4                    1.0         0.0          0.0        0.0             0.0   \n",
       " ...                  ...         ...          ...        ...             ...   \n",
       " 35035                0.0         1.0          1.0        0.0             0.0   \n",
       " 35036                2.0         0.0          0.0        0.0             0.0   \n",
       " 35037                0.0         0.0          0.0        0.0             0.0   \n",
       " 35038                0.0         0.0          0.0        0.0             0.0   \n",
       " 35039                0.0         0.0          1.0        0.0             0.0   \n",
       " \n",
       "        Untergiesing  Untergiesing-Harlaching  Untermenzing-Allach  \n",
       " 0               0.0                      0.0                  0.0  \n",
       " 1               1.0                      1.0                  0.0  \n",
       " 2               1.0                      1.0                  0.0  \n",
       " 3               1.0                      1.0                  0.0  \n",
       " 4               0.0                      0.0                  0.0  \n",
       " ...             ...                      ...                  ...  \n",
       " 35035           2.0                      2.0                  0.0  \n",
       " 35036           1.0                      1.0                  0.0  \n",
       " 35037           0.0                      0.0                  0.0  \n",
       " 35038           1.0                      1.0                  0.0  \n",
       " 35039           0.0                      0.0                  0.0  \n",
       " \n",
       " [35040 rows x 34 columns])"
      ]
     },
     "execution_count": 7,
     "metadata": {},
     "output_type": "execute_result"
    }
   ],
   "source": [
    "# preprocess()"
   ]
  },
  {
   "cell_type": "code",
   "execution_count": 44,
   "metadata": {},
   "outputs": [],
   "source": [
    "df_X = pd.read_csv('~/.lewagon/bikesharing/data/processed/X_processed_from_2019_to_2022.csv')\n",
    "df_y = pd.read_csv('~/.lewagon/bikesharing/data/processed/y_processed_from_2019_to_2022.csv')\n"
   ]
  },
  {
   "cell_type": "code",
   "execution_count": 45,
   "metadata": {},
   "outputs": [
    {
     "data": {
      "text/plain": [
       "Index(['temperature_2m', 'relativehumidity_2m', 'apparent_temperature',\n",
       "       'windspeed_10m', 'precipitation', 'hour_sin', 'hour_cos', 'month_sin',\n",
       "       'month_cos', 'day_sin', 'day_cos', 'is_holiday', 'is_weekend'],\n",
       "      dtype='object')"
      ]
     },
     "execution_count": 45,
     "metadata": {},
     "output_type": "execute_result"
    }
   ],
   "source": [
    "df_X.columns"
   ]
  },
  {
   "cell_type": "code",
   "execution_count": 72,
   "metadata": {},
   "outputs": [],
   "source": [
    "df_X_y = pd.concat((df_X, df_y) , axis=1)"
   ]
  },
  {
   "cell_type": "code",
   "execution_count": 69,
   "metadata": {},
   "outputs": [],
   "source": [
    "X = df_X[['temperature_2m', 'relativehumidity_2m', 'apparent_temperature',\n",
    "       'windspeed_10m', 'precipitation']]\n",
    "y = df_y['Maxvorstadt']"
   ]
  },
  {
   "cell_type": "code",
   "execution_count": 70,
   "metadata": {},
   "outputs": [],
   "source": []
  },
  {
   "cell_type": "code",
   "execution_count": 59,
   "metadata": {},
   "outputs": [],
   "source": [
    "districts = ['Altstadt-Lehel', 'Au - Haidhausen',\n",
    "            'Aubing-Lochhausen-Langwied', \n",
    "            'Berg am Laim', 'Bogenhausen',\n",
    "            'Feldmoching', \n",
    "            'Hadern', 'Harlaching', \n",
    "            'Hasenbergl-Lerchenau Ost',\n",
    "            'Laim', 'Lochhausen', 'Ludwigsvorstadt-Isarvorstadt', 'Maxvorstadt',\n",
    "            'Milbertshofen-Am Hart', 'Moosach', 'Neuhausen-Nymphenburg',\n",
    "            'Obergiesing', \n",
    "            'Obermenzing', \n",
    "            'Obersendling', 'Pasing',\n",
    "            'Pasing-Obermenzing', 'Ramersdorf-Perlach', 'Schwabing-Freimann',\n",
    "            'Schwabing-West', 'Schwanthalerhöhe', 'Sendling', 'Sendling-Westpark',\n",
    "            'Südgiesing', 'Thalkirchen', 'Trudering', 'Trudering-Riem',\n",
    "            'Untergiesing', 'Untergiesing-Harlaching', \n",
    "            'Untermenzing-Allach'\n",
    "        ]"
   ]
  },
  {
   "cell_type": "code",
   "execution_count": null,
   "metadata": {},
   "outputs": [],
   "source": [
    "# LOOP THROUGH ALL DISTRICTS"
   ]
  },
  {
   "cell_type": "code",
   "execution_count": 62,
   "metadata": {},
   "outputs": [],
   "source": [
    "# X = df_X[['temperature_2m', 'relativehumidity_2m', 'apparent_temperature',\n",
    "#        'windspeed_10m', 'precipitation']]\n",
    "# y = df_y['Maxvorstadt']"
   ]
  },
  {
   "cell_type": "code",
   "execution_count": 63,
   "metadata": {},
   "outputs": [],
   "source": [
    "df_X_y = pd.concat((df_X, df_y) , axis=1)"
   ]
  },
  {
   "cell_type": "code",
   "execution_count": 64,
   "metadata": {},
   "outputs": [],
   "source": [
    "fold_dfs = get_folds(df_X_y, fold_length=FOLD_LENGTH, fold_stride=FOLD_STRIDE)"
   ]
  },
  {
   "cell_type": "code",
   "execution_count": 73,
   "metadata": {},
   "outputs": [],
   "source": [
    "from sklearn.metrics import r2_score,mean_squared_error"
   ]
  },
  {
   "cell_type": "code",
   "execution_count": null,
   "metadata": {},
   "outputs": [],
   "source": []
  },
  {
   "cell_type": "code",
   "execution_count": 79,
   "metadata": {},
   "outputs": [
    {
     "ename": "ValueError",
     "evalue": "Found input variables with inconsistent numbers of samples: [26280, 35040]",
     "output_type": "error",
     "traceback": [
      "\u001b[0;31m---------------------------------------------------------------------------\u001b[0m",
      "\u001b[0;31mValueError\u001b[0m                                Traceback (most recent call last)",
      "Cell \u001b[0;32mIn[79], line 25\u001b[0m\n\u001b[1;32m     22\u001b[0m X_poly \u001b[39m=\u001b[39m poly_features\u001b[39m.\u001b[39mfit_transform(X_train)\n\u001b[1;32m     24\u001b[0m model \u001b[39m=\u001b[39m LinearRegression()\n\u001b[0;32m---> 25\u001b[0m model\u001b[39m.\u001b[39;49mfit(X_poly, y)\n\u001b[1;32m     27\u001b[0m \u001b[39m# y_pred = [x if x >= 0 else 0 for x in model.predict(X_test)]\u001b[39;00m\n\u001b[1;32m     28\u001b[0m y_pred \u001b[39m=\u001b[39m model\u001b[39m.\u001b[39mpredict(X_test)\n",
      "File \u001b[0;32m~/.pyenv/versions/3.10.6/envs/bike_sharing_demand/lib/python3.10/site-packages/sklearn/linear_model/_base.py:648\u001b[0m, in \u001b[0;36mLinearRegression.fit\u001b[0;34m(self, X, y, sample_weight)\u001b[0m\n\u001b[1;32m    644\u001b[0m n_jobs_ \u001b[39m=\u001b[39m \u001b[39mself\u001b[39m\u001b[39m.\u001b[39mn_jobs\n\u001b[1;32m    646\u001b[0m accept_sparse \u001b[39m=\u001b[39m \u001b[39mFalse\u001b[39;00m \u001b[39mif\u001b[39;00m \u001b[39mself\u001b[39m\u001b[39m.\u001b[39mpositive \u001b[39melse\u001b[39;00m [\u001b[39m\"\u001b[39m\u001b[39mcsr\u001b[39m\u001b[39m\"\u001b[39m, \u001b[39m\"\u001b[39m\u001b[39mcsc\u001b[39m\u001b[39m\"\u001b[39m, \u001b[39m\"\u001b[39m\u001b[39mcoo\u001b[39m\u001b[39m\"\u001b[39m]\n\u001b[0;32m--> 648\u001b[0m X, y \u001b[39m=\u001b[39m \u001b[39mself\u001b[39;49m\u001b[39m.\u001b[39;49m_validate_data(\n\u001b[1;32m    649\u001b[0m     X, y, accept_sparse\u001b[39m=\u001b[39;49maccept_sparse, y_numeric\u001b[39m=\u001b[39;49m\u001b[39mTrue\u001b[39;49;00m, multi_output\u001b[39m=\u001b[39;49m\u001b[39mTrue\u001b[39;49;00m\n\u001b[1;32m    650\u001b[0m )\n\u001b[1;32m    652\u001b[0m sample_weight \u001b[39m=\u001b[39m _check_sample_weight(\n\u001b[1;32m    653\u001b[0m     sample_weight, X, dtype\u001b[39m=\u001b[39mX\u001b[39m.\u001b[39mdtype, only_non_negative\u001b[39m=\u001b[39m\u001b[39mTrue\u001b[39;00m\n\u001b[1;32m    654\u001b[0m )\n\u001b[1;32m    656\u001b[0m X, y, X_offset, y_offset, X_scale \u001b[39m=\u001b[39m _preprocess_data(\n\u001b[1;32m    657\u001b[0m     X,\n\u001b[1;32m    658\u001b[0m     y,\n\u001b[0;32m   (...)\u001b[0m\n\u001b[1;32m    661\u001b[0m     sample_weight\u001b[39m=\u001b[39msample_weight,\n\u001b[1;32m    662\u001b[0m )\n",
      "File \u001b[0;32m~/.pyenv/versions/3.10.6/envs/bike_sharing_demand/lib/python3.10/site-packages/sklearn/base.py:584\u001b[0m, in \u001b[0;36mBaseEstimator._validate_data\u001b[0;34m(self, X, y, reset, validate_separately, **check_params)\u001b[0m\n\u001b[1;32m    582\u001b[0m         y \u001b[39m=\u001b[39m check_array(y, input_name\u001b[39m=\u001b[39m\u001b[39m\"\u001b[39m\u001b[39my\u001b[39m\u001b[39m\"\u001b[39m, \u001b[39m*\u001b[39m\u001b[39m*\u001b[39mcheck_y_params)\n\u001b[1;32m    583\u001b[0m     \u001b[39melse\u001b[39;00m:\n\u001b[0;32m--> 584\u001b[0m         X, y \u001b[39m=\u001b[39m check_X_y(X, y, \u001b[39m*\u001b[39;49m\u001b[39m*\u001b[39;49mcheck_params)\n\u001b[1;32m    585\u001b[0m     out \u001b[39m=\u001b[39m X, y\n\u001b[1;32m    587\u001b[0m \u001b[39mif\u001b[39;00m \u001b[39mnot\u001b[39;00m no_val_X \u001b[39mand\u001b[39;00m check_params\u001b[39m.\u001b[39mget(\u001b[39m\"\u001b[39m\u001b[39mensure_2d\u001b[39m\u001b[39m\"\u001b[39m, \u001b[39mTrue\u001b[39;00m):\n",
      "File \u001b[0;32m~/.pyenv/versions/3.10.6/envs/bike_sharing_demand/lib/python3.10/site-packages/sklearn/utils/validation.py:1124\u001b[0m, in \u001b[0;36mcheck_X_y\u001b[0;34m(X, y, accept_sparse, accept_large_sparse, dtype, order, copy, force_all_finite, ensure_2d, allow_nd, multi_output, ensure_min_samples, ensure_min_features, y_numeric, estimator)\u001b[0m\n\u001b[1;32m   1106\u001b[0m X \u001b[39m=\u001b[39m check_array(\n\u001b[1;32m   1107\u001b[0m     X,\n\u001b[1;32m   1108\u001b[0m     accept_sparse\u001b[39m=\u001b[39maccept_sparse,\n\u001b[0;32m   (...)\u001b[0m\n\u001b[1;32m   1119\u001b[0m     input_name\u001b[39m=\u001b[39m\u001b[39m\"\u001b[39m\u001b[39mX\u001b[39m\u001b[39m\"\u001b[39m,\n\u001b[1;32m   1120\u001b[0m )\n\u001b[1;32m   1122\u001b[0m y \u001b[39m=\u001b[39m _check_y(y, multi_output\u001b[39m=\u001b[39mmulti_output, y_numeric\u001b[39m=\u001b[39my_numeric, estimator\u001b[39m=\u001b[39mestimator)\n\u001b[0;32m-> 1124\u001b[0m check_consistent_length(X, y)\n\u001b[1;32m   1126\u001b[0m \u001b[39mreturn\u001b[39;00m X, y\n",
      "File \u001b[0;32m~/.pyenv/versions/3.10.6/envs/bike_sharing_demand/lib/python3.10/site-packages/sklearn/utils/validation.py:397\u001b[0m, in \u001b[0;36mcheck_consistent_length\u001b[0;34m(*arrays)\u001b[0m\n\u001b[1;32m    395\u001b[0m uniques \u001b[39m=\u001b[39m np\u001b[39m.\u001b[39munique(lengths)\n\u001b[1;32m    396\u001b[0m \u001b[39mif\u001b[39;00m \u001b[39mlen\u001b[39m(uniques) \u001b[39m>\u001b[39m \u001b[39m1\u001b[39m:\n\u001b[0;32m--> 397\u001b[0m     \u001b[39mraise\u001b[39;00m \u001b[39mValueError\u001b[39;00m(\n\u001b[1;32m    398\u001b[0m         \u001b[39m\"\u001b[39m\u001b[39mFound input variables with inconsistent numbers of samples: \u001b[39m\u001b[39m%r\u001b[39;00m\u001b[39m\"\u001b[39m\n\u001b[1;32m    399\u001b[0m         \u001b[39m%\u001b[39m [\u001b[39mint\u001b[39m(l) \u001b[39mfor\u001b[39;00m l \u001b[39min\u001b[39;00m lengths]\n\u001b[1;32m    400\u001b[0m     )\n",
      "\u001b[0;31mValueError\u001b[0m: Found input variables with inconsistent numbers of samples: [26280, 35040]"
     ]
    }
   ],
   "source": [
    "models = []\n",
    "district_score_means = []\n",
    "\n",
    "for dist in districts:\n",
    "    scores_list = []\n",
    "\n",
    "    indices = [0, 1, 2, 3]\n",
    "        \n",
    "    for id in range(4):\n",
    "        test_df = fold_dfs[id]\n",
    "        train_folds = [fold_dfs[i] for i in indices if i != id]\n",
    "        \n",
    "        train_df = pd.concat(train_folds, axis=0)\n",
    "        X_test = test_df.drop(columns= districts)\n",
    "        y_test = test_df[dist]\n",
    "        X_train = train_df.drop(columns= districts)\n",
    "        y_train = train_df[dist]\n",
    "        \n",
    "        \n",
    "        degree = 2 \n",
    "        poly_features = PolynomialFeatures(degree=degree)\n",
    "        X_poly = poly_features.fit_transform(X_train)\n",
    "        \n",
    "        model = LinearRegression()\n",
    "        model.fit(X_poly, y)\n",
    "    \n",
    "        # y_pred = [x if x >= 0 else 0 for x in model.predict(X_test)]\n",
    "        y_pred = model.predict(X_test)\n",
    "        scores = r2_score(y_test , y_pred)\n",
    "        # scores = np.sqrt(mean_squared_error(y_test, model.predict(X_test)))\n",
    "        scores_list.append(scores)\n",
    "        print(f\"{id} >>> scores={scores_list}\")\n",
    "        \n",
    "        \n",
    "    scores_array = np.array(scores)\n",
    "    district_score_means.append(np.mean(scores_array.flatten()))"
   ]
  },
  {
   "cell_type": "code",
   "execution_count": null,
   "metadata": {},
   "outputs": [],
   "source": [
    "# Predict using the trained model\n",
    "y_pred = model.predict(X_poly)\n",
    "\n",
    "# Calculate the mean squared error\n",
    "mse = mean_squared_error(y, y_pred)\n",
    "# r2_score = r2_score(y, y_pred)\n",
    "\n",
    "print(\"Mean Squared Error:\", mse)\n",
    "# print(\"R2:\", r2_score)"
   ]
  },
  {
   "cell_type": "code",
   "execution_count": null,
   "metadata": {},
   "outputs": [],
   "source": []
  },
  {
   "cell_type": "code",
   "execution_count": null,
   "metadata": {},
   "outputs": [],
   "source": []
  },
  {
   "cell_type": "code",
   "execution_count": 55,
   "metadata": {},
   "outputs": [],
   "source": [
    "############"
   ]
  },
  {
   "cell_type": "code",
   "execution_count": 67,
   "metadata": {},
   "outputs": [
    {
     "name": "stdout",
     "output_type": "stream",
     "text": [
      "Squared Mean Squared Error: 8.695652310991832\n"
     ]
    }
   ],
   "source": [
    "X = df_X[['temperature_2m', 'relativehumidity_2m', 'apparent_temperature',\n",
    "       'windspeed_10m', 'precipitation']]\n",
    "y = df_y['Maxvorstadt']\n",
    "\n",
    "degree = 2 \n",
    "poly_features = PolynomialFeatures(degree=degree)\n",
    "X_poly = poly_features.fit_transform(X)\n",
    "\n",
    "# Train a linear regression model\n",
    "model = LinearRegression()\n",
    "model.fit(X_poly, y)\n",
    "\n",
    "# Predict using the trained model\n",
    "y_pred = model.predict(X_poly)\n",
    "\n",
    "# Calculate the mean squared error\n",
    "mse = mean_squared_error(y, y_pred)\n",
    "rmse = np.sqrt(mean_squared_error(y, y_pred))\n",
    "# r2_score = r2_score(y, y_pred)\n",
    "\n",
    "# print(\"Mean Squared Error:\", mse)\n",
    "print(\"Squared Mean Squared Error:\", rmse)\n",
    "# print(\"R2:\", r2_score)"
   ]
  },
  {
   "cell_type": "code",
   "execution_count": null,
   "metadata": {},
   "outputs": [],
   "source": []
  },
  {
   "cell_type": "code",
   "execution_count": null,
   "metadata": {},
   "outputs": [],
   "source": []
  },
  {
   "cell_type": "code",
   "execution_count": null,
   "metadata": {},
   "outputs": [],
   "source": []
  },
  {
   "cell_type": "code",
   "execution_count": null,
   "metadata": {},
   "outputs": [],
   "source": []
  },
  {
   "cell_type": "code",
   "execution_count": null,
   "metadata": {},
   "outputs": [],
   "source": []
  }
 ],
 "metadata": {
  "kernelspec": {
   "display_name": "bike_sharing_demand",
   "language": "python",
   "name": "python3"
  },
  "language_info": {
   "codemirror_mode": {
    "name": "ipython",
    "version": 3
   },
   "file_extension": ".py",
   "mimetype": "text/x-python",
   "name": "python",
   "nbconvert_exporter": "python",
   "pygments_lexer": "ipython3",
   "version": "3.10.6"
  },
  "orig_nbformat": 4
 },
 "nbformat": 4,
 "nbformat_minor": 2
}
