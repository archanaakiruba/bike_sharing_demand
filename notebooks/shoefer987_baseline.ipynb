{
 "cells": [
  {
   "cell_type": "code",
   "execution_count": 6,
   "metadata": {},
   "outputs": [],
   "source": [
    "import pandas as pd\n",
    "import numpy as np\n",
    "import matplotlib.pyplot as plt\n",
    "import seaborn as sns\n",
    "from google.cloud import bigquery\n",
    "from dateutil.parser import parse\n",
    "import os\n",
    "from pathlib import Path\n",
    "from bikesharing.ml_logic.data import get_raw_data\n",
    "from bikesharing.params import *"
   ]
  },
  {
   "cell_type": "code",
   "execution_count": 2,
   "metadata": {},
   "outputs": [],
   "source": [
    "query =f'''\n",
    "        SELECT *\n",
    "        FROM `{GCP_PROJECT}.{BQ_DATASET}.raw_data_mvg`\n",
    "    '''"
   ]
  },
  {
   "cell_type": "code",
   "execution_count": 4,
   "metadata": {},
   "outputs": [
    {
     "name": "stdout",
     "output_type": "stream",
     "text": [
      "\u001b[34m\n",
      "Load data from BigQuery server...\u001b[0m\n",
      "columns: Index(['STARTTIME', 'ENDTIME', 'STARTLAT', 'STARTLON', 'ENDLAT', 'ENDLON',\n",
      "       'RENTAL_IS_STATION', 'RENTAL_STATION_NAME', 'RETURN_IS_STATION',\n",
      "       'RETURN_STATION_NAME'],\n",
      "      dtype='object')\n",
      "✅ Data loaded, with shape (2804147, 10)\n"
     ]
    },
    {
     "data": {
      "text/plain": [
       "(2804147, 10)"
      ]
     },
     "execution_count": 4,
     "metadata": {},
     "output_type": "execute_result"
    }
   ],
   "source": [
    "mvg_data = get_raw_data(GCP_PROJECT, query=query, cache_path=Path(f'{LOCAL_DATA_PATH}/raw/raw_{START_YEAR}_to_{END_YEAR}.csv'))\n",
    "mvg_data.shape"
   ]
  },
  {
   "cell_type": "code",
   "execution_count": 5,
   "metadata": {},
   "outputs": [
    {
     "name": "stdout",
     "output_type": "stream",
     "text": [
      "<class 'pandas.core.frame.DataFrame'>\n",
      "RangeIndex: 2804147 entries, 0 to 2804146\n",
      "Data columns (total 10 columns):\n",
      " #   Column               Dtype         \n",
      "---  ------               -----         \n",
      " 0   STARTTIME            datetime64[ns]\n",
      " 1   ENDTIME              object        \n",
      " 2   STARTLAT             float64       \n",
      " 3   STARTLON             float64       \n",
      " 4   ENDLAT               float64       \n",
      " 5   ENDLON               float64       \n",
      " 6   RENTAL_IS_STATION    float64       \n",
      " 7   RENTAL_STATION_NAME  object        \n",
      " 8   RETURN_IS_STATION    float64       \n",
      " 9   RETURN_STATION_NAME  object        \n",
      "dtypes: datetime64[ns](1), float64(6), object(3)\n",
      "memory usage: 213.9+ MB\n"
     ]
    }
   ],
   "source": [
    "mvg_data.info()"
   ]
  },
  {
   "cell_type": "code",
   "execution_count": 7,
   "metadata": {},
   "outputs": [],
   "source": [
    "min_date = parse('2022-01-01').strftime('%Y-%m-%d')\n",
    "df_test = mvg_data[mvg_data['STARTTIME'] >= min_date]"
   ]
  },
  {
   "cell_type": "code",
   "execution_count": 10,
   "metadata": {},
   "outputs": [
    {
     "data": {
      "text/html": [
       "<div>\n",
       "<style scoped>\n",
       "    .dataframe tbody tr th:only-of-type {\n",
       "        vertical-align: middle;\n",
       "    }\n",
       "\n",
       "    .dataframe tbody tr th {\n",
       "        vertical-align: top;\n",
       "    }\n",
       "\n",
       "    .dataframe thead th {\n",
       "        text-align: right;\n",
       "    }\n",
       "</style>\n",
       "<table border=\"1\" class=\"dataframe\">\n",
       "  <thead>\n",
       "    <tr style=\"text-align: right;\">\n",
       "      <th></th>\n",
       "      <th>STARTTIME</th>\n",
       "      <th>ENDTIME</th>\n",
       "      <th>STARTLAT</th>\n",
       "      <th>STARTLON</th>\n",
       "      <th>ENDLAT</th>\n",
       "      <th>ENDLON</th>\n",
       "      <th>RENTAL_IS_STATION</th>\n",
       "      <th>RENTAL_STATION_NAME</th>\n",
       "      <th>RETURN_IS_STATION</th>\n",
       "      <th>RETURN_STATION_NAME</th>\n",
       "    </tr>\n",
       "  </thead>\n",
       "  <tbody>\n",
       "    <tr>\n",
       "      <th>2804142</th>\n",
       "      <td>2022-12-17 19:39:00</td>\n",
       "      <td>2022-12-17 19:42</td>\n",
       "      <td>48.161991</td>\n",
       "      <td>11.58654</td>\n",
       "      <td>48.161251</td>\n",
       "      <td>11.59206</td>\n",
       "      <td>1.0</td>\n",
       "      <td>Münchner Freiheit</td>\n",
       "      <td>0.0</td>\n",
       "      <td>None</td>\n",
       "    </tr>\n",
       "    <tr>\n",
       "      <th>2804143</th>\n",
       "      <td>2022-12-20 19:40:00</td>\n",
       "      <td>2022-12-20 19:48</td>\n",
       "      <td>48.161991</td>\n",
       "      <td>11.58654</td>\n",
       "      <td>48.162029</td>\n",
       "      <td>11.56343</td>\n",
       "      <td>1.0</td>\n",
       "      <td>Münchner Freiheit</td>\n",
       "      <td>0.0</td>\n",
       "      <td>None</td>\n",
       "    </tr>\n",
       "    <tr>\n",
       "      <th>2804144</th>\n",
       "      <td>2022-12-22 17:03:00</td>\n",
       "      <td>2022-12-22 17:15</td>\n",
       "      <td>48.161991</td>\n",
       "      <td>11.58654</td>\n",
       "      <td>48.180382</td>\n",
       "      <td>11.59943</td>\n",
       "      <td>1.0</td>\n",
       "      <td>Münchner Freiheit</td>\n",
       "      <td>0.0</td>\n",
       "      <td>None</td>\n",
       "    </tr>\n",
       "    <tr>\n",
       "      <th>2804145</th>\n",
       "      <td>2022-12-28 09:42:00</td>\n",
       "      <td>2022-12-28 09:58</td>\n",
       "      <td>48.161991</td>\n",
       "      <td>11.58654</td>\n",
       "      <td>48.162739</td>\n",
       "      <td>11.57268</td>\n",
       "      <td>1.0</td>\n",
       "      <td>Münchner Freiheit</td>\n",
       "      <td>0.0</td>\n",
       "      <td>None</td>\n",
       "    </tr>\n",
       "    <tr>\n",
       "      <th>2804146</th>\n",
       "      <td>2022-12-31 10:01:00</td>\n",
       "      <td>2022-12-31 10:19</td>\n",
       "      <td>48.161991</td>\n",
       "      <td>11.58654</td>\n",
       "      <td>48.157879</td>\n",
       "      <td>11.57722</td>\n",
       "      <td>1.0</td>\n",
       "      <td>Münchner Freiheit</td>\n",
       "      <td>0.0</td>\n",
       "      <td>None</td>\n",
       "    </tr>\n",
       "  </tbody>\n",
       "</table>\n",
       "</div>"
      ],
      "text/plain": [
       "                  STARTTIME           ENDTIME   STARTLAT  STARTLON     ENDLAT  \\\n",
       "2804142 2022-12-17 19:39:00  2022-12-17 19:42  48.161991  11.58654  48.161251   \n",
       "2804143 2022-12-20 19:40:00  2022-12-20 19:48  48.161991  11.58654  48.162029   \n",
       "2804144 2022-12-22 17:03:00  2022-12-22 17:15  48.161991  11.58654  48.180382   \n",
       "2804145 2022-12-28 09:42:00  2022-12-28 09:58  48.161991  11.58654  48.162739   \n",
       "2804146 2022-12-31 10:01:00  2022-12-31 10:19  48.161991  11.58654  48.157879   \n",
       "\n",
       "           ENDLON  RENTAL_IS_STATION RENTAL_STATION_NAME  RETURN_IS_STATION  \\\n",
       "2804142  11.59206                1.0   Münchner Freiheit                0.0   \n",
       "2804143  11.56343                1.0   Münchner Freiheit                0.0   \n",
       "2804144  11.59943                1.0   Münchner Freiheit                0.0   \n",
       "2804145  11.57268                1.0   Münchner Freiheit                0.0   \n",
       "2804146  11.57722                1.0   Münchner Freiheit                0.0   \n",
       "\n",
       "        RETURN_STATION_NAME  \n",
       "2804142                None  \n",
       "2804143                None  \n",
       "2804144                None  \n",
       "2804145                None  \n",
       "2804146                None  "
      ]
     },
     "execution_count": 10,
     "metadata": {},
     "output_type": "execute_result"
    }
   ],
   "source": [
    "df_test.tail()"
   ]
  },
  {
   "cell_type": "code",
   "execution_count": null,
   "metadata": {},
   "outputs": [],
   "source": []
  }
 ],
 "metadata": {
  "kernelspec": {
   "display_name": "bike_sharing_demand",
   "language": "python",
   "name": "python3"
  },
  "language_info": {
   "codemirror_mode": {
    "name": "ipython",
    "version": 3
   },
   "file_extension": ".py",
   "mimetype": "text/x-python",
   "name": "python",
   "nbconvert_exporter": "python",
   "pygments_lexer": "ipython3",
   "version": "3.10.6"
  },
  "orig_nbformat": 4
 },
 "nbformat": 4,
 "nbformat_minor": 2
}
