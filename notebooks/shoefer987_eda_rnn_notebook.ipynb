{
 "cells": [
  {
   "cell_type": "code",
   "execution_count": 1,
   "metadata": {},
   "outputs": [],
   "source": [
    "import pandas as pd\n",
    "import numpy as np\n",
    "import matplotlib.pyplot as plt\n",
    "import seaborn as sns\n",
    "from google.cloud import bigquery\n",
    "from dateutil.parser import parse\n",
    "import os\n",
    "from pathlib import Path\n",
    "from bikesharing.ml_logic.data import get_raw_data, get_polygons\n",
    "from bikesharing.ml_logic.encoders import encode_district_label\n",
    "from bikesharing.params import *"
   ]
  },
  {
   "cell_type": "code",
   "execution_count": 2,
   "metadata": {},
   "outputs": [],
   "source": [
    "query =f'''\n",
    "        SELECT *\n",
    "        FROM `{GCP_PROJECT}.{BQ_DATASET}.raw_data_mvg`\n",
    "    '''"
   ]
  },
  {
   "cell_type": "code",
   "execution_count": 3,
   "metadata": {},
   "outputs": [
    {
     "name": "stdout",
     "output_type": "stream",
     "text": [
      "\u001b[34m\n",
      "Load data from local CSV...\u001b[0m\n"
     ]
    },
    {
     "name": "stderr",
     "output_type": "stream",
     "text": [
      "/home/sandra/code/shoefer987/bike_sharing_demand/bikesharing/ml_logic/data.py:33: DtypeWarning: Columns (7,9) have mixed types. Specify dtype option on import or set low_memory=False.\n",
      "  df = pd.read_csv(cache_path, header='infer' if data_has_header else None)\n"
     ]
    },
    {
     "name": "stdout",
     "output_type": "stream",
     "text": [
      "✅ Data loaded, with shape (2804147, 10)\n"
     ]
    },
    {
     "data": {
      "text/plain": [
       "(2804147, 10)"
      ]
     },
     "execution_count": 3,
     "metadata": {},
     "output_type": "execute_result"
    }
   ],
   "source": [
    "mvg_data = get_raw_data(GCP_PROJECT, query=query, cache_path=Path(f'{LOCAL_DATA_PATH}/raw/raw_{START_YEAR}_to_{END_YEAR}.csv'))\n",
    "mvg_data.shape"
   ]
  },
  {
   "cell_type": "code",
   "execution_count": 4,
   "metadata": {},
   "outputs": [
    {
     "name": "stdout",
     "output_type": "stream",
     "text": [
      "<class 'pandas.core.frame.DataFrame'>\n",
      "RangeIndex: 2804147 entries, 0 to 2804146\n",
      "Data columns (total 10 columns):\n",
      " #   Column               Dtype  \n",
      "---  ------               -----  \n",
      " 0   STARTTIME            object \n",
      " 1   ENDTIME              object \n",
      " 2   STARTLAT             float64\n",
      " 3   STARTLON             float64\n",
      " 4   ENDLAT               float64\n",
      " 5   ENDLON               float64\n",
      " 6   RENTAL_IS_STATION    float64\n",
      " 7   RENTAL_STATION_NAME  object \n",
      " 8   RETURN_IS_STATION    float64\n",
      " 9   RETURN_STATION_NAME  object \n",
      "dtypes: float64(6), object(4)\n",
      "memory usage: 213.9+ MB\n"
     ]
    }
   ],
   "source": [
    "mvg_data.info()"
   ]
  },
  {
   "cell_type": "code",
   "execution_count": 5,
   "metadata": {},
   "outputs": [],
   "source": [
    "df = mvg_data[['STARTTIME', 'STARTLAT', 'STARTLON']]"
   ]
  },
  {
   "cell_type": "code",
   "execution_count": 6,
   "metadata": {},
   "outputs": [
    {
     "data": {
      "text/html": [
       "<div>\n",
       "<style scoped>\n",
       "    .dataframe tbody tr th:only-of-type {\n",
       "        vertical-align: middle;\n",
       "    }\n",
       "\n",
       "    .dataframe tbody tr th {\n",
       "        vertical-align: top;\n",
       "    }\n",
       "\n",
       "    .dataframe thead th {\n",
       "        text-align: right;\n",
       "    }\n",
       "</style>\n",
       "<table border=\"1\" class=\"dataframe\">\n",
       "  <thead>\n",
       "    <tr style=\"text-align: right;\">\n",
       "      <th></th>\n",
       "      <th>STARTTIME</th>\n",
       "      <th>Altstadt-Lehel</th>\n",
       "      <th>Au - Haidhausen</th>\n",
       "      <th>Aubing-Lochhausen-Langwied</th>\n",
       "      <th>Berg am Laim</th>\n",
       "      <th>Bogenhausen</th>\n",
       "      <th>Feldmoching</th>\n",
       "      <th>Hadern</th>\n",
       "      <th>Harlaching</th>\n",
       "      <th>Hasenbergl-Lerchenau Ost</th>\n",
       "      <th>...</th>\n",
       "      <th>Schwanthalerhöhe</th>\n",
       "      <th>Sendling</th>\n",
       "      <th>Sendling-Westpark</th>\n",
       "      <th>Südgiesing</th>\n",
       "      <th>Thalkirchen</th>\n",
       "      <th>Trudering</th>\n",
       "      <th>Trudering-Riem</th>\n",
       "      <th>Untergiesing</th>\n",
       "      <th>Untergiesing-Harlaching</th>\n",
       "      <th>Untermenzing-Allach</th>\n",
       "    </tr>\n",
       "  </thead>\n",
       "  <tbody>\n",
       "    <tr>\n",
       "      <th>2</th>\n",
       "      <td>2019-01-01 15:29:00</td>\n",
       "      <td>0.0</td>\n",
       "      <td>0.0</td>\n",
       "      <td>0.0</td>\n",
       "      <td>0.0</td>\n",
       "      <td>0.0</td>\n",
       "      <td>0.0</td>\n",
       "      <td>0.0</td>\n",
       "      <td>0.0</td>\n",
       "      <td>0.0</td>\n",
       "      <td>...</td>\n",
       "      <td>0.0</td>\n",
       "      <td>0.0</td>\n",
       "      <td>0.0</td>\n",
       "      <td>0.0</td>\n",
       "      <td>0.0</td>\n",
       "      <td>0.0</td>\n",
       "      <td>0.0</td>\n",
       "      <td>0.0</td>\n",
       "      <td>0.0</td>\n",
       "      <td>0.0</td>\n",
       "    </tr>\n",
       "    <tr>\n",
       "      <th>34</th>\n",
       "      <td>2019-01-05 12:19:00</td>\n",
       "      <td>0.0</td>\n",
       "      <td>0.0</td>\n",
       "      <td>0.0</td>\n",
       "      <td>0.0</td>\n",
       "      <td>0.0</td>\n",
       "      <td>0.0</td>\n",
       "      <td>0.0</td>\n",
       "      <td>0.0</td>\n",
       "      <td>0.0</td>\n",
       "      <td>...</td>\n",
       "      <td>0.0</td>\n",
       "      <td>0.0</td>\n",
       "      <td>0.0</td>\n",
       "      <td>0.0</td>\n",
       "      <td>0.0</td>\n",
       "      <td>0.0</td>\n",
       "      <td>0.0</td>\n",
       "      <td>0.0</td>\n",
       "      <td>0.0</td>\n",
       "      <td>0.0</td>\n",
       "    </tr>\n",
       "    <tr>\n",
       "      <th>37</th>\n",
       "      <td>2019-01-06 08:31:00</td>\n",
       "      <td>0.0</td>\n",
       "      <td>0.0</td>\n",
       "      <td>0.0</td>\n",
       "      <td>0.0</td>\n",
       "      <td>0.0</td>\n",
       "      <td>0.0</td>\n",
       "      <td>0.0</td>\n",
       "      <td>0.0</td>\n",
       "      <td>0.0</td>\n",
       "      <td>...</td>\n",
       "      <td>0.0</td>\n",
       "      <td>0.0</td>\n",
       "      <td>0.0</td>\n",
       "      <td>0.0</td>\n",
       "      <td>0.0</td>\n",
       "      <td>0.0</td>\n",
       "      <td>0.0</td>\n",
       "      <td>0.0</td>\n",
       "      <td>0.0</td>\n",
       "      <td>0.0</td>\n",
       "    </tr>\n",
       "    <tr>\n",
       "      <th>44</th>\n",
       "      <td>2019-01-07 17:32:00</td>\n",
       "      <td>0.0</td>\n",
       "      <td>0.0</td>\n",
       "      <td>0.0</td>\n",
       "      <td>0.0</td>\n",
       "      <td>0.0</td>\n",
       "      <td>0.0</td>\n",
       "      <td>0.0</td>\n",
       "      <td>0.0</td>\n",
       "      <td>0.0</td>\n",
       "      <td>...</td>\n",
       "      <td>0.0</td>\n",
       "      <td>0.0</td>\n",
       "      <td>0.0</td>\n",
       "      <td>0.0</td>\n",
       "      <td>0.0</td>\n",
       "      <td>0.0</td>\n",
       "      <td>0.0</td>\n",
       "      <td>0.0</td>\n",
       "      <td>0.0</td>\n",
       "      <td>0.0</td>\n",
       "    </tr>\n",
       "    <tr>\n",
       "      <th>52</th>\n",
       "      <td>2019-01-08 08:59:00</td>\n",
       "      <td>0.0</td>\n",
       "      <td>0.0</td>\n",
       "      <td>0.0</td>\n",
       "      <td>0.0</td>\n",
       "      <td>0.0</td>\n",
       "      <td>0.0</td>\n",
       "      <td>0.0</td>\n",
       "      <td>0.0</td>\n",
       "      <td>0.0</td>\n",
       "      <td>...</td>\n",
       "      <td>0.0</td>\n",
       "      <td>0.0</td>\n",
       "      <td>0.0</td>\n",
       "      <td>0.0</td>\n",
       "      <td>0.0</td>\n",
       "      <td>0.0</td>\n",
       "      <td>0.0</td>\n",
       "      <td>0.0</td>\n",
       "      <td>0.0</td>\n",
       "      <td>0.0</td>\n",
       "    </tr>\n",
       "  </tbody>\n",
       "</table>\n",
       "<p>5 rows × 35 columns</p>\n",
       "</div>"
      ],
      "text/plain": [
       "              STARTTIME  Altstadt-Lehel  Au - Haidhausen  \\\n",
       "2   2019-01-01 15:29:00             0.0              0.0   \n",
       "34  2019-01-05 12:19:00             0.0              0.0   \n",
       "37  2019-01-06 08:31:00             0.0              0.0   \n",
       "44  2019-01-07 17:32:00             0.0              0.0   \n",
       "52  2019-01-08 08:59:00             0.0              0.0   \n",
       "\n",
       "    Aubing-Lochhausen-Langwied  Berg am Laim  Bogenhausen  Feldmoching  \\\n",
       "2                          0.0           0.0          0.0          0.0   \n",
       "34                         0.0           0.0          0.0          0.0   \n",
       "37                         0.0           0.0          0.0          0.0   \n",
       "44                         0.0           0.0          0.0          0.0   \n",
       "52                         0.0           0.0          0.0          0.0   \n",
       "\n",
       "    Hadern  Harlaching  Hasenbergl-Lerchenau Ost  ...  Schwanthalerhöhe  \\\n",
       "2      0.0         0.0                       0.0  ...               0.0   \n",
       "34     0.0         0.0                       0.0  ...               0.0   \n",
       "37     0.0         0.0                       0.0  ...               0.0   \n",
       "44     0.0         0.0                       0.0  ...               0.0   \n",
       "52     0.0         0.0                       0.0  ...               0.0   \n",
       "\n",
       "    Sendling  Sendling-Westpark  Südgiesing  Thalkirchen  Trudering  \\\n",
       "2        0.0                0.0         0.0          0.0        0.0   \n",
       "34       0.0                0.0         0.0          0.0        0.0   \n",
       "37       0.0                0.0         0.0          0.0        0.0   \n",
       "44       0.0                0.0         0.0          0.0        0.0   \n",
       "52       0.0                0.0         0.0          0.0        0.0   \n",
       "\n",
       "    Trudering-Riem  Untergiesing  Untergiesing-Harlaching  Untermenzing-Allach  \n",
       "2              0.0           0.0                      0.0                  0.0  \n",
       "34             0.0           0.0                      0.0                  0.0  \n",
       "37             0.0           0.0                      0.0                  0.0  \n",
       "44             0.0           0.0                      0.0                  0.0  \n",
       "52             0.0           0.0                      0.0                  0.0  \n",
       "\n",
       "[5 rows x 35 columns]"
      ]
     },
     "execution_count": 6,
     "metadata": {},
     "output_type": "execute_result"
    }
   ],
   "source": [
    "polygons = get_polygons()\n",
    "df_districts = encode_district_label(df, polygons=polygons)\n",
    "df_districts.head()"
   ]
  },
  {
   "cell_type": "code",
   "execution_count": 10,
   "metadata": {},
   "outputs": [],
   "source": [
    "df_districts.to_csv(f'{LOCAL_DATA_PATH}/processed/df_districts.csv', index=False)"
   ]
  },
  {
   "cell_type": "code",
   "execution_count": 12,
   "metadata": {},
   "outputs": [
    {
     "ename": "",
     "evalue": "",
     "output_type": "error",
     "traceback": [
      "\u001b[1;31mCanceled future for execute_request message before replies were done"
     ]
    },
    {
     "ename": "",
     "evalue": "",
     "output_type": "error",
     "traceback": [
      "\u001b[1;31mThe Kernel crashed while executing code in the the current cell or a previous cell. Please review the code in the cell(s) to identify a possible cause of the failure. Click <a href='https://aka.ms/vscodeJupyterKernelCrash'>here</a> for more info. View Jupyter <a href='command:jupyter.viewOutput'>log</a> for further details."
     ]
    }
   ],
   "source": [
    "data = df.merge(df_districts, on='STARTTIME')\n",
    "data.head()"
   ]
  },
  {
   "cell_type": "code",
   "execution_count": null,
   "metadata": {},
   "outputs": [],
   "source": [
    "data.to_csv(f'{LOCAL_DATA_PATH}/processed/data_with_districts.csv', index=False)"
   ]
  },
  {
   "cell_type": "code",
   "execution_count": 7,
   "metadata": {},
   "outputs": [],
   "source": [
    "min_date = parse('2022-01-01').strftime('%Y-%m-%d')\n",
    "df_test = mvg_data[mvg_data['STARTTIME'] >= min_date]"
   ]
  },
  {
   "cell_type": "code",
   "execution_count": 8,
   "metadata": {},
   "outputs": [
    {
     "data": {
      "text/html": [
       "<div>\n",
       "<style scoped>\n",
       "    .dataframe tbody tr th:only-of-type {\n",
       "        vertical-align: middle;\n",
       "    }\n",
       "\n",
       "    .dataframe tbody tr th {\n",
       "        vertical-align: top;\n",
       "    }\n",
       "\n",
       "    .dataframe thead th {\n",
       "        text-align: right;\n",
       "    }\n",
       "</style>\n",
       "<table border=\"1\" class=\"dataframe\">\n",
       "  <thead>\n",
       "    <tr style=\"text-align: right;\">\n",
       "      <th></th>\n",
       "      <th>STARTTIME</th>\n",
       "      <th>ENDTIME</th>\n",
       "      <th>STARTLAT</th>\n",
       "      <th>STARTLON</th>\n",
       "      <th>ENDLAT</th>\n",
       "      <th>ENDLON</th>\n",
       "      <th>RENTAL_IS_STATION</th>\n",
       "      <th>RENTAL_STATION_NAME</th>\n",
       "      <th>RETURN_IS_STATION</th>\n",
       "      <th>RETURN_STATION_NAME</th>\n",
       "    </tr>\n",
       "  </thead>\n",
       "  <tbody>\n",
       "    <tr>\n",
       "      <th>2804142</th>\n",
       "      <td>2022-12-17 19:39:00</td>\n",
       "      <td>2022-12-17 19:42</td>\n",
       "      <td>48.161991</td>\n",
       "      <td>11.58654</td>\n",
       "      <td>48.161251</td>\n",
       "      <td>11.59206</td>\n",
       "      <td>1.0</td>\n",
       "      <td>Münchner Freiheit</td>\n",
       "      <td>0.0</td>\n",
       "      <td>NaN</td>\n",
       "    </tr>\n",
       "    <tr>\n",
       "      <th>2804143</th>\n",
       "      <td>2022-12-20 19:40:00</td>\n",
       "      <td>2022-12-20 19:48</td>\n",
       "      <td>48.161991</td>\n",
       "      <td>11.58654</td>\n",
       "      <td>48.162029</td>\n",
       "      <td>11.56343</td>\n",
       "      <td>1.0</td>\n",
       "      <td>Münchner Freiheit</td>\n",
       "      <td>0.0</td>\n",
       "      <td>NaN</td>\n",
       "    </tr>\n",
       "    <tr>\n",
       "      <th>2804144</th>\n",
       "      <td>2022-12-22 17:03:00</td>\n",
       "      <td>2022-12-22 17:15</td>\n",
       "      <td>48.161991</td>\n",
       "      <td>11.58654</td>\n",
       "      <td>48.180382</td>\n",
       "      <td>11.59943</td>\n",
       "      <td>1.0</td>\n",
       "      <td>Münchner Freiheit</td>\n",
       "      <td>0.0</td>\n",
       "      <td>NaN</td>\n",
       "    </tr>\n",
       "    <tr>\n",
       "      <th>2804145</th>\n",
       "      <td>2022-12-28 09:42:00</td>\n",
       "      <td>2022-12-28 09:58</td>\n",
       "      <td>48.161991</td>\n",
       "      <td>11.58654</td>\n",
       "      <td>48.162739</td>\n",
       "      <td>11.57268</td>\n",
       "      <td>1.0</td>\n",
       "      <td>Münchner Freiheit</td>\n",
       "      <td>0.0</td>\n",
       "      <td>NaN</td>\n",
       "    </tr>\n",
       "    <tr>\n",
       "      <th>2804146</th>\n",
       "      <td>2022-12-31 10:01:00</td>\n",
       "      <td>2022-12-31 10:19</td>\n",
       "      <td>48.161991</td>\n",
       "      <td>11.58654</td>\n",
       "      <td>48.157879</td>\n",
       "      <td>11.57722</td>\n",
       "      <td>1.0</td>\n",
       "      <td>Münchner Freiheit</td>\n",
       "      <td>0.0</td>\n",
       "      <td>NaN</td>\n",
       "    </tr>\n",
       "  </tbody>\n",
       "</table>\n",
       "</div>"
      ],
      "text/plain": [
       "                   STARTTIME           ENDTIME   STARTLAT  STARTLON  \\\n",
       "2804142  2022-12-17 19:39:00  2022-12-17 19:42  48.161991  11.58654   \n",
       "2804143  2022-12-20 19:40:00  2022-12-20 19:48  48.161991  11.58654   \n",
       "2804144  2022-12-22 17:03:00  2022-12-22 17:15  48.161991  11.58654   \n",
       "2804145  2022-12-28 09:42:00  2022-12-28 09:58  48.161991  11.58654   \n",
       "2804146  2022-12-31 10:01:00  2022-12-31 10:19  48.161991  11.58654   \n",
       "\n",
       "            ENDLAT    ENDLON  RENTAL_IS_STATION RENTAL_STATION_NAME  \\\n",
       "2804142  48.161251  11.59206                1.0   Münchner Freiheit   \n",
       "2804143  48.162029  11.56343                1.0   Münchner Freiheit   \n",
       "2804144  48.180382  11.59943                1.0   Münchner Freiheit   \n",
       "2804145  48.162739  11.57268                1.0   Münchner Freiheit   \n",
       "2804146  48.157879  11.57722                1.0   Münchner Freiheit   \n",
       "\n",
       "         RETURN_IS_STATION RETURN_STATION_NAME  \n",
       "2804142                0.0                 NaN  \n",
       "2804143                0.0                 NaN  \n",
       "2804144                0.0                 NaN  \n",
       "2804145                0.0                 NaN  \n",
       "2804146                0.0                 NaN  "
      ]
     },
     "execution_count": 8,
     "metadata": {},
     "output_type": "execute_result"
    }
   ],
   "source": [
    "df_test.tail()"
   ]
  },
  {
   "cell_type": "code",
   "execution_count": 9,
   "metadata": {},
   "outputs": [
    {
     "data": {
      "text/plain": [
       "<function bikesharing.ml_logic.encoders.encode_district_label(rental_df: pandas.core.frame.DataFrame, polygons: dict) -> pandas.core.frame.DataFrame>"
      ]
     },
     "execution_count": 9,
     "metadata": {},
     "output_type": "execute_result"
    }
   ],
   "source": [
    "encode_district_label"
   ]
  }
 ],
 "metadata": {
  "kernelspec": {
   "display_name": "bike_sharing_demand",
   "language": "python",
   "name": "python3"
  },
  "language_info": {
   "codemirror_mode": {
    "name": "ipython",
    "version": 3
   },
   "file_extension": ".py",
   "mimetype": "text/x-python",
   "name": "python",
   "nbconvert_exporter": "python",
   "pygments_lexer": "ipython3",
   "version": "3.10.6"
  },
  "orig_nbformat": 4
 },
 "nbformat": 4,
 "nbformat_minor": 2
}
