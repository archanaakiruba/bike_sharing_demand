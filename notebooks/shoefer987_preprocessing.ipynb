{
 "cells": [
  {
   "cell_type": "code",
   "execution_count": 1,
   "metadata": {},
   "outputs": [],
   "source": [
    "import pandas as pd\n",
    "import numpy as np\n",
    "import matplotlib.pyplot as plt\n",
    "import seaborn as sns\n",
    "from google.cloud import bigquery\n",
    "import os"
   ]
  },
  {
   "cell_type": "code",
   "execution_count": 22,
   "metadata": {},
   "outputs": [],
   "source": [
    "from bikesharing.ml_logic.data import get_data_with_cache\n",
    "from bikesharing.params import *"
   ]
  },
  {
   "attachments": {},
   "cell_type": "markdown",
   "metadata": {},
   "source": [
    "- Remove duplicates\n",
    "- Deal with missing values\n",
    "- Scale the features\n",
    "- Encode features\n",
    "- Perform cyclical engineering"
   ]
  },
  {
   "cell_type": "code",
   "execution_count": 27,
   "metadata": {},
   "outputs": [
    {
     "name": "stderr",
     "output_type": "stream",
     "text": [
      "/tmp/ipykernel_1865/1700516227.py:4: DtypeWarning: Columns (7) have mixed types. Specify dtype option on import or set low_memory=False.\n",
      "  df = pd.read_csv(f'../raw_data/MVG_Rad_Fahrten_{year}.csv', sep=';')\n",
      "/tmp/ipykernel_1865/1700516227.py:4: DtypeWarning: Columns (7,9) have mixed types. Specify dtype option on import or set low_memory=False.\n",
      "  df = pd.read_csv(f'../raw_data/MVG_Rad_Fahrten_{year}.csv', sep=';')\n",
      "/tmp/ipykernel_1865/1700516227.py:4: DtypeWarning: Columns (9) have mixed types. Specify dtype option on import or set low_memory=False.\n",
      "  df = pd.read_csv(f'../raw_data/MVG_Rad_Fahrten_{year}.csv', sep=';')\n"
     ]
    }
   ],
   "source": [
    "dfs = []\n",
    "meta = {'years':[], 'n_columns':[], 'n_rows':[]}\n",
    "for year in range(2019,2023,1):\n",
    "    df = pd.read_csv(f'../raw_data/MVG_Rad_Fahrten_{year}.csv', sep=';')\n",
    "    cols = [col.strip() for col in df.columns]\n",
    "    df.columns = cols\n",
    "    dfs.append(df)\n",
    "    meta['years'].append(year)\n",
    "    meta['n_columns'].append(df.shape[1])\n",
    "    meta['n_rows'].append(df.shape[0])"
   ]
  },
  {
   "cell_type": "code",
   "execution_count": 4,
   "metadata": {},
   "outputs": [
    {
     "data": {
      "text/plain": [
       "4"
      ]
     },
     "execution_count": 4,
     "metadata": {},
     "output_type": "execute_result"
    }
   ],
   "source": [
    "len(dfs)"
   ]
  },
  {
   "cell_type": "code",
   "execution_count": 4,
   "metadata": {},
   "outputs": [
    {
     "name": "stdout",
     "output_type": "stream",
     "text": [
      "(753678, 11)\n",
      "(721752, 11)\n",
      "(619573, 11)\n",
      "(709144, 11)\n"
     ]
    }
   ],
   "source": [
    "for df in dfs:\n",
    "    print(df.shape)"
   ]
  },
  {
   "cell_type": "code",
   "execution_count": 28,
   "metadata": {},
   "outputs": [],
   "source": [
    "data = pd.concat(dfs, axis=0)"
   ]
  },
  {
   "cell_type": "code",
   "execution_count": 29,
   "metadata": {},
   "outputs": [],
   "source": [
    "def pre_process_df(df):\n",
    "  #vstrip column names\n",
    "  cols = [col.strip() for col in df.columns]\n",
    "  df.columns = cols\n",
    "\n",
    "  # remove column 'Row'\n",
    "  if 'Row' in df.columns:\n",
    "    df.drop(columns='Row', inplace=True)\n",
    "\n",
    "  # select relevant columns only\n",
    "  #df = df[['STARTTIME', 'STARTLAT', 'STARTLON', 'RENTAL_IS_STATION']].copy()\n",
    "  \n",
    "  # make string replacements values\n",
    "  df_obj = df.select_dtypes(include='object')\n",
    "  df[df_obj.columns] = df_obj.applymap(lambda x: x.strip().replace(',', '.') if isinstance(x, str) else x)\n",
    "\n",
    "  # handle datetime\n",
    "  df.STARTTIME = pd.to_datetime(df.STARTTIME)\n",
    "\n",
    "  # handle numeric columns\n",
    "  df.replace('NULL', np.NAN, inplace=True)\n",
    "  df.replace('', np.NAN, inplace=True)\n",
    "  df[['STARTLAT', 'STARTLON', 'RENTAL_IS_STATION','ENDLAT', 'ENDLON', 'RETURN_IS_STATION']] = df[['STARTLAT', 'STARTLON', 'RENTAL_IS_STATION','ENDLAT', 'ENDLON', 'RETURN_IS_STATION']].astype(np.float32)\n",
    "  \n",
    "  return df"
   ]
  },
  {
   "cell_type": "code",
   "execution_count": 30,
   "metadata": {},
   "outputs": [],
   "source": [
    "data = pre_process_df(data)"
   ]
  },
  {
   "cell_type": "code",
   "execution_count": 15,
   "metadata": {},
   "outputs": [],
   "source": [
    "def load_data_to_bq(\n",
    "        data: pd.DataFrame,\n",
    "        gcp_project:str,\n",
    "        bq_dataset:str,\n",
    "        table: str,\n",
    "        truncate: bool\n",
    "    ) -> None:\n",
    "    \"\"\"\n",
    "    - Save the DataFrame to BigQuery\n",
    "    - Empty the table beforehand if `truncate` is True, append otherwise\n",
    "    \"\"\"\n",
    "\n",
    "    assert isinstance(data, pd.DataFrame)\n",
    "    full_table_name = f\"{gcp_project}.{bq_dataset}.{table}\"\n",
    "\n",
    "    #print(Fore.BLUE + f\"\\nSave data to BigQuery @ {full_table_name}...:\" + Style.RESET_ALL)\n",
    "\n",
    "\n",
    "    # reset column names\n",
    "    data.columns = [f'_{col}' if isinstance(col, int) else col for col in data.columns]\n",
    "\n",
    "    # Load data onto full_table_name\n",
    "    client = bigquery.Client()\n",
    "\n",
    "    write_mode = \"WRITE_TRUNCATE\" if truncate else \"WRITE_APPEND\"\n",
    "    job_config = bigquery.LoadJobConfig(write_disposition=write_mode)\n",
    "\n",
    "    job = client.load_table_from_dataframe(data, full_table_name, job_config=job_config)\n",
    "\n",
    "    # 🎯 HINT for \"*** TypeError: expected bytes, int found\":\n",
    "    # After preprocessing the data, your original column names are gone (print it to check),\n",
    "    # so ensure that your column names are *strings* that start with either\n",
    "    # a *letter* or an *underscore*, as BQ does not accept anything else\n",
    "\n",
    "    print(f\"✅ Data saved to bigquery, with shape {data.shape}\")\n"
   ]
  },
  {
   "cell_type": "code",
   "execution_count": 31,
   "metadata": {},
   "outputs": [
    {
     "name": "stdout",
     "output_type": "stream",
     "text": [
      "<class 'pandas.core.frame.DataFrame'>\n",
      "Index: 2804147 entries, 0 to 709143\n",
      "Data columns (total 10 columns):\n",
      " #   Column               Dtype         \n",
      "---  ------               -----         \n",
      " 0   STARTTIME            datetime64[ns]\n",
      " 1   ENDTIME              object        \n",
      " 2   STARTLAT             float32       \n",
      " 3   STARTLON             float32       \n",
      " 4   ENDLAT               float32       \n",
      " 5   ENDLON               float32       \n",
      " 6   RENTAL_IS_STATION    float32       \n",
      " 7   RENTAL_STATION_NAME  object        \n",
      " 8   RETURN_IS_STATION    float32       \n",
      " 9   RETURN_STATION_NAME  object        \n",
      "dtypes: datetime64[ns](1), float32(6), object(3)\n",
      "memory usage: 171.2+ MB\n"
     ]
    }
   ],
   "source": [
    "data.info()"
   ]
  },
  {
   "cell_type": "code",
   "execution_count": 32,
   "metadata": {},
   "outputs": [
    {
     "name": "stdout",
     "output_type": "stream",
     "text": [
      "✅ Data saved to bigquery, with shape (2804147, 10)\n"
     ]
    }
   ],
   "source": [
    "load_data_to_bq(\n",
    "        data=data,\n",
    "        gcp_project=os.environ.get(\"GCP_PROJECT\"),\n",
    "        bq_dataset=os.environ.get(\"BQ_DATASET\"),\n",
    "        table='raw_data_mvg',\n",
    "        truncate=True\n",
    "    )"
   ]
  },
  {
   "cell_type": "code",
   "execution_count": 23,
   "metadata": {},
   "outputs": [],
   "source": [
    "query =f'''\n",
    "        SELECT *\n",
    "        FROM `{GCP_PROJECT}.{BQ_DATASET}.raw_data_mvg`\n",
    "    '''"
   ]
  },
  {
   "cell_type": "code",
   "execution_count": 15,
   "metadata": {},
   "outputs": [
    {
     "ename": "TypeError",
     "evalue": "expected str, bytes or os.PathLike object, not NoneType",
     "output_type": "error",
     "traceback": [
      "\u001b[0;31m---------------------------------------------------------------------------\u001b[0m",
      "\u001b[0;31mTypeError\u001b[0m                                 Traceback (most recent call last)",
      "Cell \u001b[0;32mIn[15], line 1\u001b[0m\n\u001b[0;32m----> 1\u001b[0m df \u001b[39m=\u001b[39m get_data_with_cache(GCP_PROJECT, query\u001b[39m=\u001b[39;49mquery, cache_dir\u001b[39m=\u001b[39;49mLOCAL_DATA_PATH)\n\u001b[1;32m      2\u001b[0m df\u001b[39m.\u001b[39mshape\n",
      "File \u001b[0;32m~/code/shoefer987/bike_sharing_demand/bikesharing/ml_logic/data.py:31\u001b[0m, in \u001b[0;36mget_data_with_cache\u001b[0;34m(gcp_project, query, cache_dir, data_has_header)\u001b[0m\n\u001b[1;32m     21\u001b[0m \u001b[39mdef\u001b[39;00m \u001b[39mget_data_with_cache\u001b[39m(\n\u001b[1;32m     22\u001b[0m         gcp_project:\u001b[39mstr\u001b[39m,\n\u001b[1;32m     23\u001b[0m         query:\u001b[39mstr\u001b[39m,\n\u001b[1;32m     24\u001b[0m         cache_dir:\u001b[39mstr\u001b[39m,\n\u001b[1;32m     25\u001b[0m         data_has_header\u001b[39m=\u001b[39m\u001b[39mTrue\u001b[39;00m\n\u001b[1;32m     26\u001b[0m     ) \u001b[39m-\u001b[39m\u001b[39m>\u001b[39m pd\u001b[39m.\u001b[39mDataFrame:\n\u001b[1;32m     27\u001b[0m \u001b[39m    \u001b[39m\u001b[39m\"\"\"\u001b[39;00m\n\u001b[1;32m     28\u001b[0m \u001b[39m    Retrieve `query` data from BigQuery, or from `cache_dir` if a file exists\u001b[39;00m\n\u001b[1;32m     29\u001b[0m \u001b[39m    Store in `cache_dir` if retrieved from BigQuery for future use\u001b[39;00m\n\u001b[1;32m     30\u001b[0m \u001b[39m    \"\"\"\u001b[39;00m\n\u001b[0;32m---> 31\u001b[0m     data_cache_path \u001b[39m=\u001b[39m Path(cache_dir)\u001b[39m.\u001b[39mjoinpath(\u001b[39m\"\u001b[39m\u001b[39mprocessed\u001b[39m\u001b[39m\"\u001b[39m, \u001b[39mf\u001b[39m\u001b[39m\"\u001b[39m\u001b[39mprocessed_\u001b[39m\u001b[39m{\u001b[39;00mSTART_YEAR\u001b[39m}\u001b[39;00m\u001b[39m_\u001b[39m\u001b[39m{\u001b[39;00mEND_YEAR\u001b[39m}\u001b[39;00m\u001b[39m.csv\u001b[39m\u001b[39m\"\u001b[39m)\n\u001b[1;32m     33\u001b[0m     \u001b[39mif\u001b[39;00m data_cache_path\u001b[39m.\u001b[39mis_file():\n\u001b[1;32m     34\u001b[0m         \u001b[39mprint\u001b[39m(Fore\u001b[39m.\u001b[39mBLUE \u001b[39m+\u001b[39m \u001b[39m\"\u001b[39m\u001b[39m\\n\u001b[39;00m\u001b[39mLoad data from local CSV...\u001b[39m\u001b[39m\"\u001b[39m \u001b[39m+\u001b[39m Style\u001b[39m.\u001b[39mRESET_ALL)\n",
      "File \u001b[0;32m~/.pyenv/versions/3.10.6/lib/python3.10/pathlib.py:960\u001b[0m, in \u001b[0;36mPath.__new__\u001b[0;34m(cls, *args, **kwargs)\u001b[0m\n\u001b[1;32m    958\u001b[0m \u001b[39mif\u001b[39;00m \u001b[39mcls\u001b[39m \u001b[39mis\u001b[39;00m Path:\n\u001b[1;32m    959\u001b[0m     \u001b[39mcls\u001b[39m \u001b[39m=\u001b[39m WindowsPath \u001b[39mif\u001b[39;00m os\u001b[39m.\u001b[39mname \u001b[39m==\u001b[39m \u001b[39m'\u001b[39m\u001b[39mnt\u001b[39m\u001b[39m'\u001b[39m \u001b[39melse\u001b[39;00m PosixPath\n\u001b[0;32m--> 960\u001b[0m \u001b[39mself\u001b[39m \u001b[39m=\u001b[39m \u001b[39mcls\u001b[39;49m\u001b[39m.\u001b[39;49m_from_parts(args)\n\u001b[1;32m    961\u001b[0m \u001b[39mif\u001b[39;00m \u001b[39mnot\u001b[39;00m \u001b[39mself\u001b[39m\u001b[39m.\u001b[39m_flavour\u001b[39m.\u001b[39mis_supported:\n\u001b[1;32m    962\u001b[0m     \u001b[39mraise\u001b[39;00m \u001b[39mNotImplementedError\u001b[39;00m(\u001b[39m\"\u001b[39m\u001b[39mcannot instantiate \u001b[39m\u001b[39m%r\u001b[39;00m\u001b[39m on your system\u001b[39m\u001b[39m\"\u001b[39m\n\u001b[1;32m    963\u001b[0m                               \u001b[39m%\u001b[39m (\u001b[39mcls\u001b[39m\u001b[39m.\u001b[39m\u001b[39m__name__\u001b[39m,))\n",
      "File \u001b[0;32m~/.pyenv/versions/3.10.6/lib/python3.10/pathlib.py:594\u001b[0m, in \u001b[0;36mPurePath._from_parts\u001b[0;34m(cls, args)\u001b[0m\n\u001b[1;32m    589\u001b[0m \u001b[39m@classmethod\u001b[39m\n\u001b[1;32m    590\u001b[0m \u001b[39mdef\u001b[39;00m \u001b[39m_from_parts\u001b[39m(\u001b[39mcls\u001b[39m, args):\n\u001b[1;32m    591\u001b[0m     \u001b[39m# We need to call _parse_args on the instance, so as to get the\u001b[39;00m\n\u001b[1;32m    592\u001b[0m     \u001b[39m# right flavour.\u001b[39;00m\n\u001b[1;32m    593\u001b[0m     \u001b[39mself\u001b[39m \u001b[39m=\u001b[39m \u001b[39mobject\u001b[39m\u001b[39m.\u001b[39m\u001b[39m__new__\u001b[39m(\u001b[39mcls\u001b[39m)\n\u001b[0;32m--> 594\u001b[0m     drv, root, parts \u001b[39m=\u001b[39m \u001b[39mself\u001b[39;49m\u001b[39m.\u001b[39;49m_parse_args(args)\n\u001b[1;32m    595\u001b[0m     \u001b[39mself\u001b[39m\u001b[39m.\u001b[39m_drv \u001b[39m=\u001b[39m drv\n\u001b[1;32m    596\u001b[0m     \u001b[39mself\u001b[39m\u001b[39m.\u001b[39m_root \u001b[39m=\u001b[39m root\n",
      "File \u001b[0;32m~/.pyenv/versions/3.10.6/lib/python3.10/pathlib.py:578\u001b[0m, in \u001b[0;36mPurePath._parse_args\u001b[0;34m(cls, args)\u001b[0m\n\u001b[1;32m    576\u001b[0m     parts \u001b[39m+\u001b[39m\u001b[39m=\u001b[39m a\u001b[39m.\u001b[39m_parts\n\u001b[1;32m    577\u001b[0m \u001b[39melse\u001b[39;00m:\n\u001b[0;32m--> 578\u001b[0m     a \u001b[39m=\u001b[39m os\u001b[39m.\u001b[39;49mfspath(a)\n\u001b[1;32m    579\u001b[0m     \u001b[39mif\u001b[39;00m \u001b[39misinstance\u001b[39m(a, \u001b[39mstr\u001b[39m):\n\u001b[1;32m    580\u001b[0m         \u001b[39m# Force-cast str subclasses to str (issue #21127)\u001b[39;00m\n\u001b[1;32m    581\u001b[0m         parts\u001b[39m.\u001b[39mappend(\u001b[39mstr\u001b[39m(a))\n",
      "\u001b[0;31mTypeError\u001b[0m: expected str, bytes or os.PathLike object, not NoneType"
     ]
    }
   ],
   "source": [
    "df = get_data_with_cache(GCP_PROJECT, query=query, cache_dir=LOCAL_DATA_PATH)\n",
    "df.shape"
   ]
  },
  {
   "cell_type": "code",
   "execution_count": null,
   "metadata": {},
   "outputs": [],
   "source": []
  }
 ],
 "metadata": {
  "kernelspec": {
   "display_name": "bike_sharing_demand",
   "language": "python",
   "name": "python3"
  },
  "language_info": {
   "codemirror_mode": {
    "name": "ipython",
    "version": 3
   },
   "file_extension": ".py",
   "mimetype": "text/x-python",
   "name": "python",
   "nbconvert_exporter": "python",
   "pygments_lexer": "ipython3",
   "version": "3.10.6"
  },
  "orig_nbformat": 4
 },
 "nbformat": 4,
 "nbformat_minor": 2
}
